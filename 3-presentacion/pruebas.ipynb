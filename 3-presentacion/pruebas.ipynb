{
 "cells": [
  {
   "cell_type": "markdown",
   "id": "24159410",
   "metadata": {},
   "source": [
    "Nombre del hospital: Nombre del hospital. (Cadena)\n",
    "Dirección: Dirección postal del hospital. (Cadena)\n",
    "Ciudad: Ciudad donde se encuentra el hospital. (Cadena)\n",
    "Estado: Estado donde se encuentra el hospital. (Cadena)\n",
    "Código postal: Código postal del hospital. (Entero)\n",
    "Nombre del condado: Condado donde se encuentra el hospital. (Cadena)\n",
    "Número de teléfono: Número de teléfono del hospital. (Cadena)\n",
    "Nombre de la medida: Nombre de la métrica que se está estudiando. (Cadena)\n",
    "En comparación con la media nacional: Comparación de la métrica del hospital con la media nacional. (Cadena)\n",
    "Denominador: Número de pacientes utilizados para calcular la medida. (Entero)\n",
    "Puntuación: Matrices de ponderación basadas en calificaciones derivadas de otras métricas para facilitar la comparación. (Entero)\n",
    "Estimación inferior: Estimación inferior de la puntuación. (Entero)\n",
    "Estimación superior: Estimación superior de la puntuación. (Entero)\n",
    "Nota al pie: Información adicional sobre la métrica. (Cadena)\n",
    "Fecha de inicio de la medida: Fecha en la que se tomó la medida. (Fecha)\n",
    "Fecha de finalización de la medida: Fecha en la que finalizó la medida. (Fecha)\n",
    "Ubicación: Ubicación del hospital. (Cadena)"
   ]
  },
  {
   "cell_type": "code",
   "execution_count": 74,
   "id": "b755422c",
   "metadata": {},
   "outputs": [],
   "source": [
    "#!pip install pandas\n",
    "#!pip install numpy\n",
    "#!pip install matplotlib\n",
    "#!pip install missingno\n",
    "#!pip install scikit-learn\n",
    "#!pip install seaborn"
   ]
  },
  {
   "cell_type": "code",
   "execution_count": 75,
   "id": "5b803342",
   "metadata": {},
   "outputs": [],
   "source": [
    "import os\n",
    "import pandas as pd\n",
    "import matplotlib.pyplot as plt\n",
    "import missingno as msn\n",
    "from sklearn.preprocessing import LabelEncoder\n",
    "import seaborn as sbn"
   ]
  },
  {
   "cell_type": "code",
   "execution_count": 76,
   "id": "e0863806",
   "metadata": {},
   "outputs": [],
   "source": [
    "pathCSV = \"Readmissions_and_Deaths_-_Hospital.csv\"\n",
    "assert  os.path.exists(pathCSV)\n"
   ]
  },
  {
   "cell_type": "code",
   "execution_count": 90,
   "id": "1eaae4dc",
   "metadata": {},
   "outputs": [
    {
     "data": {
      "text/plain": [
       "index                            int64\n",
       "Provider ID                      int64\n",
       "Hospital Name                   object\n",
       "Address                         object\n",
       "City                            object\n",
       "State                           object\n",
       "ZIP Code                         int64\n",
       "County Name                     object\n",
       "Phone Number                     int64\n",
       "Measure Name                    object\n",
       "Measure ID                      object\n",
       "Compared to National            object\n",
       "Denominator                     object\n",
       "Score                           object\n",
       "Lower Estimate                  object\n",
       "Higher Estimate                 object\n",
       "Footnote                        object\n",
       "Measure Start Date      datetime64[ns]\n",
       "Measure End Date        datetime64[ns]\n",
       "Location                        object\n",
       "dtype: object"
      ]
     },
     "execution_count": 90,
     "metadata": {},
     "output_type": "execute_result"
    }
   ],
   "source": [
    "dfOriginal = pd.read_csv(pathCSV)\n",
    "dfOriginal['Measure Start Date'] = pd.to_datetime(dfOriginal['Measure Start Date'], errors='coerce')\n",
    "dfOriginal['Measure End Date'] = pd.to_datetime(dfOriginal['Measure End Date'], errors='coerce')\n",
    "\n",
    "dfOriginal\n",
    "\n",
    "dfOriginal.dtypes"
   ]
  }
 ],
 "metadata": {
  "kernelspec": {
   "display_name": "Python 3",
   "language": "python",
   "name": "python3"
  },
  "language_info": {
   "codemirror_mode": {
    "name": "ipython",
    "version": 3
   },
   "file_extension": ".py",
   "mimetype": "text/x-python",
   "name": "python",
   "nbconvert_exporter": "python",
   "pygments_lexer": "ipython3",
   "version": "3.12.10"
  }
 },
 "nbformat": 4,
 "nbformat_minor": 5
}
