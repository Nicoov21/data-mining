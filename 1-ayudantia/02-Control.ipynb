{
 "cells": [
  {
   "cell_type": "code",
   "execution_count": null,
   "id": "3e9c8851",
   "metadata": {},
   "outputs": [],
   "source": [
    "# (Condicionales) Escribe 'clasificar_edad(edad)' que retorne 'niñez', 'adolescencia', \n",
    "# 'adultez' o 'senior' según rangos. Maneja bordes (0, 12, 13, 17, 18, 64, 65…). \n",
    "def clasificar_edad(edad: int) -> str:\n",
    "    if edad < 0 or edad > 110:\n",
    "        return \"Edad ingresada no válida\"\n",
    "    if 0 <= edad <= 12:\n",
    "        return \"Niñez\"\n",
    "    if 13 <= edad <= 17:\n",
    "        return \"Adolescencia\"\n",
    "    if 18 <= edad <= 60:\n",
    "        return \"Adultez\"\n",
    "    else:\n",
    "        return \"Senior\"\n",
    "print(clasificar_edad(-1))"
   ]
  },
  {
   "cell_type": "code",
   "execution_count": null,
   "id": "56cfa8b2",
   "metadata": {},
   "outputs": [],
   "source": [
    "# (match/case) Crea 'tipo_dia(dia)' que reciba el nombre del día y devuelva 'laboral' o 'fin \n",
    "# de semana'.\n",
    "def tipo_dia(dia: str):\n",
    "    match dia: \n",
    "        case 'Lunes' | 'Martes' | 'Miércoles' | 'Jueves' | 'Viernes': #! Si es día de semana\n",
    "            return \"Laboral\" #? Retorna Laboral\n",
    "        case 'Sábado' | 'Domingo': \n",
    "            return \"Fin de semana\"\n",
    "print(tipo_dia(\"Lunes\"))"
   ]
  },
  {
   "cell_type": "code",
   "execution_count": null,
   "id": "dead7349",
   "metadata": {},
   "outputs": [],
   "source": [
    "# (for + range) Suma los múltiplos de 3 o 5 menores que N (clásico problema). Implementa \n",
    "# versión con for y otra con comprensión de listas. \n",
    "def suma_multiplos(num:int)->int:\n",
    "    suma = 0\n",
    "    for i in range(num):\n",
    "        if i % 3 == 0 or i % 5 == 0:\n",
    "            suma += i\n",
    "    return suma\n",
    "print(suma_multiplos(10))"
   ]
  },
  {
   "cell_type": "code",
   "execution_count": null,
   "id": "07e2db49",
   "metadata": {},
   "outputs": [],
   "source": [
    "# (while + else) Cuenta regresiva desde N hasta 0. Si se usa 'break' para salir, no debe \n",
    "# ejecutarse el 'else'; si termina 'naturalmente', sí. \n",
    "def cuenta_regresiva(num:int):\n",
    "    while num >= 0:\n",
    "        print(num)\n",
    "        if num == 5:\n",
    "            print(f\"Interrumpido en {num}\")\n",
    "            break\n",
    "        num -= 1\n",
    "    else:\n",
    "        print(\"La cuenta regresiva ha finalizado naturalmente\")\n",
    "cuenta_regresiva(7)\n",
    "cuenta_regresiva(4)"
   ]
  },
  {
   "cell_type": "code",
   "execution_count": null,
   "id": "1e36c7d4",
   "metadata": {},
   "outputs": [],
   "source": [
    "# (Listas I) Dada 'ventas = [13, 5, 21, 5, 8]': agrega 34 al final, inserta 99 en índice 1, \n",
    "# elimina la primera ocurrencia de 5, invierte la lista y ordénala descendente. \n",
    "ventas = [13, 5, 21, 5, 8]\n",
    "ventas.append(34)\n",
    "ventas[1] = 99\n",
    "ventas.remove(5)\n",
    "ventas.reverse()\n",
    "ventas.sort(reverse=True)\n",
    "print(ventas)"
   ]
  },
  {
   "cell_type": "code",
   "execution_count": 7,
   "id": "b70ba9c4",
   "metadata": {},
   "outputs": [
    {
     "name": "stdout",
     "output_type": "stream",
     "text": [
      "2\n"
     ]
    }
   ],
   "source": [
    "# (Listas II) Implementa 'indice_primera_aparicion(lst, valor)' sin usar 'list.index'. \n",
    "# Devuelve -1 si no existe. \n",
    "def indice_primera_aparicion(lst, valor) -> int:\n",
    "    for i in range(len(lst)):\n",
    "        if lst[i] == valor:\n",
    "            return i\n",
    "    return -1\n",
    "print(indice_primera_aparicion([1,5,7],7))"
   ]
  },
  {
   "cell_type": "code",
   "execution_count": null,
   "id": "915760ab",
   "metadata": {},
   "outputs": [],
   "source": [
    "# (zip) Dadas 'alumnos = [\"Ana\", \"Luis\", \"Marta\"]' y 'notas = [5.5, 6.0]': combínalas con \n",
    "# 'zip' y calcula el promedio de las notas presentes. \n",
    "alumnos = [\"Ana\", \"Luis\", \"Marta\"]\n",
    "notas = [5.5, 6.0]\n",
    "promedio = (sum(notas)/len(notas))\n",
    "for alumno, nota in zip(alumnos,notas):\n",
    "    print(f\"El alumno {alumno} tiene una nota de {nota}\")\n",
    "print(f\"El promedio de las notas es {promedio}\")"
   ]
  },
  {
   "cell_type": "code",
   "execution_count": null,
   "id": "91101238",
   "metadata": {},
   "outputs": [],
   "source": [
    "# (enumerate) Recorre 'tareas = [\"cargar datos\", \"limpiar\", \"entrenar\", \"evaluar\"]' y \n",
    "# muestra '1) cargar datos', etc. usando 'enumerate' empezando en 1. \n",
    "tareas = [\"cargar datos\", \"limpiar\", \"entrenar\", \"evaluar\"]\n",
    "\n",
    "for indice, tarea in enumerate(tareas):\n",
    "    print(f\"{indice +1}) {tarea}\")"
   ]
  },
  {
   "cell_type": "code",
   "execution_count": null,
   "id": "0fb56a90",
   "metadata": {},
   "outputs": [],
   "source": [
    "# (List comprehension I) Genera los cuadrados de 1..N sólo para pares.\n",
    "n = 10 \n",
    "cuadradosPares = [i**2 for i in range(1,n+1) if i % 2 == 0]\n",
    "print(cuadradosPares)"
   ]
  },
  {
   "cell_type": "code",
   "execution_count": null,
   "id": "aa70121f",
   "metadata": {},
   "outputs": [],
   "source": [
    "# (List comprehension II) Aplana 'mat = [[1,2,3],[4,5],[6]]' en una sola lista '[1,2,3,4,5,6]'  \n",
    "mat = [[1,2,3],[4,5],[6]]\n",
    "matAplanada = [elemento for fila in mat for elemento in fila]\n",
    "print(matAplanada)"
   ]
  }
 ],
 "metadata": {
  "kernelspec": {
   "display_name": "Python 3",
   "language": "python",
   "name": "python3"
  },
  "language_info": {
   "codemirror_mode": {
    "name": "ipython",
    "version": 3
   },
   "file_extension": ".py",
   "mimetype": "text/x-python",
   "name": "python",
   "nbconvert_exporter": "python",
   "pygments_lexer": "ipython3",
   "version": "3.12.10"
  }
 },
 "nbformat": 4,
 "nbformat_minor": 5
}
