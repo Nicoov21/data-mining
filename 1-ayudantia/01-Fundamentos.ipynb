{
 "cells": [
  {
   "cell_type": "code",
   "execution_count": null,
   "id": "089b00f5",
   "metadata": {},
   "outputs": [
    {
     "name": "stdout",
     "output_type": "stream",
     "text": [
      "9\n"
     ]
    }
   ],
   "source": [
    "# (Binario→Decimal) Implementa 'bin_to_dec(s: str) -> int' que recibe una cadena binaria\n",
    "# (p. ej. '101101') y retorna su valor decimal.\n",
    "def bin_to_dec(s: str) -> int:\n",
    "    valorDecimal = 0\n",
    "    longitudBinario = len(s)\n",
    "    for numBin in range(longitudBinario): #! Itera por la longitud del binario\n",
    "        bit = int(s[longitudBinario - 1 - numBin]) #! Parsea el bit a número\n",
    "        valorDecimal += bit * (2**numBin) #? Suma el valor del bit elevandolo por su posición\n",
    "    return valorDecimal\n",
    "print(bin_to_dec('1001'))"
   ]
  },
  {
   "cell_type": "code",
   "execution_count": null,
   "id": "eab3c73f",
   "metadata": {},
   "outputs": [],
   "source": [
    "# (Decimal→Binario) Implementa una solución que devuelve la representación binaria de \n",
    "# un número decimal entero cualquiera. Prueba con 0, 1, 2, 7, 8, 255. \n",
    "def dec_to_bin(s: int) -> str:\n",
    "    if s == 0: #! Si el número es 0, retorna un mensaje advirtiendo que no debe ser 0\n",
    "        return (\"El decimal no puede ser 0\")\n",
    "    numeroBinario = '' #! Se inicializa la variable que contendrá la transformación del número decimal a binario\n",
    "    while s > 0: #! Se crea un bucle que se repite hasta que el número decimal sea 0\n",
    "        residuoDecimal = s % 2 #? Obtiene el restante de dividir el decimal por 2\n",
    "        numeroBinario = str(residuoDecimal) + numeroBinario #? Se concatena el restante al inicio del string\n",
    "        s = s // 2 #? Se actualiza el valor del decimal por su divisíon entera por 2\n",
    "    return numeroBinario #! Retorna el número en binario\n",
    "#print(dec_to_bin(254))"
   ]
  },
  {
   "cell_type": "code",
   "execution_count": null,
   "id": "6e880e03",
   "metadata": {},
   "outputs": [],
   "source": [
    "# (Floats y precisión) Demuestra con un script que '0.1 + 0.2 != 0.3'. Luego verifica \n",
    "# correctamente con 'math.isclose'. Explica en comentarios por qué ocurre. \n",
    "#import math\n",
    "a = 0.1\n",
    "b = 0.2\n",
    "c = 0.3\n",
    "suma = a + b\n",
    "# print(suma == c)\n",
    "# print(math.isclose(suma, c))"
   ]
  },
  {
   "cell_type": "code",
   "execution_count": null,
   "id": "6388b439",
   "metadata": {},
   "outputs": [],
   "source": [
    "# (Strings I) Dado 'texto = \"  ¡Hola,  mundo          !  \"' elimina espacios duplicados, quita \n",
    "# signos de puntuación, y genera un 'slug' en minúsculas separado con '-'.\n",
    "texto = \"  ¡Hola,  mundo          !  \"\n",
    "texto = texto.replace(\" \",\"\").replace(\"!\",\"\").replace(\"¡\",\"\") #? Elimina espacios y signos de puntuación\n",
    "texto = texto.lower() #? Lo pasa a minúsculas\n",
    "slug = texto.replace(\",\",\"-\") #? Reemplaza las comas por guiones\n",
    "#print(slug)"
   ]
  },
  {
   "cell_type": "code",
   "execution_count": null,
   "id": "78719f31",
   "metadata": {},
   "outputs": [],
   "source": [
    "# (Strings II) Cuenta vocales en 'áéíóúÁÉÍÓÚaeiou' dentro de un texto Unicode. Devuelve \n",
    "# una dupla de frecuencias. \n",
    "texto_unicode = \"Esto es una simulación de un texto con acentos\"\n",
    "vocales = \"áéíóúÁÉÍÓÚaeiou\"\n",
    "contadorVocales = 0 #? Contador de vocales\n",
    "for letra in texto_unicode: #? Itera por cada letra del texto ingresado\n",
    "    if letra in vocales: #? Verifica si esa letra es una vocal\n",
    "            contadorVocales += 1 #? Si es volcal, la suma al contador\n",
    "#print(contadorVocales)"
   ]
  }
 ],
 "metadata": {
  "kernelspec": {
   "display_name": "Python 3",
   "language": "python",
   "name": "python3"
  },
  "language_info": {
   "codemirror_mode": {
    "name": "ipython",
    "version": 3
   },
   "file_extension": ".py",
   "mimetype": "text/x-python",
   "name": "python",
   "nbconvert_exporter": "python",
   "pygments_lexer": "ipython3",
   "version": "3.12.10"
  }
 },
 "nbformat": 4,
 "nbformat_minor": 5
}
