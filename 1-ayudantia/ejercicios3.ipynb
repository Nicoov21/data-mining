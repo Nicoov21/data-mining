{
 "cells": [
  {
   "cell_type": "code",
   "execution_count": 6,
   "id": "7c7dcb7a",
   "metadata": {},
   "outputs": [
    {
     "name": "stdout",
     "output_type": "stream",
     "text": [
      "El estudiante Nicolás de 21 años, estudiante de Ingeniería en informática, tiene un promedio de 5.0 \n"
     ]
    }
   ],
   "source": [
    "# A1. Registro de estudiante\n",
    "# Crea un diccionario con keys 'nombre', 'edad', 'notas' (lista de enteros). Actualiza 'edad' (+1), agrega 'carrera', y \n",
    "# calcula el promedio de 'notas' redondeado a 2 decimales. Muestra un reporte legible (f-string).\n",
    "\n",
    "estudianteA1 = {'nombre':'Nicolás','edad':20,'notas':[5,6,7,3,4]}\n",
    "estudianteA1['edad'] += 1\n",
    "estudianteA1['carrera'] = 'Ingeniería en informática'\n",
    "prom = round(sum(estudianteA1['notas'])/len(estudianteA1['notas']),2)\n",
    "print(f\"El estudiante {estudianteA1['nombre']} de {estudianteA1['edad']} años, estudiante de {estudianteA1['carrera']}, tiene un promedio de {prom} \")"
   ]
  },
  {
   "cell_type": "code",
   "execution_count": 3,
   "id": "d6367949",
   "metadata": {},
   "outputs": [
    {
     "name": "stdout",
     "output_type": "stream",
     "text": [
      "Telefóno: N/D\n",
      "Nombre: Nicolás\n",
      "{'nombre': 'Nicolás', 'edad': 20, 'carrera': 'Sin definir'}\n"
     ]
    }
   ],
   "source": [
    "# A2. Acceso seguro y actualización\n",
    "# Demuestra el uso de get('clave','N/D') y setdefault('clave', valor). Explica en un comentario cuándo setdefault simplifica\n",
    "# el código (p. ej., agrupaciones).}\n",
    "estudianteA2 = {'nombre':'Nicolás','edad':20} \n",
    "#! get() -> Es como preguntar \"¿Tienes esta clave?\"\"\n",
    "print(f\"Telefóno: {estudianteA2.get('telefono', 'N/D')}\") #?Forma segura de preguntar el telefono, como no tiene muestra N/D  #type:ignore\n",
    "print(f\"Nombre: {estudianteA2.get('nombre', 'N/D')}\") #? Como tiene el nombre mostrará \"Nicolás\"  #type:ignore\n",
    "\n",
    "#! setdefault() -> es decir \"Si no tienes esta clave, pon este valor\"\n",
    "estudianteA2.setdefault('carrera', 'Sin definir') #?Como no existe carrera en el object estudiante, agrega \"Sin definir\" #type:ignore\n",
    "estudianteA2.setdefault('nombre', 'Otro nombre') #? Como nombre ya existe, No lo cambiará  #type:ignore\n",
    "print(estudianteA2)  #type:ignore\n",
    "\n",
    "#! Puede simplificar el código para no repetir un valor único\n",
    "# auto = {'marca':'Ferrari', 'Año':2024, 'Motor':'3.4L'}\n",
    "# print(auto.get('puertas', 'N/D'))\n",
    "# print(auto.get('marca', 'N/D'))\n",
    "\n",
    "# auto.setdefault('puertas',2)\n",
    "# auto.setdefault('marca','Lamborghini')\n",
    "# print(auto)"
   ]
  },
  {
   "cell_type": "code",
   "execution_count": 4,
   "id": "0d6880bf",
   "metadata": {},
   "outputs": [
    {
     "name": "stdout",
     "output_type": "stream",
     "text": [
      "{'hola': 2, 'mundo': 1, 'como': 1, 'estas': 1, 'tu': 1}\n"
     ]
    }
   ],
   "source": [
    "# A3. Frecuencias de palabras\n",
    "# Implementa contar_palabras(texto:str) -> dict usando solo Python estándar. \n",
    "# Ignora mayúsculas y puntuación básica (.,;:!?) y valida con 2 frases de prueba.\n",
    "#import string\n",
    "#import re\n",
    "def contar_palabras(texto: str) -> dict:\n",
    "    contador = {}\n",
    "    palabras = texto.split()\n",
    "\n",
    "    for palabra in palabras:\n",
    "        palabra = palabra.lower()\n",
    "        #palabra = re.sub(r\"[^\\w\\s]\", \"\", palabra)\n",
    "        #palabra = palabra.translate(str.maketrans('','', string.punctuation))\n",
    "        palabra = palabra.replace(',','').replace('?','').replace('¿','').replace('.','').replace('!','').replace(';','').replace('¡','').replace(':','')\n",
    "        if palabra in contador:\n",
    "            contador[palabra] += 1\n",
    "        else:\n",
    "            contador[palabra] = 1\n",
    "    return contador\n",
    "print(contar_palabras(\"!hola. mundo, hola; ¿Como estas tu? \"))\n"
   ]
  },
  {
   "cell_type": "code",
   "execution_count": 66,
   "id": "fff22bf0",
   "metadata": {},
   "outputs": [
    {
     "name": "stdout",
     "output_type": "stream",
     "text": [
      "Total de horas: 7\n",
      "MD101: Docente Y, 4 horas\n",
      "MD102: Docente Y, 3 horas\n"
     ]
    }
   ],
   "source": [
    "# A4. Diccionario anidado (catálogo de cursos)\n",
    "# cursos = {'MD101': {'docente':'X','horas':4}, 'MD102': {'docente':'Y','horas':3}}. \n",
    "# Calcula el total de horas, cambia el docente de 'MD101' y emite un reporte ordenado por código.\n",
    "cursos = {'MD101': {'docente':'X','horas':4}, 'MD102': {'docente':'Y','horas':3}}\n",
    "horasTotal = sum(curso['horas'] for curso in cursos.values())\n",
    "cursos['MD101']['docente'] = 'Y'\n",
    "print(f\"Total de horas: {horasTotal}\")\n",
    "for codigo in sorted(cursos.keys()):\n",
    "    docente = cursos[codigo]['docente']\n",
    "    horas = cursos[codigo]['horas']\n",
    "    print(f\"{codigo}: Docente {docente}, {horas} horas\")"
   ]
  },
  {
   "cell_type": "code",
   "execution_count": 74,
   "id": "b103409f",
   "metadata": {},
   "outputs": [
    {
     "name": "stdout",
     "output_type": "stream",
     "text": [
      "{1: ['a'], 2: ['b', 'c'], 3: ['d']}\n"
     ]
    }
   ],
   "source": [
    "# A5. Invertir diccionario con colisiones\n",
    "# Dado d = {'a':1,'b':2,'c':2,'d':3}, implementa invertir_en_listas(d) -> dict produciendo {1:['a'], 2:['b','c'], 3:['d']}.\n",
    "# Explica por qué una inversión simple falla con valores duplicados. #! Por que lo sobreescribe\n",
    "d = {'a':1,'b':2,'c':2,'d':3}\n",
    "def invertir_en_listas(d) -> dict:\n",
    "    resultado = {}\n",
    "    for letra, llave in d.items():\n",
    "        if llave not in resultado:\n",
    "            resultado[llave] = []\n",
    "        resultado[llave].append(letra)\n",
    "    return resultado\n",
    "print(invertir_en_listas(d))"
   ]
  },
  {
   "cell_type": "code",
   "execution_count": null,
   "id": "6d011729",
   "metadata": {},
   "outputs": [
    {
     "name": "stdout",
     "output_type": "stream",
     "text": [
      "8\n",
      "5\n"
     ]
    }
   ],
   "source": [
    "# B1. Unicidad\n",
    "# A partir de una lista con duplicados, crea un set y compara len(lista) vs len(set). \n",
    "# Explica qué información se pierde y por qué.\n",
    "lista = [1, 2, 3, 2, 4, 1, 5, 3]\n",
    "s = set([1, 2, 3, 2, 4, 1, 5, 3])\n",
    "print(len(lista))\n",
    "print(len(s))\n",
    "#! La información que se pierde son los números duplicados (2,1,3), ya qué set no permite elementos duplicados"
   ]
  },
  {
   "cell_type": "code",
   "execution_count": null,
   "id": "71b39340",
   "metadata": {},
   "outputs": [
    {
     "name": "stdout",
     "output_type": "stream",
     "text": [
      "<class 'set'>\n",
      "Vieron ambas: {'valentin'}\n",
      "Vieron al menos una: {'cristian', 'nico', 'andres', 'valentin', 'alfredo', 'ignacio', 'luis'}\n",
      "Solo email: {'andres', 'nico', 'ignacio'}\n",
      "Solo una campaña: {'cristian', 'nico', 'andres', 'alfredo', 'ignacio', 'luis'}\n"
     ]
    }
   ],
   "source": [
    "# B2. Operaciones de conjuntos\n",
    "# Dados A y B (sets), calcula A∩B, A∪B, A−B y A△B (diferencia simétrica). \n",
    "# Interpreta los resultados con un ejemplo (usuarios en dos campañas).\n",
    "#!Campañas email y facebook\n",
    "usuariosEventoApple = {'nico','valentin','andres','ignacio'}\n",
    "usuariosEventoGoogle = {'valentin','luis','alfredo','cristian'}\n",
    "\n",
    "ambas = usuariosEventoApple & usuariosEventoGoogle #! Vieron ambas\n",
    "print(f\"Vieron ambas: {ambas}\")\n",
    "\n",
    "total = usuariosEventoApple | usuariosEventoGoogle #!Union | Vieron al menos una campaña\n",
    "print(f\"Vieron al menos una: {total}\")\n",
    "\n",
    "soloEmail = usuariosEventoApple - usuariosEventoGoogle #! solo vieron el evento email\n",
    "print(f\"Solo email: {soloEmail}\")\n",
    "\n",
    "unaSola = usuariosEventoApple ^ usuariosEventoGoogle #! Los que solo vieron una campaña\n",
    "print(f\"Solo una campaña: {unaSola}\")"
   ]
  },
  {
   "cell_type": "code",
   "execution_count": 137,
   "id": "8fd226e4",
   "metadata": {},
   "outputs": [
    {
     "name": "stdout",
     "output_type": "stream",
     "text": [
      "{2, 3, 4, 5}\n"
     ]
    }
   ],
   "source": [
    "# B3. Métodos del set\n",
    "# Demuestra add, update, discard, remove y pop con comentarios sobre diferencias entre discard y\n",
    "# remove para elementos inexistentes.\n",
    "numeros = set([1,2])\n",
    "numeros.add(3) #? Agrega al ultimo\n",
    "numeros.update([4,5,6])\n",
    "numeros.remove(6) #! Arroja error, ya que 7 no existe\n",
    "numeros.discard(7) #! No hace nada, ya que 7 no existe\n",
    "numeros.pop()\n",
    "\n",
    "print(numeros)"
   ]
  },
  {
   "cell_type": "code",
   "execution_count": null,
   "id": "cebf04d2",
   "metadata": {},
   "outputs": [
    {
     "name": "stdout",
     "output_type": "stream",
     "text": [
      "Caracteres unicos: 8\n",
      "Letras en común: True\n",
      "¿letras1 están en letras2? False\n",
      "¿letras1 contiene letras2? False\n"
     ]
    }
   ],
   "source": [
    "# B4. Alfabeto usado\n",
    "# De un texto, genera el set de letras (sin espacios ni puntuación) y cuenta caracteres únicos.\n",
    "# Compara dos textos con isdisjoint, issubset e issuperset.\n",
    "#! Le pregunté a un buen amigo y me dió esto\n",
    "texto = \"Hola mundo!\"\n",
    "def obtener_letras(texto: str):\n",
    "    letras = set([])\n",
    "    for char in texto:\n",
    "        if char.isalpha(): #? Si es del abecedario pasa\n",
    "            letras.add(char.lower())\n",
    "    return letras\n",
    "\n",
    "print(f\"Caracteres unicos: {len(obtener_letras(texto))}\")\n",
    "\n",
    "texto1 = \"hala\"\n",
    "texto2 = \"mundo\"\n",
    "\n",
    "letras1 = {char.lower() for char in texto1 if char.isalpha()}\n",
    "letras2 = {char.lower() for char in texto2 if char.isalpha()}\n",
    "\n",
    "print(f\"Letras en común: {letras1.isdisjoint(letras2)}\") #! True si no tienen letras en común\n",
    "\n",
    "print(f\"¿letras1 están en letras2? {letras1.issubset(letras2)}\") #! si están dentro del otro texto es True\n",
    "\n",
    "print(f\"¿letras1 contiene letras2? {letras1.issuperset(letras2)}\") #! True si letras1 contiene todo letras2"
   ]
  },
  {
   "cell_type": "code",
   "execution_count": 162,
   "id": "1d9ac86d",
   "metadata": {},
   "outputs": [
    {
     "name": "stdout",
     "output_type": "stream",
     "text": [
      "{'min': -4, 'max': 5, 'promedio': 0.6}\n",
      "{'min': 1, 'max': 5, 'promedio': 3.0}\n",
      "{'min': 1, 'max': 5, 'promedio': 3.0}\n"
     ]
    }
   ],
   "source": [
    "# C1. resumen_estadistico(*nums, redondeo=2, **opts)\n",
    "# Retorna un dict con min, max y promedio. Si opts.get('abs'), usa valores absolutos; \n",
    "# si opts.get('filtrar_pares'), excluye pares. Incluye al menos 3 pruebas.\n",
    "def resumen_estadistico(*nums, redondeo=2, **opts):\n",
    "    numeros = list(nums)\n",
    "    if opts.get('abs'):\n",
    "        numeros = [abs(x) for x in numeros]\n",
    "    if opts.get('filtrar_pares'):\n",
    "        numeros = [x for x in numeros if x % 2 == 1]\n",
    "    minimo = min(numeros)\n",
    "    maximo = max(numeros)\n",
    "    promedio = sum(numeros)/len(numeros)\n",
    "    return {\n",
    "        'min': round(minimo, redondeo),\n",
    "        'max': round(maximo, redondeo),\n",
    "        'promedio': round(promedio, redondeo)\n",
    "    }\n",
    "        \n",
    "print(resumen_estadistico(1, -2, 3, -4, 5))\n",
    "print(resumen_estadistico(1, -2, 3, -4, 5, abs=True))\n",
    "print(resumen_estadistico(1, 2, 3, 4, 5, filtrar_pares=True))"
   ]
  },
  {
   "cell_type": "code",
   "execution_count": 9,
   "id": "b2557475",
   "metadata": {},
   "outputs": [
    {
     "name": "stdout",
     "output_type": "stream",
     "text": [
      "[1, 4, 9]\n",
      "[1, 4, 9]\n",
      "[1, 4, 9]\n"
     ]
    }
   ],
   "source": [
    "# C2. aplicar(f, datos)\n",
    "# Aplica una función a cada elemento y retorna la nueva lista.\n",
    "# Demuestra con lambda x: x**2 y contrasta con list comprehension.\n",
    "numeros = [1,2,3]\n",
    "\n",
    "#! def -> funciones\n",
    "def cuadrado(x:int):\n",
    "    return x ** 2\n",
    "\n",
    "def aplicar(f,datos):\n",
    "    resultado = []\n",
    "    for elemento in datos:\n",
    "        resultado.append(f(elemento))\n",
    "    return resultado\n",
    "\n",
    "resultado = aplicar(cuadrado,numeros)\n",
    "print(resultado)\n",
    "\n",
    "#!Lambda\n",
    "resultado2 = aplicar(lambda x: x**2, numeros)\n",
    "print(resultado2)\n",
    "\n",
    "#!List comprehension\n",
    "resultado3 = [x**2 for x in [1,2,3]]\n",
    "print(resultado3)"
   ]
  },
  {
   "cell_type": "code",
   "execution_count": 5,
   "id": "67e8ebca",
   "metadata": {},
   "outputs": [
    {
     "name": "stdout",
     "output_type": "stream",
     "text": [
      "[('María', 9.1), ('Ana', 8.5), ('Sofía', 8.5), ('Carlos', 7.2), ('Pedro', 7.2), ('Juan', 6.8)]\n"
     ]
    }
   ],
   "source": [
    "# C3. Ordenamiento con key\n",
    "# Dada una lista de tuplas (nombre, promedio), ordénala por promedio descendente y, \n",
    "# a igualdad, por nombre ascendente (sorted + lambda).\n",
    "estudiantes = [('Ana', 8.5),('Carlos', 7.2),('María', 9.1),('Pedro', 7.2),('Sofía', 8.5),('Juan', 6.8)]\n",
    "resultado = sorted(estudiantes, key=lambda x: (-x[1], x[0]))\n",
    "print(resultado)"
   ]
  },
  {
   "cell_type": "code",
   "execution_count": 28,
   "id": "0c7bbc87",
   "metadata": {},
   "outputs": [
    {
     "name": "stdout",
     "output_type": "stream",
     "text": [
      "Caso 1:  {'email': 'hola@gmail.com', 'password': '1234'}\n",
      "Caso 2:  {'email': 'hola@gmail.com', 'password': '1234', 'plan': 'premium'}\n",
      "Caso 3:  Faltan datos\n"
     ]
    }
   ],
   "source": [
    "# C4. registrar_usuario(**info)\n",
    "# Requiere 'email' y 'password'. Si falta alguno, levanta ValueError. \n",
    "# Permite campos extra (p. ej., plan='premium'). Devuelve un dict normalizado y prueba 2 casos válidos y 1 inválido.\n",
    "\n",
    "def registrar_usuario(**info):\n",
    "    if \"email\" not in info or \"password\" not in info:\n",
    "        return \"Faltan datos\"\n",
    "    info[\"email\"] = info[\"email\"].lower()\n",
    "    return info\n",
    "try:\n",
    "    usuario1 = registrar_usuario(email=\"Hola@gmail.com\", password=\"1234\")\n",
    "    print(\"Caso 1: \",usuario1)\n",
    "\n",
    "    usuario2 = registrar_usuario(email=\"Hola@gmail.com\", password=\"1234\", plan=\"premium\")\n",
    "    print(\"Caso 2: \",usuario2)\n",
    "\n",
    "    usuario3 = registrar_usuario(password=\"ni ahi con el correo\")\n",
    "    print(\"Caso 3: \",usuario3)\n",
    "except ValueError as e:\n",
    "    print(\"Error:\",e)"
   ]
  },
  {
   "cell_type": "code",
   "execution_count": null,
   "id": "e9576c3e",
   "metadata": {},
   "outputs": [
    {
     "name": "stdout",
     "output_type": "stream",
     "text": [
      "120\n",
      "120\n"
     ]
    }
   ],
   "source": [
    "# D1. factorial(n)\n",
    "# Implementa una versión recursiva validando n ≥ 0 y luego una versión iterativa. \n",
    "# Compara brevemente legibilidad y límites de n.\n",
    "def factorialRecursivo(n:int):\n",
    "    if n >= 0:\n",
    "        if n == 0 or n == 1:\n",
    "            return n\n",
    "        return n * factorialRecursivo(n-1)\n",
    "    return \"No se puede ese valor\"\n",
    "\n",
    "def factorialIterativa(n:int):\n",
    "    if n >= 0:\n",
    "        resultado = 1\n",
    "        for i in range(1, n+1):\n",
    "            resultado*= i\n",
    "        return resultado\n",
    "    return \"No se puede ese valor\"\n",
    "\n",
    "print(factorialRecursivo(5))\n",
    "print(factorialIterativa(5))"
   ]
  },
  {
   "cell_type": "code",
   "execution_count": null,
   "id": "f83364bc",
   "metadata": {},
   "outputs": [
    {
     "name": "stdout",
     "output_type": "stream",
     "text": [
      "[1, 2, 3, 4, 5, 6]\n"
     ]
    }
   ],
   "source": [
    "# D2. flatten(lista_anidada)\n",
    "# Aplana listas arbitrariamente anidadas (p. ej., [1,[2,[3,4],5],6] → [1,2,3,4,5,6]). \n",
    "# Incluye casos de prueba con listas vacías y anidaciones profundas.\n",
    "\n",
    "def flatten(lista_anidada):\n",
    "    resultado = []\n",
    "    for elemento in lista_anidada:\n",
    "        if isinstance(elemento, list): #? Si elemento es una lista\n",
    "            resultado.extend(flatten(elemento)) #? Extiende el metodo a la nueva lista\n",
    "        else:\n",
    "            resultado.append(elemento) #! Si no lo agrega al elemento\n",
    "    return resultado\n",
    "print(flatten([1,[2,[3,4],5],6]))\n"
   ]
  },
  {
   "cell_type": "code",
   "execution_count": null,
   "id": "a318dea0",
   "metadata": {},
   "outputs": [
    {
     "name": "stdout",
     "output_type": "stream",
     "text": [
      "6\n",
      "2\n",
      "9\n",
      "0\n"
     ]
    }
   ],
   "source": [
    "# D3. sumatoria_digitos(n)\n",
    "# Suma recursiva de dígitos hasta obtener un solo dígito. Define caso base y caso recursivo.\n",
    "def sumatoria(numero):\n",
    "    if numero < 10:\n",
    "        return numero\n",
    "    suma = 0\n",
    "    while numero > 0:\n",
    "        suma += numero%10\n",
    "        numero = numero // 10\n",
    "    return sumatoria(suma)\n",
    "\n",
    "print(sumatoria(123))\n",
    "print(sumatoria(9875))\n",
    "print(sumatoria(999))\n",
    "print(sumatoria(0))"
   ]
  },
  {
   "cell_type": "code",
   "execution_count": 24,
   "id": "54be7169",
   "metadata": {},
   "outputs": [
    {
     "name": "stdout",
     "output_type": "stream",
     "text": [
      "['Holaa', 'gracias']\n"
     ]
    }
   ],
   "source": [
    "# E1. Filtrado por patrón\n",
    "# Dada una lista de strings, usa filter + lambda para conservar las que tengan longitud ≥ 5 y contengan 'a' (minúscula).\n",
    "lista = [\"Holaa\",\"como estás\",\"yo bien\",\"gracias\"]\n",
    "prueba = [elemento for elemento in lista if 'a' in elemento and len(elemento) >= 5]\n",
    "longitud = list(filter(lambda x: len(x) >= 5 and 'a' in x, lista))\n",
    "print(longitud)"
   ]
  },
  {
   "cell_type": "code",
   "execution_count": 181,
   "id": "1a849a75",
   "metadata": {},
   "outputs": [
    {
     "name": "stdout",
     "output_type": "stream",
     "text": [
      "[{'Edad': 19, 'Ciudad': 'Concepción'}]\n"
     ]
    }
   ],
   "source": [
    "# E2. Filtrado de personas\n",
    "# Dada una lista de dicts con 'edad' y 'ciudad', filtra mayores de 18 en 'Concepción'. Muestra el resultado como lista.\n",
    "lista = [\n",
    "    {'Edad':19, 'Ciudad':\"Concepción\"},\n",
    "    {'Edad':17, 'Ciudad':\"Talcahuano\"}, \n",
    "    {'Edad':20, 'Ciudad':\"Yumbel\"}\n",
    "]\n",
    "mayoresCcp = list(filter(lambda x: x['Edad'] > 18 and x['Ciudad'] == 'Concepción',lista))\n",
    "pruebaCcp = [persona for persona in lista if persona['Edad'] > 18 and persona['Ciudad'] == 'Concepción']\n",
    "print(pruebaCcp)"
   ]
  },
  {
   "cell_type": "code",
   "execution_count": 183,
   "id": "07173000",
   "metadata": {},
   "outputs": [
    {
     "name": "stdout",
     "output_type": "stream",
     "text": [
      "[2, 4, 6]\n"
     ]
    }
   ],
   "source": [
    "# E3. Libre con filter\n",
    "# Combina filter con cualquier función propia (sin librerías externas) y muestra 2 casos de prueba.\n",
    "def esPar(n): return n % 2 == 0\n",
    "numeros = [1,2,3,4,5,6]\n",
    "pares = list(filter(esPar, numeros))\n",
    "print(pares)"
   ]
  }
 ],
 "metadata": {
  "kernelspec": {
   "display_name": "Python 3",
   "language": "python",
   "name": "python3"
  },
  "language_info": {
   "codemirror_mode": {
    "name": "ipython",
    "version": 3
   },
   "file_extension": ".py",
   "mimetype": "text/x-python",
   "name": "python",
   "nbconvert_exporter": "python",
   "pygments_lexer": "ipython3",
   "version": "3.12.10"
  }
 },
 "nbformat": 4,
 "nbformat_minor": 5
}
