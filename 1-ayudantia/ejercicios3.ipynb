{
 "cells": [
  {
   "cell_type": "code",
   "execution_count": null,
   "id": "fb001a81",
   "metadata": {},
   "outputs": [
    {
     "name": "stdout",
     "output_type": "stream",
     "text": [
      "{'nombre': 'Nicolás', 'edad': 21, 'notas': [7, 6, 4, 6, 4], 'carrera': 'Ingieria en informatica'}\n"
     ]
    }
   ],
   "source": [
    "students = {  \n",
    "    \"nombre\":\"Nicolás\",\n",
    "    \"edad\":20,\n",
    "    \"notas\": [7, 6, 4, 6, 4]\n",
    "}\n",
    "students[\"edad\"] += 1\n",
    "\n",
    "students[\"carrera\"] = \"Ingeniería en informática\"\n",
    "students[\"promedio\"] = \n",
    "\n",
    "print(students)"
   ]
  }
 ],
 "metadata": {
  "kernelspec": {
   "display_name": "Python 3",
   "language": "python",
   "name": "python3"
  },
  "language_info": {
   "codemirror_mode": {
    "name": "ipython",
    "version": 3
   },
   "file_extension": ".py",
   "mimetype": "text/x-python",
   "name": "python",
   "nbconvert_exporter": "python",
   "pygments_lexer": "ipython3",
   "version": "3.12.10"
  }
 },
 "nbformat": 4,
 "nbformat_minor": 5
}
