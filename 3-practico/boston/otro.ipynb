{
 "cells": [
  {
   "cell_type": "code",
   "execution_count": null,
   "id": "b4472a34",
   "metadata": {},
   "outputs": [],
   "source": [
    "import pandas as pd\n",
    "\n",
    "df = pd.read_csv('lyft.csv')"
   ]
  },
  {
   "cell_type": "code",
   "execution_count": null,
   "id": "9f47378d",
   "metadata": {},
   "outputs": [],
   "source": [
    "df.head().T"
   ]
  },
  {
   "cell_type": "code",
   "execution_count": null,
   "id": "1bf08549",
   "metadata": {},
   "outputs": [],
   "source": [
    "df.info()"
   ]
  },
  {
   "cell_type": "code",
   "execution_count": null,
   "id": "8450c4a2",
   "metadata": {},
   "outputs": [],
   "source": [
    "df.shape"
   ]
  },
  {
   "cell_type": "code",
   "execution_count": null,
   "id": "f53cf23f",
   "metadata": {},
   "outputs": [],
   "source": [
    "df.duplicated().sum()"
   ]
  },
  {
   "cell_type": "code",
   "execution_count": null,
   "id": "2942c453",
   "metadata": {},
   "outputs": [],
   "source": [
    "df.isna().sum().sort_values(ascending=False)"
   ]
  },
  {
   "cell_type": "code",
   "execution_count": null,
   "id": "3e40d27a",
   "metadata": {},
   "outputs": [],
   "source": [
    "import missingno as msn\n",
    "import matplotlib.pyplot as plt\n",
    "\n",
    "msn.matrix(df)\n",
    "plt.show()"
   ]
  },
  {
   "cell_type": "code",
   "execution_count": null,
   "id": "e103e96d",
   "metadata": {},
   "outputs": [],
   "source": [
    "cat_cols = ['source', 'destination', 'cab_type', 'name', 'short_summary', 'weekday']\n",
    "for col in cat_cols:\n",
    "    print(f\"\\n--- {col} ---\")\n",
    "    print(df[col].value_counts().head(10))"
   ]
  },
  {
   "cell_type": "code",
   "execution_count": null,
   "id": "bd683b49",
   "metadata": {},
   "outputs": [],
   "source": [
    "numCols = df.select_dtypes(include=\"number\").columns.tolist()\n",
    "numCols.remove('uvIndex')\n",
    "numCols.remove('visibility.1')\n",
    "\n",
    "matriz = df[numCols].describe().T\n",
    "matriz['median'] = df[numCols].median()\n",
    "matriz['IQR'] = matriz['75%'] - matriz['25%']\n",
    "matriz['skew'] = df[numCols].skew()\n",
    "matriz['kurtosis'] = (df[numCols].kurtosis())\n",
    "matriz"
   ]
  },
  {
   "cell_type": "code",
   "execution_count": null,
   "id": "a83bf739",
   "metadata": {},
   "outputs": [],
   "source": [
    "numCols = df.select_dtypes(include='number').columns.tolist()\n",
    "\n",
    "for col in numCols:\n",
    "    Q1 = df[col].quantile(0.25)\n",
    "    Q3 = df[col].quantile(0.75)\n",
    "    IQR = Q3 - Q1\n",
    "    lower = Q1 - 1.5 * IQR\n",
    "    upper = Q3 + 1.5 * IQR\n",
    "    mask = df[(df[col] < lower ) | (df[col] > upper)]\n",
    "    print(f\"num de outliers de {col}: {len(mask)}\")"
   ]
  },
  {
   "cell_type": "code",
   "execution_count": null,
   "id": "9be80c18",
   "metadata": {},
   "outputs": [],
   "source": [
    "import seaborn as sns\n",
    "import matplotlib.pyplot as plt\n",
    "\n",
    "numCols = df.select_dtypes(include=\"number\").columns.tolist()\n",
    "\n",
    "for col in numCols:\n",
    "    plt.figure(figsize=(8,4))\n",
    "    sns.boxplot(x=df[col])\n",
    "    plt.title(f\"Boxplot de {col}\")\n",
    "    plt.xlabel(col)\n",
    "    plt.show()"
   ]
  },
  {
   "cell_type": "code",
   "execution_count": null,
   "id": "8730181e",
   "metadata": {},
   "outputs": [],
   "source": [
    "# import seaborn as sns\n",
    "# import matplotlib.pyplot as plt\n",
    "\n",
    "# numCols = df.select_dtypes(include=\"number\").columns.tolist()\n",
    "\n",
    "# for col in numCols:\n",
    "#     plt.figure(figsize=(6,3))\n",
    "#     sns.histplot(df[col].dropna(), kde=True,bins=30, color=\"red\")\n",
    "#     plt.title(f\"Histograma de {col}\")\n",
    "#     plt.xlabel(col)\n",
    "#     plt.show()"
   ]
  },
  {
   "cell_type": "code",
   "execution_count": null,
   "id": "70f596ce",
   "metadata": {},
   "outputs": [],
   "source": [
    "import seaborn as sns\n",
    "import matplotlib.pyplot as plt\n",
    "\n",
    "col = 'surge_multiplier'\n",
    "mean = df[col].mean()\n",
    "std = df[col].std()\n",
    "Q1 = df[col].quantile(0.25)\n",
    "Q3 = df[col].quantile(0.75)\n",
    "\n",
    "sns.histplot(df[col].dropna(), kde=True, bins=30, color=\"red\")\n",
    "plt.title(f\"Asimetria de {col}\")\n",
    "plt.xlabel(col)\n",
    "\n",
    "plt.axvline(mean, color='blue', linestyle='--', label=f\"Media: {mean:.2f}\")\n",
    "plt.axvline(mean - std, color='green', linestyle='--', label=f\"Media - std: {mean - std:.2f}\")\n",
    "plt.axvline(mean + std, color='green', linestyle='--', label=f\"Media + std: {mean + std:.2f}\")\n",
    "plt.axvline(Q1, color='orange', linestyle='--', label=f\"Q1: {Q1:.2f}\")\n",
    "plt.axvline(Q3, color='orange', linestyle='--', label=f\"Q3: {Q3:.2f}\")\n",
    "\n",
    "plt.legend()\n",
    "plt.show()"
   ]
  },
  {
   "cell_type": "markdown",
   "id": "9d4e11fc",
   "metadata": {},
   "source": [
    "LIMPIEZA Y PREPROCESAMIENTO"
   ]
  },
  {
   "cell_type": "code",
   "execution_count": null,
   "id": "066d5d43",
   "metadata": {},
   "outputs": [],
   "source": [
    "#Suma de duplicados\n",
    "df.duplicated().sum()\n",
    "\n",
    "df = df.drop_duplicates()"
   ]
  },
  {
   "cell_type": "code",
   "execution_count": null,
   "id": "4db94bca",
   "metadata": {},
   "outputs": [],
   "source": [
    "colDrop = ['id', 'visibility.1', 'uvIndex', 'windBearing', 'moonPhase', 'cab_type']\n",
    "df = df.drop(columns=colDrop)"
   ]
  },
  {
   "cell_type": "code",
   "execution_count": null,
   "id": "05c382e3",
   "metadata": {},
   "outputs": [],
   "source": [
    "from sklearn.preprocessing import OneHotEncoder, OrdinalEncoder\n",
    "\n",
    "ordEnc = OrdinalEncoder(categories=[['Mon','Tue','Wed','Thu','Fri','Sat','Sun']])\n",
    "df['weekday_encoded'] = ordEnc.fit_transform(df[['weekday']])\n",
    "\n",
    "ohe = OneHotEncoder(sparse_output=False, drop='first')\n",
    "oheCols = ohe.fit_transform(df[['source','destination','name']])\n",
    "ohe_df = pd.DataFrame(oheCols, columns=ohe.get_feature_names_out(['source','destination','name']))\n",
    "\n",
    "df = pd.concat([df.drop(columns=['weekday','source','destination','name']), ohe_df], axis=1)"
   ]
  },
  {
   "cell_type": "code",
   "execution_count": null,
   "id": "5eb75743",
   "metadata": {},
   "outputs": [],
   "source": [
    "from sklearn.preprocessing import StandardScaler\n",
    "\n",
    "numCols = ['hour', 'day', 'month', 'distance', 'surge_multiplier','temperature', 'apparentTemperature', 'precipIntensity',\n",
    "           'precipProbability','humidity', 'windSpeed', 'visibility', 'temperatureHigh', 'temperatureLow', 'dewPoint', 'cloudCover']\n",
    "scaler = StandardScaler()\n",
    "df[numCols] = scaler.fit_transform(df[numCols])\n"
   ]
  },
  {
   "cell_type": "code",
   "execution_count": null,
   "id": "a431d527",
   "metadata": {},
   "outputs": [],
   "source": [
    "from sklearn.decomposition import PCA\n",
    "\n",
    "pca = PCA(n_components=10, random_state=42)\n",
    "X_pca = pca.fit_transform(df[numCols])\n",
    "\n",
    "explainer_var = pca.explained_variance_ratio_\n",
    "plt.plot(range(1,len(explainer_var)+1), explainer_var.cumsum(), marker=\"o\")\n",
    "plt.xlabel(\"Número de componentes\")\n",
    "plt.ylabel(\"Varainza acumulada\")\n",
    "plt.grid(True)\n",
    "plt.show()"
   ]
  },
  {
   "cell_type": "code",
   "execution_count": null,
   "id": "dd3adb07",
   "metadata": {},
   "outputs": [],
   "source": [
    "pca_cols = [f\"PC{i+1}\" for i in range(X_pca.shape[1])]\n",
    "df_pca = pd.DataFrame(X_pca, columns=pca_cols)\n"
   ]
  },
  {
   "cell_type": "code",
   "execution_count": null,
   "id": "d1ebda4d",
   "metadata": {},
   "outputs": [],
   "source": [
    "df_model = pd.concat([\n",
    "    df_pca.reset_index(drop=True),\n",
    "    ohe_df.reset_index(drop=True),\n",
    "    df[['weekday_encoded']].reset_index(drop=True)\n",
    "], axis=1)"
   ]
  },
  {
   "cell_type": "code",
   "execution_count": null,
   "id": "dbb8b952",
   "metadata": {},
   "outputs": [],
   "source": [
    "y = df['price']\n",
    "X = df_model"
   ]
  },
  {
   "cell_type": "code",
   "execution_count": null,
   "id": "7a2272c0",
   "metadata": {},
   "outputs": [],
   "source": [
    "from sklearn.model_selection import train_test_split\n",
    "\n",
    "X_train, X_test, y_train,y_test=train_test_split(\n",
    "    X,y, train_size=0.8, random_state=42\n",
    ")"
   ]
  },
  {
   "cell_type": "code",
   "execution_count": null,
   "id": "4d84990c",
   "metadata": {},
   "outputs": [],
   "source": [
    "from sklearn.tree import DecisionTreeRegressor\n",
    "\n",
    "dt_model = DecisionTreeRegressor(random_state=42)\n",
    "dt_model.fit(X_train, y_train)\n",
    "\n",
    "y_pred = dt_model.predict(X_test)"
   ]
  },
  {
   "cell_type": "code",
   "execution_count": null,
   "id": "1960920a",
   "metadata": {},
   "outputs": [],
   "source": [
    "from sklearn.metrics import mean_squared_error, mean_absolute_error, r2_score\n",
    "\n",
    "mse = mean_squared_error(y_test, y_pred)\n",
    "mae = mean_absolute_error(y_test, y_pred)\n",
    "r2 = r2_score(y_test, y_pred)\n",
    "\n",
    "print(f\"MSE: {mse:.2f}\")\n",
    "print(f\"MAE: {mae:.2f}\")\n",
    "print(f\"R2: {r2:.2f}\")"
   ]
  },
  {
   "cell_type": "code",
   "execution_count": null,
   "id": "286d803d",
   "metadata": {},
   "outputs": [],
   "source": [
    "import matplotlib.pyplot as plt\n",
    "import pandas as pd\n",
    "\n",
    "# Obtener la importancia de cada variable\n",
    "importances = dt_model.feature_importances_\n",
    "\n",
    "# Crear un DataFrame para ordenar y graficar\n",
    "feature_importance_df = pd.DataFrame({\n",
    "    'feature': X_train.columns,\n",
    "    'importance': importances\n",
    "}).sort_values(by='importance', ascending=False)\n",
    "\n",
    "# Graficar\n",
    "plt.figure(figsize=(10,6))\n",
    "plt.barh(feature_importance_df['feature'], feature_importance_df['importance'], color='skyblue')\n",
    "plt.gca().invert_yaxis()\n",
    "plt.xlabel(\"Importancia\")\n",
    "plt.title(\"Importancia de las características en Decision Tree\")\n",
    "plt.show()\n"
   ]
  },
  {
   "cell_type": "code",
   "execution_count": null,
   "id": "40d2d273",
   "metadata": {},
   "outputs": [],
   "source": [
    "X_cluster = df_model"
   ]
  },
  {
   "cell_type": "code",
   "execution_count": null,
   "id": "f40d3379",
   "metadata": {},
   "outputs": [],
   "source": [
    "from sklearn.cluster import KMeans\n",
    "\n",
    "inertia = []\n",
    "K = range(1, 11)\n",
    "\n",
    "for k in K:\n",
    "    kmeans = KMeans(n_clusters=k, random_state=42, n_init=10)\n",
    "    kmeans.fit(X_cluster)\n",
    "    inertia.append(kmeans.inertia_)\n",
    "\n",
    "plt.plot(K, inertia, marker='o')\n",
    "plt.xlabel('Número de clusters')\n",
    "plt.ylabel('Inercia')\n",
    "plt.title('Regla del codo')\n",
    "plt.grid(True)\n",
    "plt.show()"
   ]
  },
  {
   "cell_type": "code",
   "execution_count": null,
   "id": "e91f2066",
   "metadata": {},
   "outputs": [],
   "source": [
    "kmeans = KMeans(n_clusters=3, random_state=42, n_init=10)\n",
    "clusters = kmeans.fit_predict(X_cluster)\n",
    "\n",
    "# Agregamos los clusters al DataFrame\n",
    "df_model['cluster'] = clusters\n"
   ]
  },
  {
   "cell_type": "code",
   "execution_count": null,
   "id": "1888e4ec",
   "metadata": {},
   "outputs": [],
   "source": [
    "df_model.groupby('cluster').mean()\n"
   ]
  },
  {
   "cell_type": "code",
   "execution_count": null,
   "id": "223a7eb0",
   "metadata": {},
   "outputs": [],
   "source": [
    "# -----------------------------\n",
    "# 1️⃣ Clustering: K-Means + Regla del codo\n",
    "# -----------------------------\n",
    "from sklearn.cluster import KMeans\n",
    "import matplotlib.pyplot as plt\n",
    "\n",
    "# Usamos todo df_model (numérico)\n",
    "X_cluster = df_model.drop(columns=['cluster'], errors='ignore')  # por si ya existe la columna\n",
    "\n",
    "# Regla del codo\n",
    "inertia = []\n",
    "K = range(1, 11)  # probamos de 1 a 10 clusters\n",
    "\n",
    "for k in K:\n",
    "    kmeans = KMeans(n_clusters=k, random_state=42, n_init=10)\n",
    "    kmeans.fit(X_cluster)\n",
    "    inertia.append(kmeans.inertia_)\n",
    "\n",
    "plt.plot(K, inertia, marker='o')\n",
    "plt.xlabel('Número de clusters')\n",
    "plt.ylabel('Inercia')\n",
    "plt.title('Regla del codo')\n",
    "plt.grid(True)\n",
    "plt.show()\n",
    "\n",
    "# Entrenar K-Means con el número de clusters elegido (por ejemplo, k=3)\n",
    "kmeans = KMeans(n_clusters=3, random_state=42, n_init=10)\n",
    "clusters = kmeans.fit_predict(X_cluster)\n",
    "\n",
    "# Agregar los clusters al DataFrame\n",
    "df_model['cluster'] = clusters\n",
    "\n",
    "# Explorar los clusters\n",
    "print(df_model.groupby('cluster').mean())\n",
    "\n",
    "# -----------------------------\n",
    "# 2️⃣ MLPRegressor para predecir price\n",
    "# -----------------------------\n",
    "from sklearn.neural_network import MLPRegressor\n",
    "from sklearn.model_selection import train_test_split\n",
    "from sklearn.metrics import mean_squared_error, mean_absolute_error, r2_score\n",
    "\n",
    "# Variable objetivo\n",
    "y = df['price']\n",
    "X = df_model.drop(columns=['cluster'], errors='ignore')  # no usamos cluster como input\n",
    "\n",
    "# Separar entrenamiento y test\n",
    "X_train, X_test, y_train, y_test = train_test_split(\n",
    "    X, y, train_size=0.8, random_state=42\n",
    ")\n",
    "\n",
    "# Entrenar MLPRegressor\n",
    "mlp = MLPRegressor(hidden_layer_sizes=(100,50), max_iter=500, random_state=42)\n",
    "mlp.fit(X_train, y_train)\n",
    "\n",
    "# Predicciones\n",
    "y_pred = mlp.predict(X_test)\n",
    "\n",
    "# Métricas\n",
    "mse = mean_squared_error(y_test, y_pred)\n",
    "mae = mean_absolute_error(y_test, y_pred)\n",
    "r2 = r2_score(y_test, y_pred)\n",
    "\n",
    "print(f\"MSE: {mse:.2f}\")\n",
    "print(f\"MAE: {mae:.2f}\")\n",
    "print(f\"R2: {r2:.2f}\")\n"
   ]
  }
 ],
 "metadata": {
  "kernelspec": {
   "display_name": "Python 3",
   "language": "python",
   "name": "python3"
  },
  "language_info": {
   "codemirror_mode": {
    "name": "ipython",
    "version": 3
   },
   "file_extension": ".py",
   "mimetype": "text/x-python",
   "name": "python",
   "nbconvert_exporter": "python",
   "pygments_lexer": "ipython3",
   "version": "3.12.10"
  }
 },
 "nbformat": 4,
 "nbformat_minor": 5
}
