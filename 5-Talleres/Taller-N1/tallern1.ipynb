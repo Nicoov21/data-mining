{
  "cells": [
    {
      "cell_type": "code",
      "execution_count": 1,
      "id": "7b5d20e0",
      "metadata": {
        "id": "7b5d20e0"
      },
      "outputs": [],
      "source": [
        "import pandas as pd\n",
        "df = pd.read_csv(\"ventas_demo.csv\", sep=\";\")"
      ]
    },
    {
      "cell_type": "markdown",
      "id": "fac8923e",
      "metadata": {
        "id": "fac8923e"
      },
      "source": [
        "# BLoque 1 Limpieza de datos con pandas\n"
      ]
    },
    {
      "cell_type": "markdown",
      "id": "394ee19d",
      "metadata": {
        "id": "394ee19d"
      },
      "source": [
        "1. Carga del dataset y muestra las primeras filas\n"
      ]
    },
    {
      "cell_type": "code",
      "execution_count": 2,
      "id": "57cc4318",
      "metadata": {
        "colab": {
          "base_uri": "https://localhost:8080/",
          "height": 677
        },
        "id": "57cc4318",
        "outputId": "565658aa-3033-4d25-da68-960b521c025a"
      },
      "outputs": [
        {
          "data": {
            "text/html": [
              "<div>\n",
              "<style scoped>\n",
              "    .dataframe tbody tr th:only-of-type {\n",
              "        vertical-align: middle;\n",
              "    }\n",
              "\n",
              "    .dataframe tbody tr th {\n",
              "        vertical-align: top;\n",
              "    }\n",
              "\n",
              "    .dataframe thead th {\n",
              "        text-align: right;\n",
              "    }\n",
              "</style>\n",
              "<table border=\"1\" class=\"dataframe\">\n",
              "  <thead>\n",
              "    <tr style=\"text-align: right;\">\n",
              "      <th></th>\n",
              "      <th>Id</th>\n",
              "      <th>Precio</th>\n",
              "      <th>Descuento</th>\n",
              "      <th>Cantidad</th>\n",
              "      <th>Ciudad</th>\n",
              "      <th>Categoria</th>\n",
              "    </tr>\n",
              "  </thead>\n",
              "  <tbody>\n",
              "    <tr>\n",
              "      <th>0</th>\n",
              "      <td>1</td>\n",
              "      <td>16686.0</td>\n",
              "      <td>0.088728</td>\n",
              "      <td>3</td>\n",
              "      <td>Talca</td>\n",
              "      <td>Pastelería</td>\n",
              "    </tr>\n",
              "    <tr>\n",
              "      <th>1</th>\n",
              "      <td>2</td>\n",
              "      <td>19594.0</td>\n",
              "      <td>0.036149</td>\n",
              "      <td>5</td>\n",
              "      <td>Santiago</td>\n",
              "      <td>Bebestibles</td>\n",
              "    </tr>\n",
              "    <tr>\n",
              "      <th>2</th>\n",
              "      <td>3</td>\n",
              "      <td>8149.0</td>\n",
              "      <td>0.103496</td>\n",
              "      <td>2</td>\n",
              "      <td>Concepción</td>\n",
              "      <td>Bebestibles</td>\n",
              "    </tr>\n",
              "    <tr>\n",
              "      <th>3</th>\n",
              "      <td>4</td>\n",
              "      <td>8273.0</td>\n",
              "      <td>0.046188</td>\n",
              "      <td>8</td>\n",
              "      <td>Concepción</td>\n",
              "      <td>Pastelería</td>\n",
              "    </tr>\n",
              "    <tr>\n",
              "      <th>4</th>\n",
              "      <td>5</td>\n",
              "      <td>17677.0</td>\n",
              "      <td>0.062412</td>\n",
              "      <td>10</td>\n",
              "      <td>Santiago</td>\n",
              "      <td>Bebestibles</td>\n",
              "    </tr>\n",
              "    <tr>\n",
              "      <th>5</th>\n",
              "      <td>6</td>\n",
              "      <td>15340.0</td>\n",
              "      <td>0.119852</td>\n",
              "      <td>7</td>\n",
              "      <td>Concepción</td>\n",
              "      <td>Café</td>\n",
              "    </tr>\n",
              "    <tr>\n",
              "      <th>6</th>\n",
              "      <td>7</td>\n",
              "      <td>18282.0</td>\n",
              "      <td>0.127779</td>\n",
              "      <td>2</td>\n",
              "      <td>Santiago</td>\n",
              "      <td>Pastelería</td>\n",
              "    </tr>\n",
              "    <tr>\n",
              "      <th>7</th>\n",
              "      <td>8</td>\n",
              "      <td>13864.0</td>\n",
              "      <td>0.068892</td>\n",
              "      <td>2</td>\n",
              "      <td>Santiago</td>\n",
              "      <td>Café</td>\n",
              "    </tr>\n",
              "    <tr>\n",
              "      <th>8</th>\n",
              "      <td>9</td>\n",
              "      <td>16659.0</td>\n",
              "      <td>0.149370</td>\n",
              "      <td>5</td>\n",
              "      <td>Concepción</td>\n",
              "      <td>Snacks</td>\n",
              "    </tr>\n",
              "    <tr>\n",
              "      <th>9</th>\n",
              "      <td>10</td>\n",
              "      <td>15939.0</td>\n",
              "      <td>0.157875</td>\n",
              "      <td>6</td>\n",
              "      <td>Concepción</td>\n",
              "      <td>Snacks</td>\n",
              "    </tr>\n",
              "    <tr>\n",
              "      <th>10</th>\n",
              "      <td>11</td>\n",
              "      <td>19657.0</td>\n",
              "      <td>0.171815</td>\n",
              "      <td>7</td>\n",
              "      <td>Concepción</td>\n",
              "      <td>Bebestibles</td>\n",
              "    </tr>\n",
              "    <tr>\n",
              "      <th>11</th>\n",
              "      <td>12</td>\n",
              "      <td>19832.0</td>\n",
              "      <td>0.126471</td>\n",
              "      <td>3</td>\n",
              "      <td>Talca</td>\n",
              "      <td>Pastelería</td>\n",
              "    </tr>\n",
              "    <tr>\n",
              "      <th>12</th>\n",
              "      <td>13</td>\n",
              "      <td>5271.0</td>\n",
              "      <td>NaN</td>\n",
              "      <td>6</td>\n",
              "      <td>Santiago</td>\n",
              "      <td>Snacks</td>\n",
              "    </tr>\n",
              "    <tr>\n",
              "      <th>13</th>\n",
              "      <td>14</td>\n",
              "      <td>1990.0</td>\n",
              "      <td>0.005960</td>\n",
              "      <td>4</td>\n",
              "      <td>Concepción</td>\n",
              "      <td>Bebestibles</td>\n",
              "    </tr>\n",
              "    <tr>\n",
              "      <th>14</th>\n",
              "      <td>15</td>\n",
              "      <td>21000.0</td>\n",
              "      <td>0.084105</td>\n",
              "      <td>8</td>\n",
              "      <td>Talca</td>\n",
              "      <td>Snacks</td>\n",
              "    </tr>\n",
              "    <tr>\n",
              "      <th>15</th>\n",
              "      <td>16</td>\n",
              "      <td>22116.0</td>\n",
              "      <td>0.056650</td>\n",
              "      <td>9</td>\n",
              "      <td>Concepción</td>\n",
              "      <td>Pastelería</td>\n",
              "    </tr>\n",
              "    <tr>\n",
              "      <th>16</th>\n",
              "      <td>17</td>\n",
              "      <td>8866.0</td>\n",
              "      <td>0.105961</td>\n",
              "      <td>8</td>\n",
              "      <td>Concepción</td>\n",
              "      <td>Bebestibles</td>\n",
              "    </tr>\n",
              "    <tr>\n",
              "      <th>17</th>\n",
              "      <td>18</td>\n",
              "      <td>3831.0</td>\n",
              "      <td>0.071428</td>\n",
              "      <td>1</td>\n",
              "      <td>Temuco</td>\n",
              "      <td>Pastelería</td>\n",
              "    </tr>\n",
              "    <tr>\n",
              "      <th>18</th>\n",
              "      <td>19</td>\n",
              "      <td>15584.0</td>\n",
              "      <td>0.091692</td>\n",
              "      <td>11</td>\n",
              "      <td>Concepción</td>\n",
              "      <td>Café</td>\n",
              "    </tr>\n",
              "    <tr>\n",
              "      <th>19</th>\n",
              "      <td>20</td>\n",
              "      <td>20575.0</td>\n",
              "      <td>NaN</td>\n",
              "      <td>1</td>\n",
              "      <td>Concepción</td>\n",
              "      <td>Pastelería</td>\n",
              "    </tr>\n",
              "  </tbody>\n",
              "</table>\n",
              "</div>"
            ],
            "text/plain": [
              "    Id   Precio  Descuento  Cantidad      Ciudad    Categoria\n",
              "0    1  16686.0   0.088728         3       Talca   Pastelería\n",
              "1    2  19594.0   0.036149         5    Santiago  Bebestibles\n",
              "2    3   8149.0   0.103496         2  Concepción  Bebestibles\n",
              "3    4   8273.0   0.046188         8  Concepción   Pastelería\n",
              "4    5  17677.0   0.062412        10    Santiago  Bebestibles\n",
              "5    6  15340.0   0.119852         7  Concepción         Café\n",
              "6    7  18282.0   0.127779         2    Santiago   Pastelería\n",
              "7    8  13864.0   0.068892         2    Santiago         Café\n",
              "8    9  16659.0   0.149370         5  Concepción       Snacks\n",
              "9   10  15939.0   0.157875         6  Concepción       Snacks\n",
              "10  11  19657.0   0.171815         7  Concepción  Bebestibles\n",
              "11  12  19832.0   0.126471         3       Talca   Pastelería\n",
              "12  13   5271.0        NaN         6    Santiago       Snacks\n",
              "13  14   1990.0   0.005960         4  Concepción  Bebestibles\n",
              "14  15  21000.0   0.084105         8       Talca       Snacks\n",
              "15  16  22116.0   0.056650         9  Concepción   Pastelería\n",
              "16  17   8866.0   0.105961         8  Concepción  Bebestibles\n",
              "17  18   3831.0   0.071428         1      Temuco   Pastelería\n",
              "18  19  15584.0   0.091692        11  Concepción         Café\n",
              "19  20  20575.0        NaN         1  Concepción   Pastelería"
            ]
          },
          "execution_count": 2,
          "metadata": {},
          "output_type": "execute_result"
        }
      ],
      "source": [
        "df.head(20)\n"
      ]
    },
    {
      "cell_type": "markdown",
      "id": "7c99e0bb",
      "metadata": {
        "id": "7c99e0bb"
      },
      "source": [
        "2. Calcula la cantidad de valores nulos por columna\n"
      ]
    },
    {
      "cell_type": "code",
      "execution_count": 3,
      "id": "33b67000",
      "metadata": {
        "colab": {
          "base_uri": "https://localhost:8080/",
          "height": 272
        },
        "id": "33b67000",
        "outputId": "2cb8bfd1-cd38-49bf-8db7-1de474418e94"
      },
      "outputs": [
        {
          "data": {
            "text/plain": [
              "Descuento    15\n",
              "Categoria     9\n",
              "Precio        0\n",
              "Id            0\n",
              "Cantidad      0\n",
              "Ciudad        0\n",
              "dtype: int64"
            ]
          },
          "execution_count": 3,
          "metadata": {},
          "output_type": "execute_result"
        }
      ],
      "source": [
        "df.isna().sum().sort_values(ascending=False)"
      ]
    },
    {
      "cell_type": "markdown",
      "id": "cf2e3dde",
      "metadata": {
        "id": "cf2e3dde"
      },
      "source": [
        "3. Imputa los valores faltantes de Descuento con la mediana\n"
      ]
    },
    {
      "cell_type": "code",
      "execution_count": 4,
      "id": "cd878b45",
      "metadata": {
        "colab": {
          "base_uri": "https://localhost:8080/"
        },
        "id": "cd878b45",
        "outputId": "40e2ab9f-2dc5-40b8-f511-d78b49c5380c"
      },
      "outputs": [
        {
          "name": "stderr",
          "output_type": "stream",
          "text": [
            "C:\\Users\\nicol\\AppData\\Local\\Temp\\ipykernel_17156\\188832815.py:1: FutureWarning: A value is trying to be set on a copy of a DataFrame or Series through chained assignment using an inplace method.\n",
            "The behavior will change in pandas 3.0. This inplace method will never work because the intermediate object on which we are setting values always behaves as a copy.\n",
            "\n",
            "For example, when doing 'df[col].method(value, inplace=True)', try using 'df.method({col: value}, inplace=True)' or df[col] = df[col].method(value) instead, to perform the operation inplace on the original object.\n",
            "\n",
            "\n",
            "  df['Descuento'].fillna(df['Descuento'].median(), inplace=True)\n"
          ]
        }
      ],
      "source": [
        "df['Descuento'].fillna(df['Descuento'].median(), inplace=True)"
      ]
    },
    {
      "cell_type": "code",
      "execution_count": 5,
      "id": "a50666b5",
      "metadata": {
        "colab": {
          "base_uri": "https://localhost:8080/",
          "height": 272
        },
        "id": "a50666b5",
        "outputId": "e94b67be-cf27-4002-a155-1dfb723a94fb"
      },
      "outputs": [
        {
          "data": {
            "text/plain": [
              "Categoria    9\n",
              "Id           0\n",
              "Precio       0\n",
              "Descuento    0\n",
              "Cantidad     0\n",
              "Ciudad       0\n",
              "dtype: int64"
            ]
          },
          "execution_count": 5,
          "metadata": {},
          "output_type": "execute_result"
        }
      ],
      "source": [
        "df.isna().sum().sort_values(ascending=False)"
      ]
    },
    {
      "cell_type": "code",
      "execution_count": 6,
      "id": "c4367525",
      "metadata": {
        "colab": {
          "base_uri": "https://localhost:8080/",
          "height": 677
        },
        "id": "c4367525",
        "outputId": "ae249cdc-4c43-40a2-96c8-e4e31ec5bf5f"
      },
      "outputs": [
        {
          "data": {
            "text/html": [
              "<div>\n",
              "<style scoped>\n",
              "    .dataframe tbody tr th:only-of-type {\n",
              "        vertical-align: middle;\n",
              "    }\n",
              "\n",
              "    .dataframe tbody tr th {\n",
              "        vertical-align: top;\n",
              "    }\n",
              "\n",
              "    .dataframe thead th {\n",
              "        text-align: right;\n",
              "    }\n",
              "</style>\n",
              "<table border=\"1\" class=\"dataframe\">\n",
              "  <thead>\n",
              "    <tr style=\"text-align: right;\">\n",
              "      <th></th>\n",
              "      <th>Id</th>\n",
              "      <th>Precio</th>\n",
              "      <th>Descuento</th>\n",
              "      <th>Cantidad</th>\n",
              "      <th>Ciudad</th>\n",
              "      <th>Categoria</th>\n",
              "    </tr>\n",
              "  </thead>\n",
              "  <tbody>\n",
              "    <tr>\n",
              "      <th>0</th>\n",
              "      <td>1</td>\n",
              "      <td>16686.0</td>\n",
              "      <td>0.088728</td>\n",
              "      <td>3</td>\n",
              "      <td>Talca</td>\n",
              "      <td>Pastelería</td>\n",
              "    </tr>\n",
              "    <tr>\n",
              "      <th>1</th>\n",
              "      <td>2</td>\n",
              "      <td>19594.0</td>\n",
              "      <td>0.036149</td>\n",
              "      <td>5</td>\n",
              "      <td>Santiago</td>\n",
              "      <td>Bebestibles</td>\n",
              "    </tr>\n",
              "    <tr>\n",
              "      <th>2</th>\n",
              "      <td>3</td>\n",
              "      <td>8149.0</td>\n",
              "      <td>0.103496</td>\n",
              "      <td>2</td>\n",
              "      <td>Concepción</td>\n",
              "      <td>Bebestibles</td>\n",
              "    </tr>\n",
              "    <tr>\n",
              "      <th>3</th>\n",
              "      <td>4</td>\n",
              "      <td>8273.0</td>\n",
              "      <td>0.046188</td>\n",
              "      <td>8</td>\n",
              "      <td>Concepción</td>\n",
              "      <td>Pastelería</td>\n",
              "    </tr>\n",
              "    <tr>\n",
              "      <th>4</th>\n",
              "      <td>5</td>\n",
              "      <td>17677.0</td>\n",
              "      <td>0.062412</td>\n",
              "      <td>10</td>\n",
              "      <td>Santiago</td>\n",
              "      <td>Bebestibles</td>\n",
              "    </tr>\n",
              "    <tr>\n",
              "      <th>5</th>\n",
              "      <td>6</td>\n",
              "      <td>15340.0</td>\n",
              "      <td>0.119852</td>\n",
              "      <td>7</td>\n",
              "      <td>Concepción</td>\n",
              "      <td>Café</td>\n",
              "    </tr>\n",
              "    <tr>\n",
              "      <th>6</th>\n",
              "      <td>7</td>\n",
              "      <td>18282.0</td>\n",
              "      <td>0.127779</td>\n",
              "      <td>2</td>\n",
              "      <td>Santiago</td>\n",
              "      <td>Pastelería</td>\n",
              "    </tr>\n",
              "    <tr>\n",
              "      <th>7</th>\n",
              "      <td>8</td>\n",
              "      <td>13864.0</td>\n",
              "      <td>0.068892</td>\n",
              "      <td>2</td>\n",
              "      <td>Santiago</td>\n",
              "      <td>Café</td>\n",
              "    </tr>\n",
              "    <tr>\n",
              "      <th>8</th>\n",
              "      <td>9</td>\n",
              "      <td>16659.0</td>\n",
              "      <td>0.149370</td>\n",
              "      <td>5</td>\n",
              "      <td>Concepción</td>\n",
              "      <td>Snacks</td>\n",
              "    </tr>\n",
              "    <tr>\n",
              "      <th>9</th>\n",
              "      <td>10</td>\n",
              "      <td>15939.0</td>\n",
              "      <td>0.157875</td>\n",
              "      <td>6</td>\n",
              "      <td>Concepción</td>\n",
              "      <td>Snacks</td>\n",
              "    </tr>\n",
              "    <tr>\n",
              "      <th>10</th>\n",
              "      <td>11</td>\n",
              "      <td>19657.0</td>\n",
              "      <td>0.171815</td>\n",
              "      <td>7</td>\n",
              "      <td>Concepción</td>\n",
              "      <td>Bebestibles</td>\n",
              "    </tr>\n",
              "    <tr>\n",
              "      <th>11</th>\n",
              "      <td>12</td>\n",
              "      <td>19832.0</td>\n",
              "      <td>0.126471</td>\n",
              "      <td>3</td>\n",
              "      <td>Talca</td>\n",
              "      <td>Pastelería</td>\n",
              "    </tr>\n",
              "    <tr>\n",
              "      <th>12</th>\n",
              "      <td>13</td>\n",
              "      <td>5271.0</td>\n",
              "      <td>0.105917</td>\n",
              "      <td>6</td>\n",
              "      <td>Santiago</td>\n",
              "      <td>Snacks</td>\n",
              "    </tr>\n",
              "    <tr>\n",
              "      <th>13</th>\n",
              "      <td>14</td>\n",
              "      <td>1990.0</td>\n",
              "      <td>0.005960</td>\n",
              "      <td>4</td>\n",
              "      <td>Concepción</td>\n",
              "      <td>Bebestibles</td>\n",
              "    </tr>\n",
              "    <tr>\n",
              "      <th>14</th>\n",
              "      <td>15</td>\n",
              "      <td>21000.0</td>\n",
              "      <td>0.084105</td>\n",
              "      <td>8</td>\n",
              "      <td>Talca</td>\n",
              "      <td>Snacks</td>\n",
              "    </tr>\n",
              "    <tr>\n",
              "      <th>15</th>\n",
              "      <td>16</td>\n",
              "      <td>22116.0</td>\n",
              "      <td>0.056650</td>\n",
              "      <td>9</td>\n",
              "      <td>Concepción</td>\n",
              "      <td>Pastelería</td>\n",
              "    </tr>\n",
              "    <tr>\n",
              "      <th>16</th>\n",
              "      <td>17</td>\n",
              "      <td>8866.0</td>\n",
              "      <td>0.105961</td>\n",
              "      <td>8</td>\n",
              "      <td>Concepción</td>\n",
              "      <td>Bebestibles</td>\n",
              "    </tr>\n",
              "    <tr>\n",
              "      <th>17</th>\n",
              "      <td>18</td>\n",
              "      <td>3831.0</td>\n",
              "      <td>0.071428</td>\n",
              "      <td>1</td>\n",
              "      <td>Temuco</td>\n",
              "      <td>Pastelería</td>\n",
              "    </tr>\n",
              "    <tr>\n",
              "      <th>18</th>\n",
              "      <td>19</td>\n",
              "      <td>15584.0</td>\n",
              "      <td>0.091692</td>\n",
              "      <td>11</td>\n",
              "      <td>Concepción</td>\n",
              "      <td>Café</td>\n",
              "    </tr>\n",
              "    <tr>\n",
              "      <th>19</th>\n",
              "      <td>20</td>\n",
              "      <td>20575.0</td>\n",
              "      <td>0.105917</td>\n",
              "      <td>1</td>\n",
              "      <td>Concepción</td>\n",
              "      <td>Pastelería</td>\n",
              "    </tr>\n",
              "  </tbody>\n",
              "</table>\n",
              "</div>"
            ],
            "text/plain": [
              "    Id   Precio  Descuento  Cantidad      Ciudad    Categoria\n",
              "0    1  16686.0   0.088728         3       Talca   Pastelería\n",
              "1    2  19594.0   0.036149         5    Santiago  Bebestibles\n",
              "2    3   8149.0   0.103496         2  Concepción  Bebestibles\n",
              "3    4   8273.0   0.046188         8  Concepción   Pastelería\n",
              "4    5  17677.0   0.062412        10    Santiago  Bebestibles\n",
              "5    6  15340.0   0.119852         7  Concepción         Café\n",
              "6    7  18282.0   0.127779         2    Santiago   Pastelería\n",
              "7    8  13864.0   0.068892         2    Santiago         Café\n",
              "8    9  16659.0   0.149370         5  Concepción       Snacks\n",
              "9   10  15939.0   0.157875         6  Concepción       Snacks\n",
              "10  11  19657.0   0.171815         7  Concepción  Bebestibles\n",
              "11  12  19832.0   0.126471         3       Talca   Pastelería\n",
              "12  13   5271.0   0.105917         6    Santiago       Snacks\n",
              "13  14   1990.0   0.005960         4  Concepción  Bebestibles\n",
              "14  15  21000.0   0.084105         8       Talca       Snacks\n",
              "15  16  22116.0   0.056650         9  Concepción   Pastelería\n",
              "16  17   8866.0   0.105961         8  Concepción  Bebestibles\n",
              "17  18   3831.0   0.071428         1      Temuco   Pastelería\n",
              "18  19  15584.0   0.091692        11  Concepción         Café\n",
              "19  20  20575.0   0.105917         1  Concepción   Pastelería"
            ]
          },
          "execution_count": 6,
          "metadata": {},
          "output_type": "execute_result"
        }
      ],
      "source": [
        "df.head(20)"
      ]
    },
    {
      "cell_type": "markdown",
      "id": "cfde01b8",
      "metadata": {
        "id": "cfde01b8"
      },
      "source": [
        "4. Reemplaza los nulos de Categoría con el valor más frecuente\n"
      ]
    },
    {
      "cell_type": "code",
      "execution_count": 7,
      "id": "4a7b5d0f",
      "metadata": {
        "colab": {
          "base_uri": "https://localhost:8080/"
        },
        "id": "4a7b5d0f",
        "outputId": "0485765f-c018-49b9-c0b2-8bb69b9845b2"
      },
      "outputs": [
        {
          "name": "stderr",
          "output_type": "stream",
          "text": [
            "C:\\Users\\nicol\\AppData\\Local\\Temp\\ipykernel_17156\\2481078812.py:1: FutureWarning: A value is trying to be set on a copy of a DataFrame or Series through chained assignment using an inplace method.\n",
            "The behavior will change in pandas 3.0. This inplace method will never work because the intermediate object on which we are setting values always behaves as a copy.\n",
            "\n",
            "For example, when doing 'df[col].method(value, inplace=True)', try using 'df.method({col: value}, inplace=True)' or df[col] = df[col].method(value) instead, to perform the operation inplace on the original object.\n",
            "\n",
            "\n",
            "  df['Categoria'].fillna(df['Categoria'].mode()[0], inplace=True)\n"
          ]
        }
      ],
      "source": [
        "df['Categoria'].fillna(df['Categoria'].mode()[0], inplace=True)"
      ]
    },
    {
      "cell_type": "code",
      "execution_count": 8,
      "id": "70fbbf67",
      "metadata": {
        "colab": {
          "base_uri": "https://localhost:8080/",
          "height": 272
        },
        "id": "70fbbf67",
        "outputId": "d60387f2-96fa-42ff-d62c-b62f0849fed6"
      },
      "outputs": [
        {
          "data": {
            "text/plain": [
              "Id           0\n",
              "Precio       0\n",
              "Descuento    0\n",
              "Cantidad     0\n",
              "Ciudad       0\n",
              "Categoria    0\n",
              "dtype: int64"
            ]
          },
          "execution_count": 8,
          "metadata": {},
          "output_type": "execute_result"
        }
      ],
      "source": [
        "df.isna().sum().sort_values(ascending=False)"
      ]
    },
    {
      "cell_type": "markdown",
      "id": "dcdda9e1",
      "metadata": {
        "id": "dcdda9e1"
      },
      "source": [
        "5. Elimina los duplicados\n"
      ]
    },
    {
      "cell_type": "code",
      "execution_count": 9,
      "id": "0f3092d7",
      "metadata": {
        "colab": {
          "base_uri": "https://localhost:8080/"
        },
        "id": "0f3092d7",
        "outputId": "cf142a7f-6e1d-45e8-fb06-7899a16f88ac"
      },
      "outputs": [
        {
          "data": {
            "text/plain": [
              "np.int64(4)"
            ]
          },
          "execution_count": 9,
          "metadata": {},
          "output_type": "execute_result"
        }
      ],
      "source": [
        "df.duplicated().sum()\n"
      ]
    },
    {
      "cell_type": "code",
      "execution_count": 10,
      "id": "1245c575",
      "metadata": {
        "id": "1245c575"
      },
      "outputs": [],
      "source": [
        "df=df.drop_duplicates()"
      ]
    },
    {
      "cell_type": "code",
      "execution_count": 11,
      "id": "8JuZfiGQjdtC",
      "metadata": {
        "colab": {
          "base_uri": "https://localhost:8080/"
        },
        "id": "8JuZfiGQjdtC",
        "outputId": "54de2726-0f00-43ce-85dc-9838c9c9bd70"
      },
      "outputs": [
        {
          "data": {
            "text/plain": [
              "np.int64(0)"
            ]
          },
          "execution_count": 11,
          "metadata": {},
          "output_type": "execute_result"
        }
      ],
      "source": [
        "df.duplicated().sum()\n"
      ]
    },
    {
      "cell_type": "markdown",
      "id": "e5190488",
      "metadata": {
        "id": "e5190488"
      },
      "source": [
        "6. Detecta los outliers de Precio usando el método IQR\n"
      ]
    },
    {
      "cell_type": "code",
      "execution_count": 12,
      "id": "25f7c2b1",
      "metadata": {
        "id": "25f7c2b1"
      },
      "outputs": [],
      "source": [
        "Q1 = df['Precio'].quantile(0.25)\n",
        "Q3 = df['Precio'].quantile(0.75)\n",
        "IQR = Q3 - Q1\n",
        "Outliers = df[(df['Precio'] < Q1 - 1.5 * IQR) | (df['Precio'] > Q3 + 1.5 * IQR)]"
      ]
    },
    {
      "cell_type": "markdown",
      "id": "8cebbaeb",
      "metadata": {
        "id": "8cebbaeb"
      },
      "source": [
        "7. Indica cuántos outliers fueron detectados (solo número, no análisis)\n"
      ]
    },
    {
      "cell_type": "code",
      "execution_count": 13,
      "id": "333a03b3",
      "metadata": {
        "colab": {
          "base_uri": "https://localhost:8080/"
        },
        "id": "333a03b3",
        "outputId": "cced235b-c1f5-47d4-a326-56e2d9a755e2"
      },
      "outputs": [
        {
          "data": {
            "text/plain": [
              "3"
            ]
          },
          "execution_count": 13,
          "metadata": {},
          "output_type": "execute_result"
        }
      ],
      "source": [
        "Outliers.shape[0] #Outliers de Precio"
      ]
    },
    {
      "cell_type": "markdown",
      "id": "08737de5",
      "metadata": {
        "id": "08737de5"
      },
      "source": [
        "# Bloque 2 Preprocesamiento y Probabilidad\n"
      ]
    },
    {
      "cell_type": "code",
      "execution_count": 14,
      "id": "3ea36a86",
      "metadata": {
        "id": "3ea36a86"
      },
      "outputs": [],
      "source": [
        "import pandas as pd\n",
        "df2 = pd.read_csv(\"productos_demo.csv\", sep=\";\")"
      ]
    },
    {
      "cell_type": "code",
      "execution_count": 15,
      "id": "7923626c",
      "metadata": {
        "colab": {
          "base_uri": "https://localhost:8080/",
          "height": 209
        },
        "id": "7923626c",
        "outputId": "309c2963-2959-4d56-df2b-cd22c77594c4"
      },
      "outputs": [
        {
          "data": {
            "text/plain": [
              "Categoria    7\n",
              "Proveedor    5\n",
              "Stock        0\n",
              "Precio       0\n",
              "dtype: int64"
            ]
          },
          "execution_count": 15,
          "metadata": {},
          "output_type": "execute_result"
        }
      ],
      "source": [
        "df2.isna().sum().sort_values(ascending=False)"
      ]
    },
    {
      "cell_type": "code",
      "execution_count": 16,
      "id": "42ddf8ae",
      "metadata": {
        "colab": {
          "base_uri": "https://localhost:8080/"
        },
        "id": "42ddf8ae",
        "outputId": "2133e423-3a6c-4c71-bdfe-48ea700f2ba1"
      },
      "outputs": [
        {
          "name": "stderr",
          "output_type": "stream",
          "text": [
            "C:\\Users\\nicol\\AppData\\Local\\Temp\\ipykernel_17156\\1432465839.py:1: FutureWarning: A value is trying to be set on a copy of a DataFrame or Series through chained assignment using an inplace method.\n",
            "The behavior will change in pandas 3.0. This inplace method will never work because the intermediate object on which we are setting values always behaves as a copy.\n",
            "\n",
            "For example, when doing 'df[col].method(value, inplace=True)', try using 'df.method({col: value}, inplace=True)' or df[col] = df[col].method(value) instead, to perform the operation inplace on the original object.\n",
            "\n",
            "\n",
            "  df2['Categoria'].fillna(df2['Categoria'].mode()[0], inplace=True)\n",
            "C:\\Users\\nicol\\AppData\\Local\\Temp\\ipykernel_17156\\1432465839.py:2: FutureWarning: A value is trying to be set on a copy of a DataFrame or Series through chained assignment using an inplace method.\n",
            "The behavior will change in pandas 3.0. This inplace method will never work because the intermediate object on which we are setting values always behaves as a copy.\n",
            "\n",
            "For example, when doing 'df[col].method(value, inplace=True)', try using 'df.method({col: value}, inplace=True)' or df[col] = df[col].method(value) instead, to perform the operation inplace on the original object.\n",
            "\n",
            "\n",
            "  df2['Proveedor'].fillna(df2['Proveedor'].mode()[0], inplace=True)\n"
          ]
        }
      ],
      "source": [
        "df2['Categoria'].fillna(df2['Categoria'].mode()[0], inplace=True)\n",
        "df2['Proveedor'].fillna(df2['Proveedor'].mode()[0], inplace=True)"
      ]
    },
    {
      "cell_type": "code",
      "execution_count": 17,
      "id": "Gv_IOkh4G_j1",
      "metadata": {
        "colab": {
          "base_uri": "https://localhost:8080/",
          "height": 366
        },
        "id": "Gv_IOkh4G_j1",
        "outputId": "6acc0d0f-e6f7-432b-f207-b8b6ddf8bcd4"
      },
      "outputs": [
        {
          "data": {
            "text/plain": [
              "Precio       0\n",
              "Stock        0\n",
              "Categoria    0\n",
              "Proveedor    0\n",
              "dtype: int64"
            ]
          },
          "execution_count": 17,
          "metadata": {},
          "output_type": "execute_result"
        }
      ],
      "source": [
        "df2.isna().sum().sort_values(ascending=False)"
      ]
    },
    {
      "cell_type": "markdown",
      "id": "76e84beb",
      "metadata": {
        "id": "76e84beb"
      },
      "source": [
        "1.  Normaliza las columnas númericas (Precio, Stock) con MinMaxScaler"
      ]
    },
    {
      "cell_type": "code",
      "execution_count": 18,
      "id": "67445443",
      "metadata": {
        "id": "67445443"
      },
      "outputs": [],
      "source": [
        "from sklearn.preprocessing import MinMaxScaler\n",
        "\n",
        "scalerMM = MinMaxScaler()\n",
        "df2[['Precio', 'Stock']] = scalerMM.fit_transform(df2[['Precio', 'Stock']])"
      ]
    },
    {
      "cell_type": "code",
      "execution_count": 19,
      "id": "eb0ee444",
      "metadata": {
        "colab": {
          "base_uri": "https://localhost:8080/",
          "height": 424
        },
        "id": "eb0ee444",
        "outputId": "5099d330-d506-48a2-f42f-bb72b08af547"
      },
      "outputs": [
        {
          "data": {
            "text/html": [
              "<div>\n",
              "<style scoped>\n",
              "    .dataframe tbody tr th:only-of-type {\n",
              "        vertical-align: middle;\n",
              "    }\n",
              "\n",
              "    .dataframe tbody tr th {\n",
              "        vertical-align: top;\n",
              "    }\n",
              "\n",
              "    .dataframe thead th {\n",
              "        text-align: right;\n",
              "    }\n",
              "</style>\n",
              "<table border=\"1\" class=\"dataframe\">\n",
              "  <thead>\n",
              "    <tr style=\"text-align: right;\">\n",
              "      <th></th>\n",
              "      <th>Precio</th>\n",
              "      <th>Stock</th>\n",
              "    </tr>\n",
              "  </thead>\n",
              "  <tbody>\n",
              "    <tr>\n",
              "      <th>0</th>\n",
              "      <td>0.169240</td>\n",
              "      <td>0.192</td>\n",
              "    </tr>\n",
              "    <tr>\n",
              "      <th>1</th>\n",
              "      <td>0.314034</td>\n",
              "      <td>0.520</td>\n",
              "    </tr>\n",
              "    <tr>\n",
              "      <th>2</th>\n",
              "      <td>0.294622</td>\n",
              "      <td>0.344</td>\n",
              "    </tr>\n",
              "    <tr>\n",
              "      <th>3</th>\n",
              "      <td>0.585080</td>\n",
              "      <td>0.912</td>\n",
              "    </tr>\n",
              "    <tr>\n",
              "      <th>4</th>\n",
              "      <td>0.592342</td>\n",
              "      <td>0.096</td>\n",
              "    </tr>\n",
              "    <tr>\n",
              "      <th>...</th>\n",
              "      <td>...</td>\n",
              "      <td>...</td>\n",
              "    </tr>\n",
              "    <tr>\n",
              "      <th>138</th>\n",
              "      <td>0.168079</td>\n",
              "      <td>0.216</td>\n",
              "    </tr>\n",
              "    <tr>\n",
              "      <th>139</th>\n",
              "      <td>0.332672</td>\n",
              "      <td>0.520</td>\n",
              "    </tr>\n",
              "    <tr>\n",
              "      <th>140</th>\n",
              "      <td>0.121799</td>\n",
              "      <td>0.456</td>\n",
              "    </tr>\n",
              "    <tr>\n",
              "      <th>141</th>\n",
              "      <td>0.359781</td>\n",
              "      <td>0.216</td>\n",
              "    </tr>\n",
              "    <tr>\n",
              "      <th>142</th>\n",
              "      <td>0.585080</td>\n",
              "      <td>0.912</td>\n",
              "    </tr>\n",
              "  </tbody>\n",
              "</table>\n",
              "<p>143 rows × 2 columns</p>\n",
              "</div>"
            ],
            "text/plain": [
              "       Precio  Stock\n",
              "0    0.169240  0.192\n",
              "1    0.314034  0.520\n",
              "2    0.294622  0.344\n",
              "3    0.585080  0.912\n",
              "4    0.592342  0.096\n",
              "..        ...    ...\n",
              "138  0.168079  0.216\n",
              "139  0.332672  0.520\n",
              "140  0.121799  0.456\n",
              "141  0.359781  0.216\n",
              "142  0.585080  0.912\n",
              "\n",
              "[143 rows x 2 columns]"
            ]
          },
          "execution_count": 19,
          "metadata": {},
          "output_type": "execute_result"
        }
      ],
      "source": [
        "df2[['Precio', 'Stock']]"
      ]
    },
    {
      "cell_type": "markdown",
      "id": "5388490b",
      "metadata": {
        "id": "5388490b"
      },
      "source": [
        "Codifica las columnas categóricas (Categoria, Proveedor) con OneHotEncoder\n"
      ]
    },
    {
      "cell_type": "code",
      "execution_count": 20,
      "id": "60aa149b",
      "metadata": {
        "id": "60aa149b"
      },
      "outputs": [],
      "source": [
        "from sklearn.preprocessing import OneHotEncoder\n",
        "OHE = OneHotEncoder(sparse_output=False)\n",
        "encoded = OHE.fit_transform(df2[['Categoria', 'Proveedor']])\n",
        "df_encoded = pd.DataFrame(encoded, columns=OHE.get_feature_names_out(['Categoria', 'Proveedor']))\n",
        "df2 = pd.concat([df2, df_encoded], axis=1)"
      ]
    },
    {
      "cell_type": "code",
      "execution_count": 21,
      "id": "34da03bc",
      "metadata": {
        "colab": {
          "base_uri": "https://localhost:8080/"
        },
        "id": "34da03bc",
        "outputId": "678bc2e5-142a-4666-c85d-70f80be96390"
      },
      "outputs": [
        {
          "data": {
            "text/plain": [
              "['Precio',\n",
              " 'Stock',\n",
              " 'Categoria',\n",
              " 'Proveedor',\n",
              " 'Categoria_Línea A',\n",
              " 'Categoria_Línea B',\n",
              " 'Categoria_Línea C',\n",
              " 'Proveedor_ProvCentro',\n",
              " 'Proveedor_ProvNorte',\n",
              " 'Proveedor_ProvSur']"
            ]
          },
          "execution_count": 21,
          "metadata": {},
          "output_type": "execute_result"
        }
      ],
      "source": [
        "df2.columns.tolist()"
      ]
    },
    {
      "cell_type": "code",
      "execution_count": 22,
      "id": "8ab48e38",
      "metadata": {
        "id": "8ab48e38"
      },
      "outputs": [],
      "source": [
        "df2.drop(columns=['Categoria', 'Proveedor'], inplace=True)"
      ]
    },
    {
      "cell_type": "code",
      "execution_count": 23,
      "id": "41bee259",
      "metadata": {
        "colab": {
          "base_uri": "https://localhost:8080/",
          "height": 461
        },
        "id": "41bee259",
        "outputId": "872745df-46c7-481a-8065-786ac366b627"
      },
      "outputs": [
        {
          "data": {
            "text/html": [
              "<div>\n",
              "<style scoped>\n",
              "    .dataframe tbody tr th:only-of-type {\n",
              "        vertical-align: middle;\n",
              "    }\n",
              "\n",
              "    .dataframe tbody tr th {\n",
              "        vertical-align: top;\n",
              "    }\n",
              "\n",
              "    .dataframe thead th {\n",
              "        text-align: right;\n",
              "    }\n",
              "</style>\n",
              "<table border=\"1\" class=\"dataframe\">\n",
              "  <thead>\n",
              "    <tr style=\"text-align: right;\">\n",
              "      <th></th>\n",
              "      <th>Precio</th>\n",
              "      <th>Stock</th>\n",
              "      <th>Categoria_Línea A</th>\n",
              "      <th>Categoria_Línea B</th>\n",
              "      <th>Categoria_Línea C</th>\n",
              "      <th>Proveedor_ProvCentro</th>\n",
              "      <th>Proveedor_ProvNorte</th>\n",
              "      <th>Proveedor_ProvSur</th>\n",
              "    </tr>\n",
              "  </thead>\n",
              "  <tbody>\n",
              "    <tr>\n",
              "      <th>0</th>\n",
              "      <td>0.169240</td>\n",
              "      <td>0.192</td>\n",
              "      <td>0.0</td>\n",
              "      <td>1.0</td>\n",
              "      <td>0.0</td>\n",
              "      <td>0.0</td>\n",
              "      <td>0.0</td>\n",
              "      <td>1.0</td>\n",
              "    </tr>\n",
              "    <tr>\n",
              "      <th>1</th>\n",
              "      <td>0.314034</td>\n",
              "      <td>0.520</td>\n",
              "      <td>0.0</td>\n",
              "      <td>1.0</td>\n",
              "      <td>0.0</td>\n",
              "      <td>1.0</td>\n",
              "      <td>0.0</td>\n",
              "      <td>0.0</td>\n",
              "    </tr>\n",
              "    <tr>\n",
              "      <th>2</th>\n",
              "      <td>0.294622</td>\n",
              "      <td>0.344</td>\n",
              "      <td>0.0</td>\n",
              "      <td>1.0</td>\n",
              "      <td>0.0</td>\n",
              "      <td>0.0</td>\n",
              "      <td>0.0</td>\n",
              "      <td>1.0</td>\n",
              "    </tr>\n",
              "    <tr>\n",
              "      <th>3</th>\n",
              "      <td>0.585080</td>\n",
              "      <td>0.912</td>\n",
              "      <td>1.0</td>\n",
              "      <td>0.0</td>\n",
              "      <td>0.0</td>\n",
              "      <td>0.0</td>\n",
              "      <td>0.0</td>\n",
              "      <td>1.0</td>\n",
              "    </tr>\n",
              "    <tr>\n",
              "      <th>4</th>\n",
              "      <td>0.592342</td>\n",
              "      <td>0.096</td>\n",
              "      <td>0.0</td>\n",
              "      <td>1.0</td>\n",
              "      <td>0.0</td>\n",
              "      <td>0.0</td>\n",
              "      <td>0.0</td>\n",
              "      <td>1.0</td>\n",
              "    </tr>\n",
              "    <tr>\n",
              "      <th>...</th>\n",
              "      <td>...</td>\n",
              "      <td>...</td>\n",
              "      <td>...</td>\n",
              "      <td>...</td>\n",
              "      <td>...</td>\n",
              "      <td>...</td>\n",
              "      <td>...</td>\n",
              "      <td>...</td>\n",
              "    </tr>\n",
              "    <tr>\n",
              "      <th>138</th>\n",
              "      <td>0.168079</td>\n",
              "      <td>0.216</td>\n",
              "      <td>1.0</td>\n",
              "      <td>0.0</td>\n",
              "      <td>0.0</td>\n",
              "      <td>0.0</td>\n",
              "      <td>0.0</td>\n",
              "      <td>1.0</td>\n",
              "    </tr>\n",
              "    <tr>\n",
              "      <th>139</th>\n",
              "      <td>0.332672</td>\n",
              "      <td>0.520</td>\n",
              "      <td>0.0</td>\n",
              "      <td>1.0</td>\n",
              "      <td>0.0</td>\n",
              "      <td>1.0</td>\n",
              "      <td>0.0</td>\n",
              "      <td>0.0</td>\n",
              "    </tr>\n",
              "    <tr>\n",
              "      <th>140</th>\n",
              "      <td>0.121799</td>\n",
              "      <td>0.456</td>\n",
              "      <td>1.0</td>\n",
              "      <td>0.0</td>\n",
              "      <td>0.0</td>\n",
              "      <td>0.0</td>\n",
              "      <td>1.0</td>\n",
              "      <td>0.0</td>\n",
              "    </tr>\n",
              "    <tr>\n",
              "      <th>141</th>\n",
              "      <td>0.359781</td>\n",
              "      <td>0.216</td>\n",
              "      <td>1.0</td>\n",
              "      <td>0.0</td>\n",
              "      <td>0.0</td>\n",
              "      <td>0.0</td>\n",
              "      <td>0.0</td>\n",
              "      <td>1.0</td>\n",
              "    </tr>\n",
              "    <tr>\n",
              "      <th>142</th>\n",
              "      <td>0.585080</td>\n",
              "      <td>0.912</td>\n",
              "      <td>1.0</td>\n",
              "      <td>0.0</td>\n",
              "      <td>0.0</td>\n",
              "      <td>0.0</td>\n",
              "      <td>0.0</td>\n",
              "      <td>1.0</td>\n",
              "    </tr>\n",
              "  </tbody>\n",
              "</table>\n",
              "<p>143 rows × 8 columns</p>\n",
              "</div>"
            ],
            "text/plain": [
              "       Precio  Stock  Categoria_Línea A  Categoria_Línea B  Categoria_Línea C  \\\n",
              "0    0.169240  0.192                0.0                1.0                0.0   \n",
              "1    0.314034  0.520                0.0                1.0                0.0   \n",
              "2    0.294622  0.344                0.0                1.0                0.0   \n",
              "3    0.585080  0.912                1.0                0.0                0.0   \n",
              "4    0.592342  0.096                0.0                1.0                0.0   \n",
              "..        ...    ...                ...                ...                ...   \n",
              "138  0.168079  0.216                1.0                0.0                0.0   \n",
              "139  0.332672  0.520                0.0                1.0                0.0   \n",
              "140  0.121799  0.456                1.0                0.0                0.0   \n",
              "141  0.359781  0.216                1.0                0.0                0.0   \n",
              "142  0.585080  0.912                1.0                0.0                0.0   \n",
              "\n",
              "     Proveedor_ProvCentro  Proveedor_ProvNorte  Proveedor_ProvSur  \n",
              "0                     0.0                  0.0                1.0  \n",
              "1                     1.0                  0.0                0.0  \n",
              "2                     0.0                  0.0                1.0  \n",
              "3                     0.0                  0.0                1.0  \n",
              "4                     0.0                  0.0                1.0  \n",
              "..                    ...                  ...                ...  \n",
              "138                   0.0                  0.0                1.0  \n",
              "139                   1.0                  0.0                0.0  \n",
              "140                   0.0                  1.0                0.0  \n",
              "141                   0.0                  0.0                1.0  \n",
              "142                   0.0                  0.0                1.0  \n",
              "\n",
              "[143 rows x 8 columns]"
            ]
          },
          "execution_count": 23,
          "metadata": {},
          "output_type": "execute_result"
        }
      ],
      "source": [
        "df2"
      ]
    },
    {
      "cell_type": "markdown",
      "id": "c2daf6a0",
      "metadata": {
        "id": "c2daf6a0"
      },
      "source": [
        "Calcula la probabilidad empírica de que un producto tenga Stock > 50\n"
      ]
    },
    {
      "cell_type": "code",
      "execution_count": 26,
      "id": "00b31ae4",
      "metadata": {
        "colab": {
          "base_uri": "https://localhost:8080/"
        },
        "id": "00b31ae4",
        "outputId": "784b7693-a9a1-4466-a160-a29a3a087921"
      },
      "outputs": [
        {
          "name": "stdout",
          "output_type": "stream",
          "text": [
            "0.00\n"
          ]
        }
      ],
      "source": [
        "totalStock = len(df2['Stock'])\n",
        "favorables = (df2['Stock'] > 50).sum()\n",
        "pEmpirica = (favorables/totalStock)\n",
        "print(f\"{pEmpirica:.2f}\")"
      ]
    },
    {
      "cell_type": "markdown",
      "id": "f08f4b3b",
      "metadata": {
        "id": "f08f4b3b"
      },
      "source": [
        "Calcula la probabilidad conjunta de de que Stock > 50 y Precio > 10000\n"
      ]
    },
    {
      "cell_type": "code",
      "execution_count": 25,
      "id": "54d334db",
      "metadata": {
        "colab": {
          "base_uri": "https://localhost:8080/",
          "height": 547
        },
        "id": "54d334db",
        "outputId": "31344f03-76d8-4367-c8cc-60808fa81b2c"
      },
      "outputs": [
        {
          "name": "stdout",
          "output_type": "stream",
          "text": [
            "0.00\n"
          ]
        }
      ],
      "source": [
        "totalStock = len(df2['Stock'])\n",
        "favorables = ((df2['Stock'] > 50) & (df2['Precio'] > 10000)).sum()\n",
        "pEmpirica = (favorables/totalStock)\n",
        "print(f\"{favorables:.2f}\")"
      ]
    },
    {
      "cell_type": "markdown",
      "id": "c6b7112f",
      "metadata": {
        "id": "c6b7112f"
      },
      "source": [
        "# Bloque 3 Mini Desafío Integrador\n"
      ]
    }
  ],
  "metadata": {
    "colab": {
      "provenance": []
    },
    "kernelspec": {
      "display_name": "Python 3",
      "language": "python",
      "name": "python3"
    },
    "language_info": {
      "codemirror_mode": {
        "name": "ipython",
        "version": 3
      },
      "file_extension": ".py",
      "mimetype": "text/x-python",
      "name": "python",
      "nbconvert_exporter": "python",
      "pygments_lexer": "ipython3",
      "version": "3.12.10"
    }
  },
  "nbformat": 4,
  "nbformat_minor": 5
}
