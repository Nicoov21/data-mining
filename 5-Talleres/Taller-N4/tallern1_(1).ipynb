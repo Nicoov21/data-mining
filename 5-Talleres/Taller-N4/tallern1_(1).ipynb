{
 "cells": [
  {
   "cell_type": "markdown",
   "id": "cc5938a8",
   "metadata": {
    "id": "cc5938a8"
   },
   "source": [
    "INTEGRANTES: Nicolas Lagos, Carlos Duran, Maximiliano Esparza, Constanza Vargas\n"
   ]
  },
  {
   "cell_type": "markdown",
   "id": "40a3f522",
   "metadata": {
    "id": "40a3f522"
   },
   "source": [
    "# Taller 1\n"
   ]
  },
  {
   "cell_type": "code",
   "execution_count": 2,
   "id": "7b5d20e0",
   "metadata": {
    "id": "7b5d20e0"
   },
   "outputs": [],
   "source": [
    "import pandas as pd\n",
    "df = pd.read_csv(\"ventas_demo.csv\", sep=\";\")"
   ]
  },
  {
   "cell_type": "markdown",
   "id": "fac8923e",
   "metadata": {
    "id": "fac8923e"
   },
   "source": [
    "# BLoque 1 Limpieza de datos con pandas\n"
   ]
  },
  {
   "cell_type": "markdown",
   "id": "394ee19d",
   "metadata": {
    "id": "394ee19d"
   },
   "source": [
    "1. Carga del dataset y muestra las primeras filas\n"
   ]
  },
  {
   "cell_type": "code",
   "execution_count": 3,
   "id": "57cc4318",
   "metadata": {
    "colab": {
     "base_uri": "https://localhost:8080/",
     "height": 676
    },
    "id": "57cc4318",
    "outputId": "78f576a8-d89e-4b0b-e480-d831b134fdd3"
   },
   "outputs": [
    {
     "data": {
      "text/html": [
       "<div>\n",
       "<style scoped>\n",
       "    .dataframe tbody tr th:only-of-type {\n",
       "        vertical-align: middle;\n",
       "    }\n",
       "\n",
       "    .dataframe tbody tr th {\n",
       "        vertical-align: top;\n",
       "    }\n",
       "\n",
       "    .dataframe thead th {\n",
       "        text-align: right;\n",
       "    }\n",
       "</style>\n",
       "<table border=\"1\" class=\"dataframe\">\n",
       "  <thead>\n",
       "    <tr style=\"text-align: right;\">\n",
       "      <th></th>\n",
       "      <th>Id</th>\n",
       "      <th>Precio</th>\n",
       "      <th>Descuento</th>\n",
       "      <th>Cantidad</th>\n",
       "      <th>Ciudad</th>\n",
       "      <th>Categoria</th>\n",
       "    </tr>\n",
       "  </thead>\n",
       "  <tbody>\n",
       "    <tr>\n",
       "      <th>0</th>\n",
       "      <td>1</td>\n",
       "      <td>16686.0</td>\n",
       "      <td>0.088728</td>\n",
       "      <td>3</td>\n",
       "      <td>Talca</td>\n",
       "      <td>Pastelería</td>\n",
       "    </tr>\n",
       "    <tr>\n",
       "      <th>1</th>\n",
       "      <td>2</td>\n",
       "      <td>19594.0</td>\n",
       "      <td>0.036149</td>\n",
       "      <td>5</td>\n",
       "      <td>Santiago</td>\n",
       "      <td>Bebestibles</td>\n",
       "    </tr>\n",
       "    <tr>\n",
       "      <th>2</th>\n",
       "      <td>3</td>\n",
       "      <td>8149.0</td>\n",
       "      <td>0.103496</td>\n",
       "      <td>2</td>\n",
       "      <td>Concepción</td>\n",
       "      <td>Bebestibles</td>\n",
       "    </tr>\n",
       "    <tr>\n",
       "      <th>3</th>\n",
       "      <td>4</td>\n",
       "      <td>8273.0</td>\n",
       "      <td>0.046188</td>\n",
       "      <td>8</td>\n",
       "      <td>Concepción</td>\n",
       "      <td>Pastelería</td>\n",
       "    </tr>\n",
       "    <tr>\n",
       "      <th>4</th>\n",
       "      <td>5</td>\n",
       "      <td>17677.0</td>\n",
       "      <td>0.062412</td>\n",
       "      <td>10</td>\n",
       "      <td>Santiago</td>\n",
       "      <td>Bebestibles</td>\n",
       "    </tr>\n",
       "    <tr>\n",
       "      <th>5</th>\n",
       "      <td>6</td>\n",
       "      <td>15340.0</td>\n",
       "      <td>0.119852</td>\n",
       "      <td>7</td>\n",
       "      <td>Concepción</td>\n",
       "      <td>Café</td>\n",
       "    </tr>\n",
       "    <tr>\n",
       "      <th>6</th>\n",
       "      <td>7</td>\n",
       "      <td>18282.0</td>\n",
       "      <td>0.127779</td>\n",
       "      <td>2</td>\n",
       "      <td>Santiago</td>\n",
       "      <td>Pastelería</td>\n",
       "    </tr>\n",
       "    <tr>\n",
       "      <th>7</th>\n",
       "      <td>8</td>\n",
       "      <td>13864.0</td>\n",
       "      <td>0.068892</td>\n",
       "      <td>2</td>\n",
       "      <td>Santiago</td>\n",
       "      <td>Café</td>\n",
       "    </tr>\n",
       "    <tr>\n",
       "      <th>8</th>\n",
       "      <td>9</td>\n",
       "      <td>16659.0</td>\n",
       "      <td>0.149370</td>\n",
       "      <td>5</td>\n",
       "      <td>Concepción</td>\n",
       "      <td>Snacks</td>\n",
       "    </tr>\n",
       "    <tr>\n",
       "      <th>9</th>\n",
       "      <td>10</td>\n",
       "      <td>15939.0</td>\n",
       "      <td>0.157875</td>\n",
       "      <td>6</td>\n",
       "      <td>Concepción</td>\n",
       "      <td>Snacks</td>\n",
       "    </tr>\n",
       "    <tr>\n",
       "      <th>10</th>\n",
       "      <td>11</td>\n",
       "      <td>19657.0</td>\n",
       "      <td>0.171815</td>\n",
       "      <td>7</td>\n",
       "      <td>Concepción</td>\n",
       "      <td>Bebestibles</td>\n",
       "    </tr>\n",
       "    <tr>\n",
       "      <th>11</th>\n",
       "      <td>12</td>\n",
       "      <td>19832.0</td>\n",
       "      <td>0.126471</td>\n",
       "      <td>3</td>\n",
       "      <td>Talca</td>\n",
       "      <td>Pastelería</td>\n",
       "    </tr>\n",
       "    <tr>\n",
       "      <th>12</th>\n",
       "      <td>13</td>\n",
       "      <td>5271.0</td>\n",
       "      <td>NaN</td>\n",
       "      <td>6</td>\n",
       "      <td>Santiago</td>\n",
       "      <td>Snacks</td>\n",
       "    </tr>\n",
       "    <tr>\n",
       "      <th>13</th>\n",
       "      <td>14</td>\n",
       "      <td>1990.0</td>\n",
       "      <td>0.005960</td>\n",
       "      <td>4</td>\n",
       "      <td>Concepción</td>\n",
       "      <td>Bebestibles</td>\n",
       "    </tr>\n",
       "    <tr>\n",
       "      <th>14</th>\n",
       "      <td>15</td>\n",
       "      <td>21000.0</td>\n",
       "      <td>0.084105</td>\n",
       "      <td>8</td>\n",
       "      <td>Talca</td>\n",
       "      <td>Snacks</td>\n",
       "    </tr>\n",
       "    <tr>\n",
       "      <th>15</th>\n",
       "      <td>16</td>\n",
       "      <td>22116.0</td>\n",
       "      <td>0.056650</td>\n",
       "      <td>9</td>\n",
       "      <td>Concepción</td>\n",
       "      <td>Pastelería</td>\n",
       "    </tr>\n",
       "    <tr>\n",
       "      <th>16</th>\n",
       "      <td>17</td>\n",
       "      <td>8866.0</td>\n",
       "      <td>0.105961</td>\n",
       "      <td>8</td>\n",
       "      <td>Concepción</td>\n",
       "      <td>Bebestibles</td>\n",
       "    </tr>\n",
       "    <tr>\n",
       "      <th>17</th>\n",
       "      <td>18</td>\n",
       "      <td>3831.0</td>\n",
       "      <td>0.071428</td>\n",
       "      <td>1</td>\n",
       "      <td>Temuco</td>\n",
       "      <td>Pastelería</td>\n",
       "    </tr>\n",
       "    <tr>\n",
       "      <th>18</th>\n",
       "      <td>19</td>\n",
       "      <td>15584.0</td>\n",
       "      <td>0.091692</td>\n",
       "      <td>11</td>\n",
       "      <td>Concepción</td>\n",
       "      <td>Café</td>\n",
       "    </tr>\n",
       "    <tr>\n",
       "      <th>19</th>\n",
       "      <td>20</td>\n",
       "      <td>20575.0</td>\n",
       "      <td>NaN</td>\n",
       "      <td>1</td>\n",
       "      <td>Concepción</td>\n",
       "      <td>Pastelería</td>\n",
       "    </tr>\n",
       "  </tbody>\n",
       "</table>\n",
       "</div>"
      ],
      "text/plain": [
       "    Id   Precio  Descuento  Cantidad      Ciudad    Categoria\n",
       "0    1  16686.0   0.088728         3       Talca   Pastelería\n",
       "1    2  19594.0   0.036149         5    Santiago  Bebestibles\n",
       "2    3   8149.0   0.103496         2  Concepción  Bebestibles\n",
       "3    4   8273.0   0.046188         8  Concepción   Pastelería\n",
       "4    5  17677.0   0.062412        10    Santiago  Bebestibles\n",
       "5    6  15340.0   0.119852         7  Concepción         Café\n",
       "6    7  18282.0   0.127779         2    Santiago   Pastelería\n",
       "7    8  13864.0   0.068892         2    Santiago         Café\n",
       "8    9  16659.0   0.149370         5  Concepción       Snacks\n",
       "9   10  15939.0   0.157875         6  Concepción       Snacks\n",
       "10  11  19657.0   0.171815         7  Concepción  Bebestibles\n",
       "11  12  19832.0   0.126471         3       Talca   Pastelería\n",
       "12  13   5271.0        NaN         6    Santiago       Snacks\n",
       "13  14   1990.0   0.005960         4  Concepción  Bebestibles\n",
       "14  15  21000.0   0.084105         8       Talca       Snacks\n",
       "15  16  22116.0   0.056650         9  Concepción   Pastelería\n",
       "16  17   8866.0   0.105961         8  Concepción  Bebestibles\n",
       "17  18   3831.0   0.071428         1      Temuco   Pastelería\n",
       "18  19  15584.0   0.091692        11  Concepción         Café\n",
       "19  20  20575.0        NaN         1  Concepción   Pastelería"
      ]
     },
     "execution_count": 3,
     "metadata": {},
     "output_type": "execute_result"
    }
   ],
   "source": [
    "df.head(20)\n"
   ]
  },
  {
   "cell_type": "markdown",
   "id": "7c99e0bb",
   "metadata": {
    "id": "7c99e0bb"
   },
   "source": [
    "2. Calcula la cantidad de valores nulos por columna\n"
   ]
  },
  {
   "cell_type": "code",
   "execution_count": 4,
   "id": "33b67000",
   "metadata": {
    "colab": {
     "base_uri": "https://localhost:8080/",
     "height": 272
    },
    "id": "33b67000",
    "outputId": "2a97f7e0-efd5-4165-8f84-325742b4e459"
   },
   "outputs": [
    {
     "data": {
      "text/plain": [
       "Descuento    15\n",
       "Categoria     9\n",
       "Precio        0\n",
       "Id            0\n",
       "Cantidad      0\n",
       "Ciudad        0\n",
       "dtype: int64"
      ]
     },
     "execution_count": 4,
     "metadata": {},
     "output_type": "execute_result"
    }
   ],
   "source": [
    "df.isna().sum().sort_values(ascending=False)"
   ]
  },
  {
   "cell_type": "markdown",
   "id": "cf2e3dde",
   "metadata": {
    "id": "cf2e3dde"
   },
   "source": [
    "3. Imputa los valores faltantes de Descuento con la mediana\n"
   ]
  },
  {
   "cell_type": "code",
   "execution_count": 5,
   "id": "cd878b45",
   "metadata": {
    "colab": {
     "base_uri": "https://localhost:8080/"
    },
    "id": "cd878b45",
    "outputId": "e53de326-a7b9-4fd1-e893-dae3001a295f"
   },
   "outputs": [
    {
     "name": "stderr",
     "output_type": "stream",
     "text": [
      "C:\\Users\\nicol\\AppData\\Local\\Temp\\ipykernel_29108\\188832815.py:1: FutureWarning: A value is trying to be set on a copy of a DataFrame or Series through chained assignment using an inplace method.\n",
      "The behavior will change in pandas 3.0. This inplace method will never work because the intermediate object on which we are setting values always behaves as a copy.\n",
      "\n",
      "For example, when doing 'df[col].method(value, inplace=True)', try using 'df.method({col: value}, inplace=True)' or df[col] = df[col].method(value) instead, to perform the operation inplace on the original object.\n",
      "\n",
      "\n",
      "  df['Descuento'].fillna(df['Descuento'].median(), inplace=True)\n"
     ]
    }
   ],
   "source": [
    "df['Descuento'].fillna(df['Descuento'].median(), inplace=True)"
   ]
  },
  {
   "cell_type": "code",
   "execution_count": 6,
   "id": "a50666b5",
   "metadata": {
    "colab": {
     "base_uri": "https://localhost:8080/",
     "height": 272
    },
    "id": "a50666b5",
    "outputId": "35e41a8e-e0f9-434f-abb0-10cea04453c0"
   },
   "outputs": [
    {
     "data": {
      "text/plain": [
       "Categoria    9\n",
       "Id           0\n",
       "Precio       0\n",
       "Descuento    0\n",
       "Cantidad     0\n",
       "Ciudad       0\n",
       "dtype: int64"
      ]
     },
     "execution_count": 6,
     "metadata": {},
     "output_type": "execute_result"
    }
   ],
   "source": [
    "df.isna().sum().sort_values(ascending=False)"
   ]
  },
  {
   "cell_type": "code",
   "execution_count": 7,
   "id": "c4367525",
   "metadata": {
    "colab": {
     "base_uri": "https://localhost:8080/",
     "height": 676
    },
    "id": "c4367525",
    "outputId": "08d84391-04d6-4ad1-c761-c62169645403"
   },
   "outputs": [
    {
     "data": {
      "text/html": [
       "<div>\n",
       "<style scoped>\n",
       "    .dataframe tbody tr th:only-of-type {\n",
       "        vertical-align: middle;\n",
       "    }\n",
       "\n",
       "    .dataframe tbody tr th {\n",
       "        vertical-align: top;\n",
       "    }\n",
       "\n",
       "    .dataframe thead th {\n",
       "        text-align: right;\n",
       "    }\n",
       "</style>\n",
       "<table border=\"1\" class=\"dataframe\">\n",
       "  <thead>\n",
       "    <tr style=\"text-align: right;\">\n",
       "      <th></th>\n",
       "      <th>Id</th>\n",
       "      <th>Precio</th>\n",
       "      <th>Descuento</th>\n",
       "      <th>Cantidad</th>\n",
       "      <th>Ciudad</th>\n",
       "      <th>Categoria</th>\n",
       "    </tr>\n",
       "  </thead>\n",
       "  <tbody>\n",
       "    <tr>\n",
       "      <th>0</th>\n",
       "      <td>1</td>\n",
       "      <td>16686.0</td>\n",
       "      <td>0.088728</td>\n",
       "      <td>3</td>\n",
       "      <td>Talca</td>\n",
       "      <td>Pastelería</td>\n",
       "    </tr>\n",
       "    <tr>\n",
       "      <th>1</th>\n",
       "      <td>2</td>\n",
       "      <td>19594.0</td>\n",
       "      <td>0.036149</td>\n",
       "      <td>5</td>\n",
       "      <td>Santiago</td>\n",
       "      <td>Bebestibles</td>\n",
       "    </tr>\n",
       "    <tr>\n",
       "      <th>2</th>\n",
       "      <td>3</td>\n",
       "      <td>8149.0</td>\n",
       "      <td>0.103496</td>\n",
       "      <td>2</td>\n",
       "      <td>Concepción</td>\n",
       "      <td>Bebestibles</td>\n",
       "    </tr>\n",
       "    <tr>\n",
       "      <th>3</th>\n",
       "      <td>4</td>\n",
       "      <td>8273.0</td>\n",
       "      <td>0.046188</td>\n",
       "      <td>8</td>\n",
       "      <td>Concepción</td>\n",
       "      <td>Pastelería</td>\n",
       "    </tr>\n",
       "    <tr>\n",
       "      <th>4</th>\n",
       "      <td>5</td>\n",
       "      <td>17677.0</td>\n",
       "      <td>0.062412</td>\n",
       "      <td>10</td>\n",
       "      <td>Santiago</td>\n",
       "      <td>Bebestibles</td>\n",
       "    </tr>\n",
       "    <tr>\n",
       "      <th>5</th>\n",
       "      <td>6</td>\n",
       "      <td>15340.0</td>\n",
       "      <td>0.119852</td>\n",
       "      <td>7</td>\n",
       "      <td>Concepción</td>\n",
       "      <td>Café</td>\n",
       "    </tr>\n",
       "    <tr>\n",
       "      <th>6</th>\n",
       "      <td>7</td>\n",
       "      <td>18282.0</td>\n",
       "      <td>0.127779</td>\n",
       "      <td>2</td>\n",
       "      <td>Santiago</td>\n",
       "      <td>Pastelería</td>\n",
       "    </tr>\n",
       "    <tr>\n",
       "      <th>7</th>\n",
       "      <td>8</td>\n",
       "      <td>13864.0</td>\n",
       "      <td>0.068892</td>\n",
       "      <td>2</td>\n",
       "      <td>Santiago</td>\n",
       "      <td>Café</td>\n",
       "    </tr>\n",
       "    <tr>\n",
       "      <th>8</th>\n",
       "      <td>9</td>\n",
       "      <td>16659.0</td>\n",
       "      <td>0.149370</td>\n",
       "      <td>5</td>\n",
       "      <td>Concepción</td>\n",
       "      <td>Snacks</td>\n",
       "    </tr>\n",
       "    <tr>\n",
       "      <th>9</th>\n",
       "      <td>10</td>\n",
       "      <td>15939.0</td>\n",
       "      <td>0.157875</td>\n",
       "      <td>6</td>\n",
       "      <td>Concepción</td>\n",
       "      <td>Snacks</td>\n",
       "    </tr>\n",
       "    <tr>\n",
       "      <th>10</th>\n",
       "      <td>11</td>\n",
       "      <td>19657.0</td>\n",
       "      <td>0.171815</td>\n",
       "      <td>7</td>\n",
       "      <td>Concepción</td>\n",
       "      <td>Bebestibles</td>\n",
       "    </tr>\n",
       "    <tr>\n",
       "      <th>11</th>\n",
       "      <td>12</td>\n",
       "      <td>19832.0</td>\n",
       "      <td>0.126471</td>\n",
       "      <td>3</td>\n",
       "      <td>Talca</td>\n",
       "      <td>Pastelería</td>\n",
       "    </tr>\n",
       "    <tr>\n",
       "      <th>12</th>\n",
       "      <td>13</td>\n",
       "      <td>5271.0</td>\n",
       "      <td>0.105917</td>\n",
       "      <td>6</td>\n",
       "      <td>Santiago</td>\n",
       "      <td>Snacks</td>\n",
       "    </tr>\n",
       "    <tr>\n",
       "      <th>13</th>\n",
       "      <td>14</td>\n",
       "      <td>1990.0</td>\n",
       "      <td>0.005960</td>\n",
       "      <td>4</td>\n",
       "      <td>Concepción</td>\n",
       "      <td>Bebestibles</td>\n",
       "    </tr>\n",
       "    <tr>\n",
       "      <th>14</th>\n",
       "      <td>15</td>\n",
       "      <td>21000.0</td>\n",
       "      <td>0.084105</td>\n",
       "      <td>8</td>\n",
       "      <td>Talca</td>\n",
       "      <td>Snacks</td>\n",
       "    </tr>\n",
       "    <tr>\n",
       "      <th>15</th>\n",
       "      <td>16</td>\n",
       "      <td>22116.0</td>\n",
       "      <td>0.056650</td>\n",
       "      <td>9</td>\n",
       "      <td>Concepción</td>\n",
       "      <td>Pastelería</td>\n",
       "    </tr>\n",
       "    <tr>\n",
       "      <th>16</th>\n",
       "      <td>17</td>\n",
       "      <td>8866.0</td>\n",
       "      <td>0.105961</td>\n",
       "      <td>8</td>\n",
       "      <td>Concepción</td>\n",
       "      <td>Bebestibles</td>\n",
       "    </tr>\n",
       "    <tr>\n",
       "      <th>17</th>\n",
       "      <td>18</td>\n",
       "      <td>3831.0</td>\n",
       "      <td>0.071428</td>\n",
       "      <td>1</td>\n",
       "      <td>Temuco</td>\n",
       "      <td>Pastelería</td>\n",
       "    </tr>\n",
       "    <tr>\n",
       "      <th>18</th>\n",
       "      <td>19</td>\n",
       "      <td>15584.0</td>\n",
       "      <td>0.091692</td>\n",
       "      <td>11</td>\n",
       "      <td>Concepción</td>\n",
       "      <td>Café</td>\n",
       "    </tr>\n",
       "    <tr>\n",
       "      <th>19</th>\n",
       "      <td>20</td>\n",
       "      <td>20575.0</td>\n",
       "      <td>0.105917</td>\n",
       "      <td>1</td>\n",
       "      <td>Concepción</td>\n",
       "      <td>Pastelería</td>\n",
       "    </tr>\n",
       "  </tbody>\n",
       "</table>\n",
       "</div>"
      ],
      "text/plain": [
       "    Id   Precio  Descuento  Cantidad      Ciudad    Categoria\n",
       "0    1  16686.0   0.088728         3       Talca   Pastelería\n",
       "1    2  19594.0   0.036149         5    Santiago  Bebestibles\n",
       "2    3   8149.0   0.103496         2  Concepción  Bebestibles\n",
       "3    4   8273.0   0.046188         8  Concepción   Pastelería\n",
       "4    5  17677.0   0.062412        10    Santiago  Bebestibles\n",
       "5    6  15340.0   0.119852         7  Concepción         Café\n",
       "6    7  18282.0   0.127779         2    Santiago   Pastelería\n",
       "7    8  13864.0   0.068892         2    Santiago         Café\n",
       "8    9  16659.0   0.149370         5  Concepción       Snacks\n",
       "9   10  15939.0   0.157875         6  Concepción       Snacks\n",
       "10  11  19657.0   0.171815         7  Concepción  Bebestibles\n",
       "11  12  19832.0   0.126471         3       Talca   Pastelería\n",
       "12  13   5271.0   0.105917         6    Santiago       Snacks\n",
       "13  14   1990.0   0.005960         4  Concepción  Bebestibles\n",
       "14  15  21000.0   0.084105         8       Talca       Snacks\n",
       "15  16  22116.0   0.056650         9  Concepción   Pastelería\n",
       "16  17   8866.0   0.105961         8  Concepción  Bebestibles\n",
       "17  18   3831.0   0.071428         1      Temuco   Pastelería\n",
       "18  19  15584.0   0.091692        11  Concepción         Café\n",
       "19  20  20575.0   0.105917         1  Concepción   Pastelería"
      ]
     },
     "execution_count": 7,
     "metadata": {},
     "output_type": "execute_result"
    }
   ],
   "source": [
    "df.head(20)"
   ]
  },
  {
   "cell_type": "markdown",
   "id": "cfde01b8",
   "metadata": {
    "id": "cfde01b8"
   },
   "source": [
    "4. Reemplaza los nulos de Categoría con el valor más frecuente\n"
   ]
  },
  {
   "cell_type": "code",
   "execution_count": 8,
   "id": "4a7b5d0f",
   "metadata": {
    "colab": {
     "base_uri": "https://localhost:8080/"
    },
    "id": "4a7b5d0f",
    "outputId": "9ece601a-771b-4f73-e400-b99f8d5c85eb"
   },
   "outputs": [
    {
     "name": "stderr",
     "output_type": "stream",
     "text": [
      "C:\\Users\\nicol\\AppData\\Local\\Temp\\ipykernel_29108\\2481078812.py:1: FutureWarning: A value is trying to be set on a copy of a DataFrame or Series through chained assignment using an inplace method.\n",
      "The behavior will change in pandas 3.0. This inplace method will never work because the intermediate object on which we are setting values always behaves as a copy.\n",
      "\n",
      "For example, when doing 'df[col].method(value, inplace=True)', try using 'df.method({col: value}, inplace=True)' or df[col] = df[col].method(value) instead, to perform the operation inplace on the original object.\n",
      "\n",
      "\n",
      "  df['Categoria'].fillna(df['Categoria'].mode()[0], inplace=True)\n"
     ]
    }
   ],
   "source": [
    "df['Categoria'].fillna(df['Categoria'].mode()[0], inplace=True)"
   ]
  },
  {
   "cell_type": "code",
   "execution_count": 9,
   "id": "70fbbf67",
   "metadata": {
    "colab": {
     "base_uri": "https://localhost:8080/",
     "height": 272
    },
    "id": "70fbbf67",
    "outputId": "c5695818-8933-45da-b868-ac897afc4af3"
   },
   "outputs": [
    {
     "data": {
      "text/plain": [
       "Id           0\n",
       "Precio       0\n",
       "Descuento    0\n",
       "Cantidad     0\n",
       "Ciudad       0\n",
       "Categoria    0\n",
       "dtype: int64"
      ]
     },
     "execution_count": 9,
     "metadata": {},
     "output_type": "execute_result"
    }
   ],
   "source": [
    "df.isna().sum().sort_values(ascending=False)"
   ]
  },
  {
   "cell_type": "markdown",
   "id": "dcdda9e1",
   "metadata": {
    "id": "dcdda9e1"
   },
   "source": [
    "5. Elimina los duplicados\n"
   ]
  },
  {
   "cell_type": "code",
   "execution_count": 10,
   "id": "0f3092d7",
   "metadata": {
    "colab": {
     "base_uri": "https://localhost:8080/"
    },
    "id": "0f3092d7",
    "outputId": "c0f430e1-9627-42dc-c5d8-7fa0f9012524"
   },
   "outputs": [
    {
     "data": {
      "text/plain": [
       "np.int64(4)"
      ]
     },
     "execution_count": 10,
     "metadata": {},
     "output_type": "execute_result"
    }
   ],
   "source": [
    "df.duplicated().sum()\n"
   ]
  },
  {
   "cell_type": "code",
   "execution_count": 11,
   "id": "1245c575",
   "metadata": {
    "id": "1245c575"
   },
   "outputs": [],
   "source": [
    "df=df.drop_duplicates()"
   ]
  },
  {
   "cell_type": "code",
   "execution_count": 12,
   "id": "8JuZfiGQjdtC",
   "metadata": {
    "colab": {
     "base_uri": "https://localhost:8080/"
    },
    "id": "8JuZfiGQjdtC",
    "outputId": "1f4245fe-c940-4f96-c607-4c63af2d58ee"
   },
   "outputs": [
    {
     "data": {
      "text/plain": [
       "np.int64(0)"
      ]
     },
     "execution_count": 12,
     "metadata": {},
     "output_type": "execute_result"
    }
   ],
   "source": [
    "df.duplicated().sum()\n"
   ]
  },
  {
   "cell_type": "markdown",
   "id": "e5190488",
   "metadata": {
    "id": "e5190488"
   },
   "source": [
    "6. Detecta los outliers de Precio usando el método IQR\n"
   ]
  },
  {
   "cell_type": "code",
   "execution_count": 13,
   "id": "25f7c2b1",
   "metadata": {
    "id": "25f7c2b1"
   },
   "outputs": [],
   "source": [
    "Q1 = df['Precio'].quantile(0.25)\n",
    "Q3 = df['Precio'].quantile(0.75)\n",
    "IQR = Q3 - Q1\n",
    "Outliers = df[(df['Precio'] < Q1 - 1.5 * IQR) | (df['Precio'] > Q3 + 1.5 * IQR)]"
   ]
  },
  {
   "cell_type": "markdown",
   "id": "8cebbaeb",
   "metadata": {
    "id": "8cebbaeb"
   },
   "source": [
    "7. Indica cuántos outliers fueron detectados (solo número, no análisis)\n"
   ]
  },
  {
   "cell_type": "code",
   "execution_count": 14,
   "id": "333a03b3",
   "metadata": {
    "colab": {
     "base_uri": "https://localhost:8080/"
    },
    "id": "333a03b3",
    "outputId": "90c48ff2-eb02-4898-9734-bcd0c4726541"
   },
   "outputs": [
    {
     "data": {
      "text/plain": [
       "3"
      ]
     },
     "execution_count": 14,
     "metadata": {},
     "output_type": "execute_result"
    }
   ],
   "source": [
    "Outliers.shape[0] #Outliers de Precio"
   ]
  },
  {
   "cell_type": "markdown",
   "id": "08737de5",
   "metadata": {
    "id": "08737de5"
   },
   "source": [
    "# Bloque 2 Preprocesamiento y Probabilidad\n"
   ]
  },
  {
   "cell_type": "code",
   "execution_count": 15,
   "id": "3ea36a86",
   "metadata": {
    "id": "3ea36a86"
   },
   "outputs": [],
   "source": [
    "import pandas as pd\n",
    "df2 = pd.read_csv(\"productos_demo.csv\", sep=\";\")"
   ]
  },
  {
   "cell_type": "code",
   "execution_count": 16,
   "id": "7923626c",
   "metadata": {
    "colab": {
     "base_uri": "https://localhost:8080/",
     "height": 209
    },
    "id": "7923626c",
    "outputId": "3658f16b-0d4c-4211-c4b0-efc069bd4c93"
   },
   "outputs": [
    {
     "data": {
      "text/plain": [
       "Categoria    7\n",
       "Proveedor    5\n",
       "Stock        0\n",
       "Precio       0\n",
       "dtype: int64"
      ]
     },
     "execution_count": 16,
     "metadata": {},
     "output_type": "execute_result"
    }
   ],
   "source": [
    "df2.isna().sum().sort_values(ascending=False)"
   ]
  },
  {
   "cell_type": "code",
   "execution_count": 17,
   "id": "42ddf8ae",
   "metadata": {
    "colab": {
     "base_uri": "https://localhost:8080/"
    },
    "id": "42ddf8ae",
    "outputId": "4a5bb186-da5f-4180-8460-a834e442bbae"
   },
   "outputs": [
    {
     "name": "stderr",
     "output_type": "stream",
     "text": [
      "C:\\Users\\nicol\\AppData\\Local\\Temp\\ipykernel_29108\\1432465839.py:1: FutureWarning: A value is trying to be set on a copy of a DataFrame or Series through chained assignment using an inplace method.\n",
      "The behavior will change in pandas 3.0. This inplace method will never work because the intermediate object on which we are setting values always behaves as a copy.\n",
      "\n",
      "For example, when doing 'df[col].method(value, inplace=True)', try using 'df.method({col: value}, inplace=True)' or df[col] = df[col].method(value) instead, to perform the operation inplace on the original object.\n",
      "\n",
      "\n",
      "  df2['Categoria'].fillna(df2['Categoria'].mode()[0], inplace=True)\n",
      "C:\\Users\\nicol\\AppData\\Local\\Temp\\ipykernel_29108\\1432465839.py:2: FutureWarning: A value is trying to be set on a copy of a DataFrame or Series through chained assignment using an inplace method.\n",
      "The behavior will change in pandas 3.0. This inplace method will never work because the intermediate object on which we are setting values always behaves as a copy.\n",
      "\n",
      "For example, when doing 'df[col].method(value, inplace=True)', try using 'df.method({col: value}, inplace=True)' or df[col] = df[col].method(value) instead, to perform the operation inplace on the original object.\n",
      "\n",
      "\n",
      "  df2['Proveedor'].fillna(df2['Proveedor'].mode()[0], inplace=True)\n"
     ]
    }
   ],
   "source": [
    "df2['Categoria'].fillna(df2['Categoria'].mode()[0], inplace=True)\n",
    "df2['Proveedor'].fillna(df2['Proveedor'].mode()[0], inplace=True)"
   ]
  },
  {
   "cell_type": "code",
   "execution_count": 18,
   "id": "Gv_IOkh4G_j1",
   "metadata": {
    "colab": {
     "base_uri": "https://localhost:8080/",
     "height": 209
    },
    "id": "Gv_IOkh4G_j1",
    "outputId": "0aebb0e4-1aa9-4aad-aec9-a7e9cad4173b"
   },
   "outputs": [
    {
     "data": {
      "text/plain": [
       "Precio       0\n",
       "Stock        0\n",
       "Categoria    0\n",
       "Proveedor    0\n",
       "dtype: int64"
      ]
     },
     "execution_count": 18,
     "metadata": {},
     "output_type": "execute_result"
    }
   ],
   "source": [
    "df2.isna().sum().sort_values(ascending=False)"
   ]
  },
  {
   "cell_type": "markdown",
   "id": "76e84beb",
   "metadata": {
    "id": "76e84beb"
   },
   "source": [
    "1.  Normaliza las columnas númericas (Precio, Stock) con MinMaxScaler\n"
   ]
  },
  {
   "cell_type": "code",
   "execution_count": 19,
   "id": "67445443",
   "metadata": {
    "id": "67445443"
   },
   "outputs": [],
   "source": [
    "from sklearn.preprocessing import MinMaxScaler\n",
    "\n",
    "scalerMM = MinMaxScaler()\n",
    "df2[['Precio', 'Stock']] = scalerMM.fit_transform(df2[['Precio', 'Stock']])"
   ]
  },
  {
   "cell_type": "code",
   "execution_count": 20,
   "id": "eb0ee444",
   "metadata": {
    "colab": {
     "base_uri": "https://localhost:8080/",
     "height": 423
    },
    "id": "eb0ee444",
    "outputId": "f8ef16f4-6e47-4469-f7cc-6362c427d0a1"
   },
   "outputs": [
    {
     "data": {
      "text/html": [
       "<div>\n",
       "<style scoped>\n",
       "    .dataframe tbody tr th:only-of-type {\n",
       "        vertical-align: middle;\n",
       "    }\n",
       "\n",
       "    .dataframe tbody tr th {\n",
       "        vertical-align: top;\n",
       "    }\n",
       "\n",
       "    .dataframe thead th {\n",
       "        text-align: right;\n",
       "    }\n",
       "</style>\n",
       "<table border=\"1\" class=\"dataframe\">\n",
       "  <thead>\n",
       "    <tr style=\"text-align: right;\">\n",
       "      <th></th>\n",
       "      <th>Precio</th>\n",
       "      <th>Stock</th>\n",
       "    </tr>\n",
       "  </thead>\n",
       "  <tbody>\n",
       "    <tr>\n",
       "      <th>0</th>\n",
       "      <td>0.169240</td>\n",
       "      <td>0.192</td>\n",
       "    </tr>\n",
       "    <tr>\n",
       "      <th>1</th>\n",
       "      <td>0.314034</td>\n",
       "      <td>0.520</td>\n",
       "    </tr>\n",
       "    <tr>\n",
       "      <th>2</th>\n",
       "      <td>0.294622</td>\n",
       "      <td>0.344</td>\n",
       "    </tr>\n",
       "    <tr>\n",
       "      <th>3</th>\n",
       "      <td>0.585080</td>\n",
       "      <td>0.912</td>\n",
       "    </tr>\n",
       "    <tr>\n",
       "      <th>4</th>\n",
       "      <td>0.592342</td>\n",
       "      <td>0.096</td>\n",
       "    </tr>\n",
       "    <tr>\n",
       "      <th>...</th>\n",
       "      <td>...</td>\n",
       "      <td>...</td>\n",
       "    </tr>\n",
       "    <tr>\n",
       "      <th>138</th>\n",
       "      <td>0.168079</td>\n",
       "      <td>0.216</td>\n",
       "    </tr>\n",
       "    <tr>\n",
       "      <th>139</th>\n",
       "      <td>0.332672</td>\n",
       "      <td>0.520</td>\n",
       "    </tr>\n",
       "    <tr>\n",
       "      <th>140</th>\n",
       "      <td>0.121799</td>\n",
       "      <td>0.456</td>\n",
       "    </tr>\n",
       "    <tr>\n",
       "      <th>141</th>\n",
       "      <td>0.359781</td>\n",
       "      <td>0.216</td>\n",
       "    </tr>\n",
       "    <tr>\n",
       "      <th>142</th>\n",
       "      <td>0.585080</td>\n",
       "      <td>0.912</td>\n",
       "    </tr>\n",
       "  </tbody>\n",
       "</table>\n",
       "<p>143 rows × 2 columns</p>\n",
       "</div>"
      ],
      "text/plain": [
       "       Precio  Stock\n",
       "0    0.169240  0.192\n",
       "1    0.314034  0.520\n",
       "2    0.294622  0.344\n",
       "3    0.585080  0.912\n",
       "4    0.592342  0.096\n",
       "..        ...    ...\n",
       "138  0.168079  0.216\n",
       "139  0.332672  0.520\n",
       "140  0.121799  0.456\n",
       "141  0.359781  0.216\n",
       "142  0.585080  0.912\n",
       "\n",
       "[143 rows x 2 columns]"
      ]
     },
     "execution_count": 20,
     "metadata": {},
     "output_type": "execute_result"
    }
   ],
   "source": [
    "df2[['Precio', 'Stock']]"
   ]
  },
  {
   "cell_type": "code",
   "execution_count": 21,
   "id": "18848502",
   "metadata": {
    "colab": {
     "base_uri": "https://localhost:8080/",
     "height": 441
    },
    "id": "18848502",
    "outputId": "a22642d9-2d0c-495e-818d-40d35a401d7c"
   },
   "outputs": [
    {
     "data": {
      "text/html": [
       "<div>\n",
       "<style scoped>\n",
       "    .dataframe tbody tr th:only-of-type {\n",
       "        vertical-align: middle;\n",
       "    }\n",
       "\n",
       "    .dataframe tbody tr th {\n",
       "        vertical-align: top;\n",
       "    }\n",
       "\n",
       "    .dataframe thead th {\n",
       "        text-align: right;\n",
       "    }\n",
       "</style>\n",
       "<table border=\"1\" class=\"dataframe\">\n",
       "  <thead>\n",
       "    <tr style=\"text-align: right;\">\n",
       "      <th></th>\n",
       "      <th>Precio</th>\n",
       "      <th>Stock</th>\n",
       "      <th>Categoria</th>\n",
       "      <th>Proveedor</th>\n",
       "    </tr>\n",
       "  </thead>\n",
       "  <tbody>\n",
       "    <tr>\n",
       "      <th>0</th>\n",
       "      <td>0.169240</td>\n",
       "      <td>0.192</td>\n",
       "      <td>Línea B</td>\n",
       "      <td>ProvSur</td>\n",
       "    </tr>\n",
       "    <tr>\n",
       "      <th>1</th>\n",
       "      <td>0.314034</td>\n",
       "      <td>0.520</td>\n",
       "      <td>Línea B</td>\n",
       "      <td>ProvCentro</td>\n",
       "    </tr>\n",
       "    <tr>\n",
       "      <th>2</th>\n",
       "      <td>0.294622</td>\n",
       "      <td>0.344</td>\n",
       "      <td>Línea B</td>\n",
       "      <td>ProvSur</td>\n",
       "    </tr>\n",
       "    <tr>\n",
       "      <th>3</th>\n",
       "      <td>0.585080</td>\n",
       "      <td>0.912</td>\n",
       "      <td>Línea A</td>\n",
       "      <td>ProvSur</td>\n",
       "    </tr>\n",
       "    <tr>\n",
       "      <th>4</th>\n",
       "      <td>0.592342</td>\n",
       "      <td>0.096</td>\n",
       "      <td>Línea B</td>\n",
       "      <td>ProvSur</td>\n",
       "    </tr>\n",
       "    <tr>\n",
       "      <th>...</th>\n",
       "      <td>...</td>\n",
       "      <td>...</td>\n",
       "      <td>...</td>\n",
       "      <td>...</td>\n",
       "    </tr>\n",
       "    <tr>\n",
       "      <th>138</th>\n",
       "      <td>0.168079</td>\n",
       "      <td>0.216</td>\n",
       "      <td>Línea A</td>\n",
       "      <td>ProvSur</td>\n",
       "    </tr>\n",
       "    <tr>\n",
       "      <th>139</th>\n",
       "      <td>0.332672</td>\n",
       "      <td>0.520</td>\n",
       "      <td>Línea B</td>\n",
       "      <td>ProvCentro</td>\n",
       "    </tr>\n",
       "    <tr>\n",
       "      <th>140</th>\n",
       "      <td>0.121799</td>\n",
       "      <td>0.456</td>\n",
       "      <td>Línea A</td>\n",
       "      <td>ProvNorte</td>\n",
       "    </tr>\n",
       "    <tr>\n",
       "      <th>141</th>\n",
       "      <td>0.359781</td>\n",
       "      <td>0.216</td>\n",
       "      <td>Línea A</td>\n",
       "      <td>ProvSur</td>\n",
       "    </tr>\n",
       "    <tr>\n",
       "      <th>142</th>\n",
       "      <td>0.585080</td>\n",
       "      <td>0.912</td>\n",
       "      <td>Línea A</td>\n",
       "      <td>ProvSur</td>\n",
       "    </tr>\n",
       "  </tbody>\n",
       "</table>\n",
       "<p>143 rows × 4 columns</p>\n",
       "</div>"
      ],
      "text/plain": [
       "       Precio  Stock Categoria   Proveedor\n",
       "0    0.169240  0.192   Línea B     ProvSur\n",
       "1    0.314034  0.520   Línea B  ProvCentro\n",
       "2    0.294622  0.344   Línea B     ProvSur\n",
       "3    0.585080  0.912   Línea A     ProvSur\n",
       "4    0.592342  0.096   Línea B     ProvSur\n",
       "..        ...    ...       ...         ...\n",
       "138  0.168079  0.216   Línea A     ProvSur\n",
       "139  0.332672  0.520   Línea B  ProvCentro\n",
       "140  0.121799  0.456   Línea A   ProvNorte\n",
       "141  0.359781  0.216   Línea A     ProvSur\n",
       "142  0.585080  0.912   Línea A     ProvSur\n",
       "\n",
       "[143 rows x 4 columns]"
      ]
     },
     "execution_count": 21,
     "metadata": {},
     "output_type": "execute_result"
    }
   ],
   "source": [
    "df2"
   ]
  },
  {
   "cell_type": "markdown",
   "id": "f08f4b3b",
   "metadata": {
    "id": "f08f4b3b"
   },
   "source": [
    "4.Calcula la probabilidad conjunta de de que Stock > 50 y Precio > 10000\n"
   ]
  },
  {
   "cell_type": "code",
   "execution_count": 22,
   "id": "54d334db",
   "metadata": {
    "colab": {
     "base_uri": "https://localhost:8080/"
    },
    "id": "54d334db",
    "outputId": "a022cda9-424a-4a6f-de78-eed3fa8acc79"
   },
   "outputs": [
    {
     "name": "stdout",
     "output_type": "stream",
     "text": [
      "0.00\n"
     ]
    }
   ],
   "source": [
    "totalStock = len(df2['Stock'])\n",
    "favorables = ((df2['Stock'] > 50) & (df2['Precio'] > 10000)).sum()\n",
    "pEmpirica = (favorables/totalStock)\n",
    "print(f\"{pEmpirica:.2f}\")"
   ]
  },
  {
   "cell_type": "markdown",
   "id": "c6b7112f",
   "metadata": {
    "id": "c6b7112f"
   },
   "source": [
    "# Bloque 3 Mini Desafío Integrador\n"
   ]
  },
  {
   "cell_type": "code",
   "execution_count": 23,
   "id": "3f64dacb",
   "metadata": {
    "id": "3f64dacb"
   },
   "outputs": [],
   "source": [
    "import pandas as pd\n",
    "df3 = pd.read_csv('clientes_integrador.csv', sep=';')"
   ]
  },
  {
   "cell_type": "code",
   "execution_count": 24,
   "id": "e0c411c1",
   "metadata": {
    "colab": {
     "base_uri": "https://localhost:8080/",
     "height": 676
    },
    "id": "e0c411c1",
    "outputId": "1c148c64-f997-4e2d-cb03-72aec81e8068"
   },
   "outputs": [
    {
     "data": {
      "text/html": [
       "<div>\n",
       "<style scoped>\n",
       "    .dataframe tbody tr th:only-of-type {\n",
       "        vertical-align: middle;\n",
       "    }\n",
       "\n",
       "    .dataframe tbody tr th {\n",
       "        vertical-align: top;\n",
       "    }\n",
       "\n",
       "    .dataframe thead th {\n",
       "        text-align: right;\n",
       "    }\n",
       "</style>\n",
       "<table border=\"1\" class=\"dataframe\">\n",
       "  <thead>\n",
       "    <tr style=\"text-align: right;\">\n",
       "      <th></th>\n",
       "      <th>Id</th>\n",
       "      <th>Edad</th>\n",
       "      <th>IngresoMensual</th>\n",
       "      <th>Deuda</th>\n",
       "      <th>Ciudad</th>\n",
       "      <th>Genero</th>\n",
       "    </tr>\n",
       "  </thead>\n",
       "  <tbody>\n",
       "    <tr>\n",
       "      <th>0</th>\n",
       "      <td>1</td>\n",
       "      <td>21</td>\n",
       "      <td>847804.0</td>\n",
       "      <td>0.0</td>\n",
       "      <td>Concepción</td>\n",
       "      <td>M</td>\n",
       "    </tr>\n",
       "    <tr>\n",
       "      <th>1</th>\n",
       "      <td>2</td>\n",
       "      <td>43</td>\n",
       "      <td>589493.0</td>\n",
       "      <td>183505.0</td>\n",
       "      <td>San Pedro</td>\n",
       "      <td>M</td>\n",
       "    </tr>\n",
       "    <tr>\n",
       "      <th>2</th>\n",
       "      <td>3</td>\n",
       "      <td>46</td>\n",
       "      <td>845798.0</td>\n",
       "      <td>421486.0</td>\n",
       "      <td>San Pedro</td>\n",
       "      <td>M</td>\n",
       "    </tr>\n",
       "    <tr>\n",
       "      <th>3</th>\n",
       "      <td>4</td>\n",
       "      <td>33</td>\n",
       "      <td>581787.0</td>\n",
       "      <td>163355.0</td>\n",
       "      <td>Concepción</td>\n",
       "      <td>F</td>\n",
       "    </tr>\n",
       "    <tr>\n",
       "      <th>4</th>\n",
       "      <td>5</td>\n",
       "      <td>41</td>\n",
       "      <td>490102.0</td>\n",
       "      <td>233122.0</td>\n",
       "      <td>Talcahuano</td>\n",
       "      <td>M</td>\n",
       "    </tr>\n",
       "    <tr>\n",
       "      <th>5</th>\n",
       "      <td>6</td>\n",
       "      <td>49</td>\n",
       "      <td>890290.0</td>\n",
       "      <td>367393.0</td>\n",
       "      <td>Concepción</td>\n",
       "      <td>F</td>\n",
       "    </tr>\n",
       "    <tr>\n",
       "      <th>6</th>\n",
       "      <td>7</td>\n",
       "      <td>21</td>\n",
       "      <td>865276.0</td>\n",
       "      <td>493895.0</td>\n",
       "      <td>San Pedro</td>\n",
       "      <td>M</td>\n",
       "    </tr>\n",
       "    <tr>\n",
       "      <th>7</th>\n",
       "      <td>8</td>\n",
       "      <td>27</td>\n",
       "      <td>993785.0</td>\n",
       "      <td>145010.0</td>\n",
       "      <td>Concepción</td>\n",
       "      <td>M</td>\n",
       "    </tr>\n",
       "    <tr>\n",
       "      <th>8</th>\n",
       "      <td>9</td>\n",
       "      <td>65</td>\n",
       "      <td>1475759.0</td>\n",
       "      <td>217811.0</td>\n",
       "      <td>Talcahuano</td>\n",
       "      <td>F</td>\n",
       "    </tr>\n",
       "    <tr>\n",
       "      <th>9</th>\n",
       "      <td>10</td>\n",
       "      <td>39</td>\n",
       "      <td>903187.0</td>\n",
       "      <td>456867.0</td>\n",
       "      <td>Concepción</td>\n",
       "      <td>M</td>\n",
       "    </tr>\n",
       "    <tr>\n",
       "      <th>10</th>\n",
       "      <td>11</td>\n",
       "      <td>55</td>\n",
       "      <td>965525.0</td>\n",
       "      <td>22114.0</td>\n",
       "      <td>Talcahuano</td>\n",
       "      <td>M</td>\n",
       "    </tr>\n",
       "    <tr>\n",
       "      <th>11</th>\n",
       "      <td>12</td>\n",
       "      <td>53</td>\n",
       "      <td>496732.0</td>\n",
       "      <td>353586.0</td>\n",
       "      <td>Chillán</td>\n",
       "      <td>M</td>\n",
       "    </tr>\n",
       "    <tr>\n",
       "      <th>12</th>\n",
       "      <td>13</td>\n",
       "      <td>52</td>\n",
       "      <td>433928.0</td>\n",
       "      <td>87619.0</td>\n",
       "      <td>Concepción</td>\n",
       "      <td>F</td>\n",
       "    </tr>\n",
       "    <tr>\n",
       "      <th>13</th>\n",
       "      <td>14</td>\n",
       "      <td>43</td>\n",
       "      <td>1294849.0</td>\n",
       "      <td>233321.0</td>\n",
       "      <td>San Pedro</td>\n",
       "      <td>F</td>\n",
       "    </tr>\n",
       "    <tr>\n",
       "      <th>14</th>\n",
       "      <td>15</td>\n",
       "      <td>47</td>\n",
       "      <td>542956.0</td>\n",
       "      <td>188460.0</td>\n",
       "      <td>Chillán</td>\n",
       "      <td>F</td>\n",
       "    </tr>\n",
       "    <tr>\n",
       "      <th>15</th>\n",
       "      <td>16</td>\n",
       "      <td>69</td>\n",
       "      <td>506817.0</td>\n",
       "      <td>95458.0</td>\n",
       "      <td>San Pedro</td>\n",
       "      <td>F</td>\n",
       "    </tr>\n",
       "    <tr>\n",
       "      <th>16</th>\n",
       "      <td>17</td>\n",
       "      <td>77</td>\n",
       "      <td>808270.0</td>\n",
       "      <td>92197.0</td>\n",
       "      <td>Concepción</td>\n",
       "      <td>M</td>\n",
       "    </tr>\n",
       "    <tr>\n",
       "      <th>17</th>\n",
       "      <td>18</td>\n",
       "      <td>33</td>\n",
       "      <td>792942.0</td>\n",
       "      <td>255934.0</td>\n",
       "      <td>San Pedro</td>\n",
       "      <td>F</td>\n",
       "    </tr>\n",
       "    <tr>\n",
       "      <th>18</th>\n",
       "      <td>19</td>\n",
       "      <td>59</td>\n",
       "      <td>549248.0</td>\n",
       "      <td>349420.0</td>\n",
       "      <td>Concepción</td>\n",
       "      <td>M</td>\n",
       "    </tr>\n",
       "    <tr>\n",
       "      <th>19</th>\n",
       "      <td>20</td>\n",
       "      <td>78</td>\n",
       "      <td>728508.0</td>\n",
       "      <td>203134.0</td>\n",
       "      <td>Concepción</td>\n",
       "      <td>F</td>\n",
       "    </tr>\n",
       "  </tbody>\n",
       "</table>\n",
       "</div>"
      ],
      "text/plain": [
       "    Id  Edad  IngresoMensual     Deuda      Ciudad Genero\n",
       "0    1    21        847804.0       0.0  Concepción      M\n",
       "1    2    43        589493.0  183505.0   San Pedro      M\n",
       "2    3    46        845798.0  421486.0   San Pedro      M\n",
       "3    4    33        581787.0  163355.0  Concepción      F\n",
       "4    5    41        490102.0  233122.0  Talcahuano      M\n",
       "5    6    49        890290.0  367393.0  Concepción      F\n",
       "6    7    21        865276.0  493895.0   San Pedro      M\n",
       "7    8    27        993785.0  145010.0  Concepción      M\n",
       "8    9    65       1475759.0  217811.0  Talcahuano      F\n",
       "9   10    39        903187.0  456867.0  Concepción      M\n",
       "10  11    55        965525.0   22114.0  Talcahuano      M\n",
       "11  12    53        496732.0  353586.0     Chillán      M\n",
       "12  13    52        433928.0   87619.0  Concepción      F\n",
       "13  14    43       1294849.0  233321.0   San Pedro      F\n",
       "14  15    47        542956.0  188460.0     Chillán      F\n",
       "15  16    69        506817.0   95458.0   San Pedro      F\n",
       "16  17    77        808270.0   92197.0  Concepción      M\n",
       "17  18    33        792942.0  255934.0   San Pedro      F\n",
       "18  19    59        549248.0  349420.0  Concepción      M\n",
       "19  20    78        728508.0  203134.0  Concepción      F"
      ]
     },
     "execution_count": 24,
     "metadata": {},
     "output_type": "execute_result"
    }
   ],
   "source": [
    "df3.head(20)"
   ]
  },
  {
   "cell_type": "markdown",
   "id": "48dbbf4f",
   "metadata": {
    "id": "48dbbf4f"
   },
   "source": [
    "1.Limpia los datos: elimina duplicados, imputa nulos con media/moda según corresponda.\n"
   ]
  },
  {
   "cell_type": "code",
   "execution_count": 25,
   "id": "36263edd",
   "metadata": {
    "colab": {
     "base_uri": "https://localhost:8080/",
     "height": 272
    },
    "id": "36263edd",
    "outputId": "5ea2fd04-a371-457c-cf2e-c92c98884795"
   },
   "outputs": [
    {
     "data": {
      "text/plain": [
       "IngresoMensual    12\n",
       "Genero            10\n",
       "Edad               0\n",
       "Id                 0\n",
       "Deuda              0\n",
       "Ciudad             0\n",
       "dtype: int64"
      ]
     },
     "execution_count": 25,
     "metadata": {},
     "output_type": "execute_result"
    }
   ],
   "source": [
    "df3.isna().sum().sort_values(ascending=False)"
   ]
  },
  {
   "cell_type": "code",
   "execution_count": 26,
   "id": "8112c360",
   "metadata": {
    "colab": {
     "base_uri": "https://localhost:8080/"
    },
    "id": "8112c360",
    "outputId": "325142a8-a1ca-4d4c-ee63-d68e54058c29"
   },
   "outputs": [
    {
     "name": "stderr",
     "output_type": "stream",
     "text": [
      "C:\\Users\\nicol\\AppData\\Local\\Temp\\ipykernel_29108\\1085764471.py:1: FutureWarning: A value is trying to be set on a copy of a DataFrame or Series through chained assignment using an inplace method.\n",
      "The behavior will change in pandas 3.0. This inplace method will never work because the intermediate object on which we are setting values always behaves as a copy.\n",
      "\n",
      "For example, when doing 'df[col].method(value, inplace=True)', try using 'df.method({col: value}, inplace=True)' or df[col] = df[col].method(value) instead, to perform the operation inplace on the original object.\n",
      "\n",
      "\n",
      "  df3['IngresoMensual'].fillna(df3['IngresoMensual'].mean(), inplace=True)\n"
     ]
    }
   ],
   "source": [
    "df3['IngresoMensual'].fillna(df3['IngresoMensual'].mean(), inplace=True)"
   ]
  },
  {
   "cell_type": "code",
   "execution_count": 27,
   "id": "aa0d1d4e",
   "metadata": {
    "colab": {
     "base_uri": "https://localhost:8080/",
     "height": 272
    },
    "id": "aa0d1d4e",
    "outputId": "8a3f672a-76f5-4bef-f6d6-88380b711d37"
   },
   "outputs": [
    {
     "data": {
      "text/plain": [
       "Genero            10\n",
       "Id                 0\n",
       "Edad               0\n",
       "IngresoMensual     0\n",
       "Deuda              0\n",
       "Ciudad             0\n",
       "dtype: int64"
      ]
     },
     "execution_count": 27,
     "metadata": {},
     "output_type": "execute_result"
    }
   ],
   "source": [
    "df3.isna().sum().sort_values(ascending=False)"
   ]
  },
  {
   "cell_type": "code",
   "execution_count": 28,
   "id": "7636484b",
   "metadata": {
    "colab": {
     "base_uri": "https://localhost:8080/"
    },
    "id": "7636484b",
    "outputId": "18b8e7fc-d4de-4dc5-d94c-a67f80457075"
   },
   "outputs": [
    {
     "name": "stderr",
     "output_type": "stream",
     "text": [
      "C:\\Users\\nicol\\AppData\\Local\\Temp\\ipykernel_29108\\3515832937.py:1: FutureWarning: A value is trying to be set on a copy of a DataFrame or Series through chained assignment using an inplace method.\n",
      "The behavior will change in pandas 3.0. This inplace method will never work because the intermediate object on which we are setting values always behaves as a copy.\n",
      "\n",
      "For example, when doing 'df[col].method(value, inplace=True)', try using 'df.method({col: value}, inplace=True)' or df[col] = df[col].method(value) instead, to perform the operation inplace on the original object.\n",
      "\n",
      "\n",
      "  df3['Genero'].fillna(df3['Genero'].mode()[0], inplace=True)\n"
     ]
    }
   ],
   "source": [
    "df3['Genero'].fillna(df3['Genero'].mode()[0], inplace=True)"
   ]
  },
  {
   "cell_type": "code",
   "execution_count": 29,
   "id": "f475a47c",
   "metadata": {
    "colab": {
     "base_uri": "https://localhost:8080/",
     "height": 272
    },
    "id": "f475a47c",
    "outputId": "583be054-4c7d-4aae-e39e-d5716794485a"
   },
   "outputs": [
    {
     "data": {
      "text/plain": [
       "Id                0\n",
       "Edad              0\n",
       "IngresoMensual    0\n",
       "Deuda             0\n",
       "Ciudad            0\n",
       "Genero            0\n",
       "dtype: int64"
      ]
     },
     "execution_count": 29,
     "metadata": {},
     "output_type": "execute_result"
    }
   ],
   "source": [
    "df3.isna().sum().sort_values(ascending=False)"
   ]
  },
  {
   "cell_type": "code",
   "execution_count": 30,
   "id": "e9269311",
   "metadata": {
    "id": "e9269311"
   },
   "outputs": [],
   "source": [
    "df3_copia = df3.copy()"
   ]
  },
  {
   "cell_type": "markdown",
   "id": "bf8eb0a3",
   "metadata": {
    "id": "bf8eb0a3"
   },
   "source": [
    "2.Normaliza las variables numéricas (Edad, IngresoMensual, Deuda) usando StandardScaler.\n"
   ]
  },
  {
   "cell_type": "code",
   "execution_count": 31,
   "id": "bd2da74e",
   "metadata": {
    "id": "bd2da74e"
   },
   "outputs": [],
   "source": [
    "from sklearn.preprocessing import StandardScaler\n",
    "\n",
    "scalerMM = StandardScaler()\n",
    "df3[['Edad','IngresoMensual', 'Deuda']] = scalerMM.fit_transform(df3[['Edad','IngresoMensual', 'Deuda']])"
   ]
  },
  {
   "cell_type": "code",
   "execution_count": 32,
   "id": "fc11a82e",
   "metadata": {
    "colab": {
     "base_uri": "https://localhost:8080/",
     "height": 423
    },
    "id": "fc11a82e",
    "outputId": "a1905cf6-0768-459d-d582-c763d86b9733"
   },
   "outputs": [
    {
     "data": {
      "text/html": [
       "<div>\n",
       "<style scoped>\n",
       "    .dataframe tbody tr th:only-of-type {\n",
       "        vertical-align: middle;\n",
       "    }\n",
       "\n",
       "    .dataframe tbody tr th {\n",
       "        vertical-align: top;\n",
       "    }\n",
       "\n",
       "    .dataframe thead th {\n",
       "        text-align: right;\n",
       "    }\n",
       "</style>\n",
       "<table border=\"1\" class=\"dataframe\">\n",
       "  <thead>\n",
       "    <tr style=\"text-align: right;\">\n",
       "      <th></th>\n",
       "      <th>Edad</th>\n",
       "      <th>IngresoMensual</th>\n",
       "      <th>Deuda</th>\n",
       "    </tr>\n",
       "  </thead>\n",
       "  <tbody>\n",
       "    <tr>\n",
       "      <th>0</th>\n",
       "      <td>-1.531996</td>\n",
       "      <td>0.104969</td>\n",
       "      <td>-0.591283</td>\n",
       "    </tr>\n",
       "    <tr>\n",
       "      <th>1</th>\n",
       "      <td>-0.270549</td>\n",
       "      <td>-0.690918</td>\n",
       "      <td>-0.239804</td>\n",
       "    </tr>\n",
       "    <tr>\n",
       "      <th>2</th>\n",
       "      <td>-0.098533</td>\n",
       "      <td>0.098789</td>\n",
       "      <td>0.216018</td>\n",
       "    </tr>\n",
       "    <tr>\n",
       "      <th>3</th>\n",
       "      <td>-0.843934</td>\n",
       "      <td>-0.714661</td>\n",
       "      <td>-0.278398</td>\n",
       "    </tr>\n",
       "    <tr>\n",
       "      <th>4</th>\n",
       "      <td>-0.385226</td>\n",
       "      <td>-0.997154</td>\n",
       "      <td>-0.144769</td>\n",
       "    </tr>\n",
       "    <tr>\n",
       "      <th>...</th>\n",
       "      <td>...</td>\n",
       "      <td>...</td>\n",
       "      <td>...</td>\n",
       "    </tr>\n",
       "    <tr>\n",
       "      <th>201</th>\n",
       "      <td>-0.614580</td>\n",
       "      <td>-0.230636</td>\n",
       "      <td>-0.591283</td>\n",
       "    </tr>\n",
       "    <tr>\n",
       "      <th>202</th>\n",
       "      <td>1.449607</td>\n",
       "      <td>1.407683</td>\n",
       "      <td>-0.591283</td>\n",
       "    </tr>\n",
       "    <tr>\n",
       "      <th>203</th>\n",
       "      <td>1.105576</td>\n",
       "      <td>-1.052781</td>\n",
       "      <td>-0.374753</td>\n",
       "    </tr>\n",
       "    <tr>\n",
       "      <th>204</th>\n",
       "      <td>-0.270549</td>\n",
       "      <td>-0.690918</td>\n",
       "      <td>-0.239804</td>\n",
       "    </tr>\n",
       "    <tr>\n",
       "      <th>205</th>\n",
       "      <td>-0.843934</td>\n",
       "      <td>-1.415737</td>\n",
       "      <td>-0.034897</td>\n",
       "    </tr>\n",
       "  </tbody>\n",
       "</table>\n",
       "<p>206 rows × 3 columns</p>\n",
       "</div>"
      ],
      "text/plain": [
       "         Edad  IngresoMensual     Deuda\n",
       "0   -1.531996        0.104969 -0.591283\n",
       "1   -0.270549       -0.690918 -0.239804\n",
       "2   -0.098533        0.098789  0.216018\n",
       "3   -0.843934       -0.714661 -0.278398\n",
       "4   -0.385226       -0.997154 -0.144769\n",
       "..        ...             ...       ...\n",
       "201 -0.614580       -0.230636 -0.591283\n",
       "202  1.449607        1.407683 -0.591283\n",
       "203  1.105576       -1.052781 -0.374753\n",
       "204 -0.270549       -0.690918 -0.239804\n",
       "205 -0.843934       -1.415737 -0.034897\n",
       "\n",
       "[206 rows x 3 columns]"
      ]
     },
     "execution_count": 32,
     "metadata": {},
     "output_type": "execute_result"
    }
   ],
   "source": [
    "df3[['Edad', 'IngresoMensual', 'Deuda']]"
   ]
  },
  {
   "cell_type": "markdown",
   "id": "47faf360",
   "metadata": {
    "id": "47faf360"
   },
   "source": [
    "3.Codifica las variables categóricas (Ciudad, Genero) con OneHotEncoder.\n"
   ]
  },
  {
   "cell_type": "code",
   "execution_count": 33,
   "id": "fd05442e",
   "metadata": {
    "id": "fd05442e"
   },
   "outputs": [],
   "source": [
    "from sklearn.preprocessing import OneHotEncoder\n",
    "OHE = OneHotEncoder(sparse_output=False)\n",
    "encoded2 = OHE.fit_transform(df3[['Ciudad', 'Genero']])\n",
    "df_encoded2 = pd.DataFrame(encoded2, columns=OHE.get_feature_names_out(['Ciudad', 'Genero']))\n",
    "df3 = pd.concat([df3, df_encoded2], axis=1)"
   ]
  },
  {
   "cell_type": "code",
   "execution_count": 34,
   "id": "c05dcd15",
   "metadata": {
    "id": "c05dcd15"
   },
   "outputs": [],
   "source": [
    "df3 = df3.drop(columns=['Ciudad', 'Genero'])"
   ]
  },
  {
   "cell_type": "code",
   "execution_count": 35,
   "id": "62c483c2",
   "metadata": {
    "colab": {
     "base_uri": "https://localhost:8080/",
     "height": 441
    },
    "id": "62c483c2",
    "outputId": "bd6ec0ee-6a80-4018-9b0c-e2665bd9de66"
   },
   "outputs": [
    {
     "data": {
      "text/html": [
       "<div>\n",
       "<style scoped>\n",
       "    .dataframe tbody tr th:only-of-type {\n",
       "        vertical-align: middle;\n",
       "    }\n",
       "\n",
       "    .dataframe tbody tr th {\n",
       "        vertical-align: top;\n",
       "    }\n",
       "\n",
       "    .dataframe thead th {\n",
       "        text-align: right;\n",
       "    }\n",
       "</style>\n",
       "<table border=\"1\" class=\"dataframe\">\n",
       "  <thead>\n",
       "    <tr style=\"text-align: right;\">\n",
       "      <th></th>\n",
       "      <th>Id</th>\n",
       "      <th>Edad</th>\n",
       "      <th>IngresoMensual</th>\n",
       "      <th>Deuda</th>\n",
       "      <th>Ciudad_Chillán</th>\n",
       "      <th>Ciudad_Concepción</th>\n",
       "      <th>Ciudad_San Pedro</th>\n",
       "      <th>Ciudad_Talcahuano</th>\n",
       "      <th>Genero_F</th>\n",
       "      <th>Genero_M</th>\n",
       "    </tr>\n",
       "  </thead>\n",
       "  <tbody>\n",
       "    <tr>\n",
       "      <th>0</th>\n",
       "      <td>1</td>\n",
       "      <td>-1.531996</td>\n",
       "      <td>0.104969</td>\n",
       "      <td>-0.591283</td>\n",
       "      <td>0.0</td>\n",
       "      <td>1.0</td>\n",
       "      <td>0.0</td>\n",
       "      <td>0.0</td>\n",
       "      <td>0.0</td>\n",
       "      <td>1.0</td>\n",
       "    </tr>\n",
       "    <tr>\n",
       "      <th>1</th>\n",
       "      <td>2</td>\n",
       "      <td>-0.270549</td>\n",
       "      <td>-0.690918</td>\n",
       "      <td>-0.239804</td>\n",
       "      <td>0.0</td>\n",
       "      <td>0.0</td>\n",
       "      <td>1.0</td>\n",
       "      <td>0.0</td>\n",
       "      <td>0.0</td>\n",
       "      <td>1.0</td>\n",
       "    </tr>\n",
       "    <tr>\n",
       "      <th>2</th>\n",
       "      <td>3</td>\n",
       "      <td>-0.098533</td>\n",
       "      <td>0.098789</td>\n",
       "      <td>0.216018</td>\n",
       "      <td>0.0</td>\n",
       "      <td>0.0</td>\n",
       "      <td>1.0</td>\n",
       "      <td>0.0</td>\n",
       "      <td>0.0</td>\n",
       "      <td>1.0</td>\n",
       "    </tr>\n",
       "    <tr>\n",
       "      <th>3</th>\n",
       "      <td>4</td>\n",
       "      <td>-0.843934</td>\n",
       "      <td>-0.714661</td>\n",
       "      <td>-0.278398</td>\n",
       "      <td>0.0</td>\n",
       "      <td>1.0</td>\n",
       "      <td>0.0</td>\n",
       "      <td>0.0</td>\n",
       "      <td>1.0</td>\n",
       "      <td>0.0</td>\n",
       "    </tr>\n",
       "    <tr>\n",
       "      <th>4</th>\n",
       "      <td>5</td>\n",
       "      <td>-0.385226</td>\n",
       "      <td>-0.997154</td>\n",
       "      <td>-0.144769</td>\n",
       "      <td>0.0</td>\n",
       "      <td>0.0</td>\n",
       "      <td>0.0</td>\n",
       "      <td>1.0</td>\n",
       "      <td>0.0</td>\n",
       "      <td>1.0</td>\n",
       "    </tr>\n",
       "    <tr>\n",
       "      <th>...</th>\n",
       "      <td>...</td>\n",
       "      <td>...</td>\n",
       "      <td>...</td>\n",
       "      <td>...</td>\n",
       "      <td>...</td>\n",
       "      <td>...</td>\n",
       "      <td>...</td>\n",
       "      <td>...</td>\n",
       "      <td>...</td>\n",
       "      <td>...</td>\n",
       "    </tr>\n",
       "    <tr>\n",
       "      <th>201</th>\n",
       "      <td>100</td>\n",
       "      <td>-0.614580</td>\n",
       "      <td>-0.230636</td>\n",
       "      <td>-0.591283</td>\n",
       "      <td>0.0</td>\n",
       "      <td>1.0</td>\n",
       "      <td>0.0</td>\n",
       "      <td>0.0</td>\n",
       "      <td>1.0</td>\n",
       "      <td>0.0</td>\n",
       "    </tr>\n",
       "    <tr>\n",
       "      <th>202</th>\n",
       "      <td>129</td>\n",
       "      <td>1.449607</td>\n",
       "      <td>1.407683</td>\n",
       "      <td>-0.591283</td>\n",
       "      <td>0.0</td>\n",
       "      <td>0.0</td>\n",
       "      <td>1.0</td>\n",
       "      <td>0.0</td>\n",
       "      <td>0.0</td>\n",
       "      <td>1.0</td>\n",
       "    </tr>\n",
       "    <tr>\n",
       "      <th>203</th>\n",
       "      <td>176</td>\n",
       "      <td>1.105576</td>\n",
       "      <td>-1.052781</td>\n",
       "      <td>-0.374753</td>\n",
       "      <td>0.0</td>\n",
       "      <td>0.0</td>\n",
       "      <td>1.0</td>\n",
       "      <td>0.0</td>\n",
       "      <td>1.0</td>\n",
       "      <td>0.0</td>\n",
       "    </tr>\n",
       "    <tr>\n",
       "      <th>204</th>\n",
       "      <td>2</td>\n",
       "      <td>-0.270549</td>\n",
       "      <td>-0.690918</td>\n",
       "      <td>-0.239804</td>\n",
       "      <td>0.0</td>\n",
       "      <td>0.0</td>\n",
       "      <td>1.0</td>\n",
       "      <td>0.0</td>\n",
       "      <td>0.0</td>\n",
       "      <td>1.0</td>\n",
       "    </tr>\n",
       "    <tr>\n",
       "      <th>205</th>\n",
       "      <td>112</td>\n",
       "      <td>-0.843934</td>\n",
       "      <td>-1.415737</td>\n",
       "      <td>-0.034897</td>\n",
       "      <td>0.0</td>\n",
       "      <td>0.0</td>\n",
       "      <td>1.0</td>\n",
       "      <td>0.0</td>\n",
       "      <td>1.0</td>\n",
       "      <td>0.0</td>\n",
       "    </tr>\n",
       "  </tbody>\n",
       "</table>\n",
       "<p>206 rows × 10 columns</p>\n",
       "</div>"
      ],
      "text/plain": [
       "      Id      Edad  IngresoMensual     Deuda  Ciudad_Chillán  \\\n",
       "0      1 -1.531996        0.104969 -0.591283             0.0   \n",
       "1      2 -0.270549       -0.690918 -0.239804             0.0   \n",
       "2      3 -0.098533        0.098789  0.216018             0.0   \n",
       "3      4 -0.843934       -0.714661 -0.278398             0.0   \n",
       "4      5 -0.385226       -0.997154 -0.144769             0.0   \n",
       "..   ...       ...             ...       ...             ...   \n",
       "201  100 -0.614580       -0.230636 -0.591283             0.0   \n",
       "202  129  1.449607        1.407683 -0.591283             0.0   \n",
       "203  176  1.105576       -1.052781 -0.374753             0.0   \n",
       "204    2 -0.270549       -0.690918 -0.239804             0.0   \n",
       "205  112 -0.843934       -1.415737 -0.034897             0.0   \n",
       "\n",
       "     Ciudad_Concepción  Ciudad_San Pedro  Ciudad_Talcahuano  Genero_F  \\\n",
       "0                  1.0               0.0                0.0       0.0   \n",
       "1                  0.0               1.0                0.0       0.0   \n",
       "2                  0.0               1.0                0.0       0.0   \n",
       "3                  1.0               0.0                0.0       1.0   \n",
       "4                  0.0               0.0                1.0       0.0   \n",
       "..                 ...               ...                ...       ...   \n",
       "201                1.0               0.0                0.0       1.0   \n",
       "202                0.0               1.0                0.0       0.0   \n",
       "203                0.0               1.0                0.0       1.0   \n",
       "204                0.0               1.0                0.0       0.0   \n",
       "205                0.0               1.0                0.0       1.0   \n",
       "\n",
       "     Genero_M  \n",
       "0         1.0  \n",
       "1         1.0  \n",
       "2         1.0  \n",
       "3         0.0  \n",
       "4         1.0  \n",
       "..        ...  \n",
       "201       0.0  \n",
       "202       1.0  \n",
       "203       0.0  \n",
       "204       1.0  \n",
       "205       0.0  \n",
       "\n",
       "[206 rows x 10 columns]"
      ]
     },
     "execution_count": 35,
     "metadata": {},
     "output_type": "execute_result"
    }
   ],
   "source": [
    "df3"
   ]
  },
  {
   "cell_type": "markdown",
   "id": "cf3d955a",
   "metadata": {
    "id": "cf3d955a"
   },
   "source": [
    "4.a. La probabilidad de que un cliente tenga IngresoMensual > 800000.\n"
   ]
  },
  {
   "cell_type": "code",
   "execution_count": 36,
   "id": "fe78a56b",
   "metadata": {
    "colab": {
     "base_uri": "https://localhost:8080/"
    },
    "id": "fe78a56b",
    "outputId": "06d3e97f-3b76-4a41-9e06-b988857d9a93"
   },
   "outputs": [
    {
     "name": "stdout",
     "output_type": "stream",
     "text": [
      "0.51\n"
     ]
    }
   ],
   "source": [
    "import pandas as pd\n",
    "df3_copia = pd.read_csv('clientes_integrador.csv', sep=';')\n",
    "totalStock = len(df3_copia['IngresoMensual'])\n",
    "favorables = (df3_copia['IngresoMensual'] > 800000).sum()\n",
    "pEmpirica = (favorables/totalStock)\n",
    "print(f\"{pEmpirica:.2f}\")"
   ]
  },
  {
   "cell_type": "markdown",
   "id": "c08ffeda",
   "metadata": {
    "id": "c08ffeda"
   },
   "source": [
    "4.b. La probabilidad conjunta de que IngresoMensual > 800000 y Deuda < 200000.\n"
   ]
  },
  {
   "cell_type": "code",
   "execution_count": 37,
   "id": "a0f09915",
   "metadata": {
    "colab": {
     "base_uri": "https://localhost:8080/"
    },
    "id": "a0f09915",
    "outputId": "81530757-ac89-4902-efbc-8b2b6d37c450"
   },
   "outputs": [
    {
     "name": "stdout",
     "output_type": "stream",
     "text": [
      "0.17\n"
     ]
    }
   ],
   "source": [
    "favorables = ((df3_copia['IngresoMensual'] > 800000 ) & (df3_copia['Deuda'] < 200000)).sum()\n",
    "totalStock = len(df3_copia['IngresoMensual'])\n",
    "pEmpirica = favorables / totalStock\n",
    "print(f\"{pEmpirica:.2f}\")"
   ]
  },
  {
   "cell_type": "markdown",
   "id": "f324dde1",
   "metadata": {
    "id": "f324dde1"
   },
   "source": [
    "5.Exporta el dataset final limpio y transformado a clientes_integrador_limpio.csv.\n"
   ]
  },
  {
   "cell_type": "code",
   "execution_count": 38,
   "id": "86f4efd2",
   "metadata": {
    "id": "86f4efd2"
   },
   "outputs": [],
   "source": [
    "df3.to_csv('clientes_integrador_limpio.csv', sep=';', index=False, encoding='utf-8')"
   ]
  },
  {
   "cell_type": "markdown",
   "id": "be52ea07",
   "metadata": {
    "id": "be52ea07"
   },
   "source": [
    "# TALLER 2\n"
   ]
  },
  {
   "cell_type": "code",
   "execution_count": 39,
   "id": "4fff5923",
   "metadata": {
    "id": "4fff5923"
   },
   "outputs": [],
   "source": [
    "import pandas as pd\n",
    "df_l = pd.read_csv('clientes_integrador_limpio.csv', sep=';', encoding=\"UTF-8\")"
   ]
  },
  {
   "cell_type": "markdown",
   "id": "d893d600",
   "metadata": {
    "id": "d893d600"
   },
   "source": [
    "PORCENTAJE DE NULOS\n"
   ]
  },
  {
   "cell_type": "code",
   "execution_count": 40,
   "id": "54c1072a",
   "metadata": {
    "colab": {
     "base_uri": "https://localhost:8080/",
     "height": 397
    },
    "id": "54c1072a",
    "outputId": "b29124ca-3973-4aba-fd44-26f3cd14c404"
   },
   "outputs": [
    {
     "data": {
      "text/plain": [
       "Id                   0.0\n",
       "Edad                 0.0\n",
       "IngresoMensual       0.0\n",
       "Deuda                0.0\n",
       "Ciudad_Chillán       0.0\n",
       "Ciudad_Concepción    0.0\n",
       "Ciudad_San Pedro     0.0\n",
       "Ciudad_Talcahuano    0.0\n",
       "Genero_F             0.0\n",
       "Genero_M             0.0\n",
       "dtype: float64"
      ]
     },
     "execution_count": 40,
     "metadata": {},
     "output_type": "execute_result"
    }
   ],
   "source": [
    "df_l.isnull().mean()*100"
   ]
  },
  {
   "cell_type": "markdown",
   "id": "a7138955",
   "metadata": {
    "id": "a7138955"
   },
   "source": [
    "CALCULO DE OUTLIERS\n"
   ]
  },
  {
   "cell_type": "code",
   "execution_count": 41,
   "id": "6633f447",
   "metadata": {
    "id": "6633f447"
   },
   "outputs": [],
   "source": [
    "Q1 = df_l['Deuda'].quantile(0.25)\n",
    "Q3 = df_l['Deuda'].quantile(0.75)\n",
    "IQR = Q3 - Q1\n",
    "\n",
    "outliers = df_l[(df_l['Deuda'] < Q1-1.5*IQR) | (df_l['Deuda'] > Q3+1.5*IQR)]\n",
    "\n",
    "df_sinOutliers = df_l[(df_l['Deuda'] >= Q1-1.5*IQR) & (df_l['Deuda'] <= Q3+1.5*IQR)]"
   ]
  },
  {
   "cell_type": "code",
   "execution_count": 42,
   "id": "db2068dc",
   "metadata": {
    "colab": {
     "base_uri": "https://localhost:8080/",
     "height": 337
    },
    "id": "db2068dc",
    "outputId": "96942058-9f81-429e-e965-0c7c00752651"
   },
   "outputs": [
    {
     "data": {
      "text/html": [
       "<div>\n",
       "<style scoped>\n",
       "    .dataframe tbody tr th:only-of-type {\n",
       "        vertical-align: middle;\n",
       "    }\n",
       "\n",
       "    .dataframe tbody tr th {\n",
       "        vertical-align: top;\n",
       "    }\n",
       "\n",
       "    .dataframe thead th {\n",
       "        text-align: right;\n",
       "    }\n",
       "</style>\n",
       "<table border=\"1\" class=\"dataframe\">\n",
       "  <thead>\n",
       "    <tr style=\"text-align: right;\">\n",
       "      <th></th>\n",
       "      <th>Id</th>\n",
       "      <th>Edad</th>\n",
       "      <th>IngresoMensual</th>\n",
       "      <th>Deuda</th>\n",
       "      <th>Ciudad_Chillán</th>\n",
       "      <th>Ciudad_Concepción</th>\n",
       "      <th>Ciudad_San Pedro</th>\n",
       "      <th>Ciudad_Talcahuano</th>\n",
       "      <th>Genero_F</th>\n",
       "      <th>Genero_M</th>\n",
       "    </tr>\n",
       "  </thead>\n",
       "  <tbody>\n",
       "    <tr>\n",
       "      <th>count</th>\n",
       "      <td>202.000000</td>\n",
       "      <td>202.000000</td>\n",
       "      <td>202.000000</td>\n",
       "      <td>202.000000</td>\n",
       "      <td>202.000000</td>\n",
       "      <td>202.000000</td>\n",
       "      <td>202.000000</td>\n",
       "      <td>202.000000</td>\n",
       "      <td>202.000000</td>\n",
       "      <td>202.000000</td>\n",
       "    </tr>\n",
       "    <tr>\n",
       "      <th>mean</th>\n",
       "      <td>99.792079</td>\n",
       "      <td>0.004222</td>\n",
       "      <td>0.009636</td>\n",
       "      <td>-0.136564</td>\n",
       "      <td>0.079208</td>\n",
       "      <td>0.450495</td>\n",
       "      <td>0.232673</td>\n",
       "      <td>0.237624</td>\n",
       "      <td>0.544554</td>\n",
       "      <td>0.455446</td>\n",
       "    </tr>\n",
       "    <tr>\n",
       "      <th>std</th>\n",
       "      <td>57.609824</td>\n",
       "      <td>0.990686</td>\n",
       "      <td>0.996218</td>\n",
       "      <td>0.244216</td>\n",
       "      <td>0.270734</td>\n",
       "      <td>0.498779</td>\n",
       "      <td>0.423585</td>\n",
       "      <td>0.426685</td>\n",
       "      <td>0.499248</td>\n",
       "      <td>0.499248</td>\n",
       "    </tr>\n",
       "    <tr>\n",
       "      <th>min</th>\n",
       "      <td>1.000000</td>\n",
       "      <td>-1.704012</td>\n",
       "      <td>-2.812662</td>\n",
       "      <td>-0.591283</td>\n",
       "      <td>0.000000</td>\n",
       "      <td>0.000000</td>\n",
       "      <td>0.000000</td>\n",
       "      <td>0.000000</td>\n",
       "      <td>0.000000</td>\n",
       "      <td>0.000000</td>\n",
       "    </tr>\n",
       "    <tr>\n",
       "      <th>25%</th>\n",
       "      <td>51.250000</td>\n",
       "      <td>-0.786595</td>\n",
       "      <td>-0.658443</td>\n",
       "      <td>-0.304426</td>\n",
       "      <td>0.000000</td>\n",
       "      <td>0.000000</td>\n",
       "      <td>0.000000</td>\n",
       "      <td>0.000000</td>\n",
       "      <td>0.000000</td>\n",
       "      <td>0.000000</td>\n",
       "    </tr>\n",
       "    <tr>\n",
       "      <th>50%</th>\n",
       "      <td>100.500000</td>\n",
       "      <td>-0.069864</td>\n",
       "      <td>0.000000</td>\n",
       "      <td>-0.141162</td>\n",
       "      <td>0.000000</td>\n",
       "      <td>0.000000</td>\n",
       "      <td>0.000000</td>\n",
       "      <td>0.000000</td>\n",
       "      <td>1.000000</td>\n",
       "      <td>0.000000</td>\n",
       "    </tr>\n",
       "    <tr>\n",
       "      <th>75%</th>\n",
       "      <td>148.750000</td>\n",
       "      <td>0.818883</td>\n",
       "      <td>0.641839</td>\n",
       "      <td>0.034931</td>\n",
       "      <td>0.000000</td>\n",
       "      <td>1.000000</td>\n",
       "      <td>0.000000</td>\n",
       "      <td>0.000000</td>\n",
       "      <td>1.000000</td>\n",
       "      <td>1.000000</td>\n",
       "    </tr>\n",
       "    <tr>\n",
       "      <th>max</th>\n",
       "      <td>200.000000</td>\n",
       "      <td>1.793638</td>\n",
       "      <td>2.577345</td>\n",
       "      <td>0.478395</td>\n",
       "      <td>1.000000</td>\n",
       "      <td>1.000000</td>\n",
       "      <td>1.000000</td>\n",
       "      <td>1.000000</td>\n",
       "      <td>1.000000</td>\n",
       "      <td>1.000000</td>\n",
       "    </tr>\n",
       "  </tbody>\n",
       "</table>\n",
       "</div>"
      ],
      "text/plain": [
       "               Id        Edad  IngresoMensual       Deuda  Ciudad_Chillán  \\\n",
       "count  202.000000  202.000000      202.000000  202.000000      202.000000   \n",
       "mean    99.792079    0.004222        0.009636   -0.136564        0.079208   \n",
       "std     57.609824    0.990686        0.996218    0.244216        0.270734   \n",
       "min      1.000000   -1.704012       -2.812662   -0.591283        0.000000   \n",
       "25%     51.250000   -0.786595       -0.658443   -0.304426        0.000000   \n",
       "50%    100.500000   -0.069864        0.000000   -0.141162        0.000000   \n",
       "75%    148.750000    0.818883        0.641839    0.034931        0.000000   \n",
       "max    200.000000    1.793638        2.577345    0.478395        1.000000   \n",
       "\n",
       "       Ciudad_Concepción  Ciudad_San Pedro  Ciudad_Talcahuano    Genero_F  \\\n",
       "count         202.000000        202.000000         202.000000  202.000000   \n",
       "mean            0.450495          0.232673           0.237624    0.544554   \n",
       "std             0.498779          0.423585           0.426685    0.499248   \n",
       "min             0.000000          0.000000           0.000000    0.000000   \n",
       "25%             0.000000          0.000000           0.000000    0.000000   \n",
       "50%             0.000000          0.000000           0.000000    1.000000   \n",
       "75%             1.000000          0.000000           0.000000    1.000000   \n",
       "max             1.000000          1.000000           1.000000    1.000000   \n",
       "\n",
       "         Genero_M  \n",
       "count  202.000000  \n",
       "mean     0.455446  \n",
       "std      0.499248  \n",
       "min      0.000000  \n",
       "25%      0.000000  \n",
       "50%      0.000000  \n",
       "75%      1.000000  \n",
       "max      1.000000  "
      ]
     },
     "execution_count": 42,
     "metadata": {},
     "output_type": "execute_result"
    }
   ],
   "source": [
    "df_sinOutliers.describe()"
   ]
  },
  {
   "cell_type": "markdown",
   "id": "239fc4bb",
   "metadata": {
    "id": "239fc4bb"
   },
   "source": [
    "BINARIZACIÓN SEGUN PERCENTIL 75\n"
   ]
  },
  {
   "cell_type": "code",
   "execution_count": 43,
   "id": "900de9c6",
   "metadata": {
    "id": "900de9c6"
   },
   "outputs": [],
   "source": [
    "import numpy as np\n",
    "\n",
    "p75 = np.percentile(df_sinOutliers['Deuda'], 75)\n",
    "y_bin = (df_sinOutliers['Deuda'] > p75).astype(int)"
   ]
  },
  {
   "cell_type": "code",
   "execution_count": 44,
   "id": "b60874dc",
   "metadata": {
    "colab": {
     "base_uri": "https://localhost:8080/",
     "height": 458
    },
    "id": "b60874dc",
    "outputId": "0461e86c-82a5-4a58-ee0e-df37e979673c"
   },
   "outputs": [
    {
     "data": {
      "text/plain": [
       "0      0\n",
       "1      0\n",
       "2      1\n",
       "3      0\n",
       "4      0\n",
       "      ..\n",
       "201    0\n",
       "202    0\n",
       "203    0\n",
       "204    0\n",
       "205    0\n",
       "Name: Deuda, Length: 202, dtype: int64"
      ]
     },
     "execution_count": 44,
     "metadata": {},
     "output_type": "execute_result"
    }
   ],
   "source": [
    "y_bin"
   ]
  },
  {
   "cell_type": "markdown",
   "id": "4a3ac457",
   "metadata": {
    "id": "4a3ac457"
   },
   "source": [
    "CONTEO DE VARIABLES 0 Y 1\n"
   ]
  },
  {
   "cell_type": "code",
   "execution_count": 45,
   "id": "0cdea2c0",
   "metadata": {
    "colab": {
     "base_uri": "https://localhost:8080/",
     "height": 178
    },
    "id": "0cdea2c0",
    "outputId": "9ffeac1c-db52-416c-aead-1322ef3de90b"
   },
   "outputs": [
    {
     "data": {
      "text/plain": [
       "Deuda\n",
       "0    151\n",
       "1     51\n",
       "Name: count, dtype: int64"
      ]
     },
     "execution_count": 45,
     "metadata": {},
     "output_type": "execute_result"
    }
   ],
   "source": [
    "y_bin.value_counts()"
   ]
  },
  {
   "cell_type": "markdown",
   "id": "20d45a2f",
   "metadata": {
    "id": "20d45a2f"
   },
   "source": [
    "PORCENTAJE DE DEUDA ALTA\n"
   ]
  },
  {
   "cell_type": "code",
   "execution_count": 46,
   "id": "fd785813",
   "metadata": {
    "colab": {
     "base_uri": "https://localhost:8080/"
    },
    "id": "fd785813",
    "outputId": "eb5feabe-477f-4691-d73a-9769068e8678"
   },
   "outputs": [
    {
     "data": {
      "text/plain": [
       "np.float64(25.247524752475247)"
      ]
     },
     "execution_count": 46,
     "metadata": {},
     "output_type": "execute_result"
    }
   ],
   "source": [
    "pct_ones = y_bin.mean()*100\n",
    "pct_ones\n"
   ]
  },
  {
   "cell_type": "markdown",
   "id": "5bf79bb9",
   "metadata": {
    "id": "5bf79bb9"
   },
   "source": [
    "SELECCION DE VARIABLES SIN \"DEUDA\" NI \"ID\"\n"
   ]
  },
  {
   "cell_type": "code",
   "execution_count": 47,
   "id": "8b254f75",
   "metadata": {
    "colab": {
     "base_uri": "https://localhost:8080/",
     "height": 423
    },
    "id": "8b254f75",
    "outputId": "69c5ee6c-ddaa-40a8-8fbf-aa06bb9a44fd"
   },
   "outputs": [
    {
     "data": {
      "text/html": [
       "<div>\n",
       "<style scoped>\n",
       "    .dataframe tbody tr th:only-of-type {\n",
       "        vertical-align: middle;\n",
       "    }\n",
       "\n",
       "    .dataframe tbody tr th {\n",
       "        vertical-align: top;\n",
       "    }\n",
       "\n",
       "    .dataframe thead th {\n",
       "        text-align: right;\n",
       "    }\n",
       "</style>\n",
       "<table border=\"1\" class=\"dataframe\">\n",
       "  <thead>\n",
       "    <tr style=\"text-align: right;\">\n",
       "      <th></th>\n",
       "      <th>Edad</th>\n",
       "      <th>IngresoMensual</th>\n",
       "      <th>Ciudad_Chillán</th>\n",
       "      <th>Ciudad_Concepción</th>\n",
       "      <th>Ciudad_San Pedro</th>\n",
       "      <th>Ciudad_Talcahuano</th>\n",
       "      <th>Genero_F</th>\n",
       "      <th>Genero_M</th>\n",
       "    </tr>\n",
       "  </thead>\n",
       "  <tbody>\n",
       "    <tr>\n",
       "      <th>0</th>\n",
       "      <td>-1.531996</td>\n",
       "      <td>0.104969</td>\n",
       "      <td>0.0</td>\n",
       "      <td>1.0</td>\n",
       "      <td>0.0</td>\n",
       "      <td>0.0</td>\n",
       "      <td>0.0</td>\n",
       "      <td>1.0</td>\n",
       "    </tr>\n",
       "    <tr>\n",
       "      <th>1</th>\n",
       "      <td>-0.270549</td>\n",
       "      <td>-0.690918</td>\n",
       "      <td>0.0</td>\n",
       "      <td>0.0</td>\n",
       "      <td>1.0</td>\n",
       "      <td>0.0</td>\n",
       "      <td>0.0</td>\n",
       "      <td>1.0</td>\n",
       "    </tr>\n",
       "    <tr>\n",
       "      <th>2</th>\n",
       "      <td>-0.098533</td>\n",
       "      <td>0.098789</td>\n",
       "      <td>0.0</td>\n",
       "      <td>0.0</td>\n",
       "      <td>1.0</td>\n",
       "      <td>0.0</td>\n",
       "      <td>0.0</td>\n",
       "      <td>1.0</td>\n",
       "    </tr>\n",
       "    <tr>\n",
       "      <th>3</th>\n",
       "      <td>-0.843934</td>\n",
       "      <td>-0.714661</td>\n",
       "      <td>0.0</td>\n",
       "      <td>1.0</td>\n",
       "      <td>0.0</td>\n",
       "      <td>0.0</td>\n",
       "      <td>1.0</td>\n",
       "      <td>0.0</td>\n",
       "    </tr>\n",
       "    <tr>\n",
       "      <th>4</th>\n",
       "      <td>-0.385226</td>\n",
       "      <td>-0.997154</td>\n",
       "      <td>0.0</td>\n",
       "      <td>0.0</td>\n",
       "      <td>0.0</td>\n",
       "      <td>1.0</td>\n",
       "      <td>0.0</td>\n",
       "      <td>1.0</td>\n",
       "    </tr>\n",
       "    <tr>\n",
       "      <th>...</th>\n",
       "      <td>...</td>\n",
       "      <td>...</td>\n",
       "      <td>...</td>\n",
       "      <td>...</td>\n",
       "      <td>...</td>\n",
       "      <td>...</td>\n",
       "      <td>...</td>\n",
       "      <td>...</td>\n",
       "    </tr>\n",
       "    <tr>\n",
       "      <th>201</th>\n",
       "      <td>-0.614580</td>\n",
       "      <td>-0.230636</td>\n",
       "      <td>0.0</td>\n",
       "      <td>1.0</td>\n",
       "      <td>0.0</td>\n",
       "      <td>0.0</td>\n",
       "      <td>1.0</td>\n",
       "      <td>0.0</td>\n",
       "    </tr>\n",
       "    <tr>\n",
       "      <th>202</th>\n",
       "      <td>1.449607</td>\n",
       "      <td>1.407683</td>\n",
       "      <td>0.0</td>\n",
       "      <td>0.0</td>\n",
       "      <td>1.0</td>\n",
       "      <td>0.0</td>\n",
       "      <td>0.0</td>\n",
       "      <td>1.0</td>\n",
       "    </tr>\n",
       "    <tr>\n",
       "      <th>203</th>\n",
       "      <td>1.105576</td>\n",
       "      <td>-1.052781</td>\n",
       "      <td>0.0</td>\n",
       "      <td>0.0</td>\n",
       "      <td>1.0</td>\n",
       "      <td>0.0</td>\n",
       "      <td>1.0</td>\n",
       "      <td>0.0</td>\n",
       "    </tr>\n",
       "    <tr>\n",
       "      <th>204</th>\n",
       "      <td>-0.270549</td>\n",
       "      <td>-0.690918</td>\n",
       "      <td>0.0</td>\n",
       "      <td>0.0</td>\n",
       "      <td>1.0</td>\n",
       "      <td>0.0</td>\n",
       "      <td>0.0</td>\n",
       "      <td>1.0</td>\n",
       "    </tr>\n",
       "    <tr>\n",
       "      <th>205</th>\n",
       "      <td>-0.843934</td>\n",
       "      <td>-1.415737</td>\n",
       "      <td>0.0</td>\n",
       "      <td>0.0</td>\n",
       "      <td>1.0</td>\n",
       "      <td>0.0</td>\n",
       "      <td>1.0</td>\n",
       "      <td>0.0</td>\n",
       "    </tr>\n",
       "  </tbody>\n",
       "</table>\n",
       "<p>202 rows × 8 columns</p>\n",
       "</div>"
      ],
      "text/plain": [
       "         Edad  IngresoMensual  Ciudad_Chillán  Ciudad_Concepción  \\\n",
       "0   -1.531996        0.104969             0.0                1.0   \n",
       "1   -0.270549       -0.690918             0.0                0.0   \n",
       "2   -0.098533        0.098789             0.0                0.0   \n",
       "3   -0.843934       -0.714661             0.0                1.0   \n",
       "4   -0.385226       -0.997154             0.0                0.0   \n",
       "..        ...             ...             ...                ...   \n",
       "201 -0.614580       -0.230636             0.0                1.0   \n",
       "202  1.449607        1.407683             0.0                0.0   \n",
       "203  1.105576       -1.052781             0.0                0.0   \n",
       "204 -0.270549       -0.690918             0.0                0.0   \n",
       "205 -0.843934       -1.415737             0.0                0.0   \n",
       "\n",
       "     Ciudad_San Pedro  Ciudad_Talcahuano  Genero_F  Genero_M  \n",
       "0                 0.0                0.0       0.0       1.0  \n",
       "1                 1.0                0.0       0.0       1.0  \n",
       "2                 1.0                0.0       0.0       1.0  \n",
       "3                 0.0                0.0       1.0       0.0  \n",
       "4                 0.0                1.0       0.0       1.0  \n",
       "..                ...                ...       ...       ...  \n",
       "201               0.0                0.0       1.0       0.0  \n",
       "202               1.0                0.0       0.0       1.0  \n",
       "203               1.0                0.0       1.0       0.0  \n",
       "204               1.0                0.0       0.0       1.0  \n",
       "205               1.0                0.0       1.0       0.0  \n",
       "\n",
       "[202 rows x 8 columns]"
      ]
     },
     "execution_count": 47,
     "metadata": {},
     "output_type": "execute_result"
    }
   ],
   "source": [
    "x = df_sinOutliers.drop(columns=[\"Deuda\", 'Id']).copy()\n",
    "x"
   ]
  },
  {
   "cell_type": "markdown",
   "id": "a6e488fd",
   "metadata": {
    "id": "a6e488fd"
   },
   "source": [
    "ENTRENAMIENTO\n"
   ]
  },
  {
   "cell_type": "code",
   "execution_count": 48,
   "id": "beabab95",
   "metadata": {
    "id": "beabab95"
   },
   "outputs": [],
   "source": [
    "from sklearn.model_selection import train_test_split\n",
    "Xtr, Xte, ytr, yte = train_test_split(\n",
    "    x, y_bin, test_size=0.20,\n",
    "    random_state=42, stratify=y_bin #Porcentaje balanceado\n",
    ")"
   ]
  },
  {
   "cell_type": "code",
   "execution_count": 49,
   "id": "b9703079",
   "metadata": {
    "id": "b9703079"
   },
   "outputs": [],
   "source": [
    "from imblearn.over_sampling import RandomOverSampler\n",
    "from imblearn.under_sampling import RandomUnderSampler"
   ]
  },
  {
   "cell_type": "markdown",
   "id": "65843fc5",
   "metadata": {
    "id": "65843fc5"
   },
   "source": [
    "PROPORCION DE CLASE MINORITARIA\n"
   ]
  },
  {
   "cell_type": "code",
   "execution_count": 50,
   "id": "0af5532f",
   "metadata": {
    "id": "0af5532f"
   },
   "outputs": [],
   "source": [
    "minor_prop = ytr.value_counts(normalize=True).min() #Normalize ->"
   ]
  },
  {
   "cell_type": "code",
   "execution_count": 51,
   "id": "084b1b71",
   "metadata": {
    "colab": {
     "base_uri": "https://localhost:8080/"
    },
    "id": "084b1b71",
    "outputId": "cfa2edde-58e2-416a-cbde-0d72d8e761f8"
   },
   "outputs": [
    {
     "data": {
      "text/plain": [
       "np.float64(0.2546583850931677)"
      ]
     },
     "execution_count": 51,
     "metadata": {},
     "output_type": "execute_result"
    }
   ],
   "source": [
    "minor_prop"
   ]
  },
  {
   "cell_type": "markdown",
   "id": "34b094f1",
   "metadata": {
    "id": "34b094f1"
   },
   "source": [
    "TECNICA DE BALANCEO\n"
   ]
  },
  {
   "cell_type": "code",
   "execution_count": 52,
   "id": "55803ceb",
   "metadata": {
    "colab": {
     "base_uri": "https://localhost:8080/"
    },
    "id": "55803ceb",
    "outputId": "9543b93e-382a-4435-e09d-5a1fbbe66cd0"
   },
   "outputs": [
    {
     "name": "stdout",
     "output_type": "stream",
     "text": [
      "Tecnica de balanceo:  ROS\n"
     ]
    }
   ],
   "source": [
    "if minor_prop < 0.35:\n",
    "    sampler = RandomOverSampler(random_state=42)\n",
    "    tecnica = \"ROS\"\n",
    "elif 0.45 <= minor_prop <= 0.55:\n",
    "    sampler = None\n",
    "    tecnica = \"none\"\n",
    "else:\n",
    "    sampler = RandomUnderSampler(random_state=42)\n",
    "    tecnica = \"RUS\"\n",
    "\n",
    "print(\"Tecnica de balanceo: \", tecnica)"
   ]
  },
  {
   "cell_type": "code",
   "execution_count": 53,
   "id": "27fdde50",
   "metadata": {
    "id": "27fdde50"
   },
   "outputs": [],
   "source": [
    "if sampler is not None:\n",
    "    xtr_bal, ytr_bal = sampler.fit_resample(Xtr, ytr)\n",
    "else:\n",
    "    xtr_bal, ytr_bal = Xtr, ytr"
   ]
  },
  {
   "cell_type": "markdown",
   "id": "6a61c50b",
   "metadata": {
    "id": "6a61c50b"
   },
   "source": [
    "PCA\n"
   ]
  },
  {
   "cell_type": "code",
   "execution_count": 54,
   "id": "e032b23d",
   "metadata": {
    "colab": {
     "base_uri": "https://localhost:8080/"
    },
    "id": "e032b23d",
    "outputId": "bfdfb034-965a-4396-8389-5e6ecc27945f"
   },
   "outputs": [
    {
     "name": "stdout",
     "output_type": "stream",
     "text": [
      "Componentes retenidos:  5\n",
      "Varianza acomulada:  0.9809\n"
     ]
    }
   ],
   "source": [
    "from sklearn.decomposition import PCA\n",
    "pca = PCA(n_components=0.95, random_state=42)\n",
    "xtr_pca= pca.fit_transform(xtr_bal)\n",
    "xte_pca = pca.fit_transform(Xte)\n",
    "print(\"Componentes retenidos: \", pca.n_components_)\n",
    "print(\"Varianza acomulada: \", pca.explained_variance_ratio_.sum().round(4))"
   ]
  },
  {
   "cell_type": "markdown",
   "id": "oLti2hP4BjcQ",
   "metadata": {
    "id": "oLti2hP4BjcQ"
   },
   "source": [
    "# Taller 3: Minería de Datos\n"
   ]
  },
  {
   "cell_type": "code",
   "execution_count": 55,
   "id": "P_aWP0xuNZjv",
   "metadata": {
    "id": "P_aWP0xuNZjv"
   },
   "outputs": [],
   "source": [
    "sc_pc = StandardScaler()\n",
    "xtr_pca_sc = sc_pc.fit_transform(xtr_pca)\n",
    "xte_pca_sc = sc_pc.fit_transform(xte_pca)"
   ]
  },
  {
   "cell_type": "code",
   "execution_count": 56,
   "id": "YLdL9e-XBn-d",
   "metadata": {
    "id": "YLdL9e-XBn-d"
   },
   "outputs": [],
   "source": [
    "from sklearn.neural_network import MLPClassifier\n",
    "from sklearn.metrics import accuracy_score, confusion_matrix, classification_report"
   ]
  },
  {
   "cell_type": "code",
   "execution_count": 57,
   "id": "jB8kmT8ULO7f",
   "metadata": {
    "colab": {
     "base_uri": "https://localhost:8080/"
    },
    "id": "jB8kmT8ULO7f",
    "outputId": "3e518d66-186e-49d1-8325-05a7565681e3"
   },
   "outputs": [
    {
     "name": "stdout",
     "output_type": "stream",
     "text": [
      "Accuracy:  0.7560975609756098\n"
     ]
    }
   ],
   "source": [
    "mlp = MLPClassifier(\n",
    "    hidden_layer_sizes=(32,16),\n",
    "    alpha = 1e-3, #Alpha -> 0,001 ; Descenso del gradiente busca el punto más bajo\n",
    "    max_iter=500,\n",
    "    activation=\"relu\", # Funcion de activacion de la reurona;\n",
    "    #elige la forma que va a tener cada neurona ; tangentehiperbolica\n",
    "    random_state=42,\n",
    "    early_stopping=True, #Si no varía mucho entre iteraciones, lo detiene.\n",
    ")\n",
    "\n",
    "mlp.fit(Xtr, ytr)\n",
    "y_pred = mlp.predict(Xte)\n",
    "\n",
    "print(\"Accuracy: \", accuracy_score(yte, y_pred))"
   ]
  },
  {
   "cell_type": "markdown",
   "id": "FP9t1dwILLzU",
   "metadata": {
    "id": "FP9t1dwILLzU"
   },
   "source": [
    "# Taller 4: Árbol de desición\n"
   ]
  },
  {
   "cell_type": "code",
   "execution_count": 9,
   "id": "65c1507e",
   "metadata": {},
   "outputs": [
    {
     "name": "stdout",
     "output_type": "stream",
     "text": [
      "claseDeuda\n",
      "0    0.747525\n",
      "1    0.252475\n",
      "Name: proportion, dtype: float64\n",
      "Accuracy:  0.6585365853658537\n",
      "              precision    recall  f1-score   support\n",
      "\n",
      "   DeudaBaja       0.81      0.71      0.76        31\n",
      "   DeudaAlta       0.36      0.50      0.42        10\n",
      "\n",
      "    accuracy                           0.66        41\n",
      "   macro avg       0.59      0.60      0.59        41\n",
      "weighted avg       0.70      0.66      0.68        41\n",
      "\n",
      "\n",
      "Sensibilidad (detecta DeudaAlta): 50.00%\n",
      "Especificidad (detecta DeudaBaja): 70.97%\n",
      "Reglas del Árbol de Decisión:\n",
      "\n",
      "|--- IngresoMensual <= 828401.00\n",
      "|   |--- IngresoMensual <= 138014.00\n",
      "|   |   |--- Edad <= 57.00\n",
      "|   |   |   |--- Edad <= 47.00\n",
      "|   |   |   |   |--- class: 1\n",
      "|   |   |   |--- Edad >  47.00\n",
      "|   |   |   |   |--- class: 0\n",
      "|   |   |--- Edad >  57.00\n",
      "|   |   |   |--- Edad <= 67.50\n",
      "|   |   |   |   |--- class: 1\n",
      "|   |   |   |--- Edad >  67.50\n",
      "|   |   |   |   |--- IngresoMensual <= 110951.06\n",
      "|   |   |   |   |   |--- class: 0\n",
      "|   |   |   |   |--- IngresoMensual >  110951.06\n",
      "|   |   |   |   |   |--- class: 1\n",
      "|   |--- IngresoMensual >  138014.00\n",
      "|   |   |--- IngresoMensual <= 672285.50\n",
      "|   |   |   |--- IngresoMensual <= 480925.00\n",
      "|   |   |   |   |--- class: 0\n",
      "|   |   |   |--- IngresoMensual >  480925.00\n",
      "|   |   |   |   |--- Edad <= 52.50\n",
      "|   |   |   |   |   |--- IngresoMensual <= 622388.00\n",
      "|   |   |   |   |   |   |--- class: 0\n",
      "|   |   |   |   |   |--- IngresoMensual >  622388.00\n",
      "|   |   |   |   |   |   |--- class: 1\n",
      "|   |   |   |   |--- Edad >  52.50\n",
      "|   |   |   |   |   |--- Edad <= 61.50\n",
      "|   |   |   |   |   |   |--- class: 1\n",
      "|   |   |   |   |   |--- Edad >  61.50\n",
      "|   |   |   |   |   |   |--- class: 0\n",
      "|   |   |--- IngresoMensual >  672285.50\n",
      "|   |   |   |--- Edad <= 42.50\n",
      "|   |   |   |   |--- Edad <= 37.50\n",
      "|   |   |   |   |   |--- Edad <= 22.00\n",
      "|   |   |   |   |   |   |--- class: 0\n",
      "|   |   |   |   |   |--- Edad >  22.00\n",
      "|   |   |   |   |   |   |--- class: 0\n",
      "|   |   |   |   |--- Edad >  37.50\n",
      "|   |   |   |   |   |--- IngresoMensual <= 804004.16\n",
      "|   |   |   |   |   |   |--- class: 1\n",
      "|   |   |   |   |   |--- IngresoMensual >  804004.16\n",
      "|   |   |   |   |   |   |--- class: 0\n",
      "|   |   |   |--- Edad >  42.50\n",
      "|   |   |   |   |--- class: 0\n",
      "|--- IngresoMensual >  828401.00\n",
      "|   |--- Edad <= 71.50\n",
      "|   |   |--- IngresoMensual <= 943096.47\n",
      "|   |   |   |--- Edad <= 20.00\n",
      "|   |   |   |   |--- class: 0\n",
      "|   |   |   |--- Edad >  20.00\n",
      "|   |   |   |   |--- Edad <= 46.50\n",
      "|   |   |   |   |   |--- Edad <= 35.00\n",
      "|   |   |   |   |   |   |--- class: 1\n",
      "|   |   |   |   |   |--- Edad >  35.00\n",
      "|   |   |   |   |   |   |--- class: 1\n",
      "|   |   |   |   |--- Edad >  46.50\n",
      "|   |   |   |   |   |--- IngresoMensual <= 895495.34\n",
      "|   |   |   |   |   |   |--- class: 1\n",
      "|   |   |   |   |   |--- IngresoMensual >  895495.34\n",
      "|   |   |   |   |   |   |--- class: 0\n",
      "|   |   |--- IngresoMensual >  943096.47\n",
      "|   |   |   |--- Edad <= 43.50\n",
      "|   |   |   |   |--- IngresoMensual <= 1389082.00\n",
      "|   |   |   |   |   |--- IngresoMensual <= 989712.12\n",
      "|   |   |   |   |   |   |--- class: 1\n",
      "|   |   |   |   |   |--- IngresoMensual >  989712.12\n",
      "|   |   |   |   |   |   |--- class: 0\n",
      "|   |   |   |   |--- IngresoMensual >  1389082.00\n",
      "|   |   |   |   |   |--- class: 1\n",
      "|   |   |   |--- Edad >  43.50\n",
      "|   |   |   |   |--- IngresoMensual <= 982150.00\n",
      "|   |   |   |   |   |--- class: 0\n",
      "|   |   |   |   |--- IngresoMensual >  982150.00\n",
      "|   |   |   |   |   |--- IngresoMensual <= 1224369.88\n",
      "|   |   |   |   |   |   |--- class: 1\n",
      "|   |   |   |   |   |--- IngresoMensual >  1224369.88\n",
      "|   |   |   |   |   |   |--- class: 1\n",
      "|   |--- Edad >  71.50\n",
      "|   |   |--- Edad <= 75.50\n",
      "|   |   |   |--- class: 0\n",
      "|   |   |--- Edad >  75.50\n",
      "|   |   |   |--- IngresoMensual <= 922291.50\n",
      "|   |   |   |   |--- class: 0\n",
      "|   |   |   |--- IngresoMensual >  922291.50\n",
      "|   |   |   |   |--- IngresoMensual <= 1022136.50\n",
      "|   |   |   |   |   |--- class: 1\n",
      "|   |   |   |   |--- IngresoMensual >  1022136.50\n",
      "|   |   |   |   |   |--- class: 0\n",
      "\n"
     ]
    },
    {
     "name": "stderr",
     "output_type": "stream",
     "text": [
      "C:\\Users\\nicol\\AppData\\Local\\Temp\\ipykernel_22092\\2011715846.py:11: FutureWarning: A value is trying to be set on a copy of a DataFrame or Series through chained assignment using an inplace method.\n",
      "The behavior will change in pandas 3.0. This inplace method will never work because the intermediate object on which we are setting values always behaves as a copy.\n",
      "\n",
      "For example, when doing 'df[col].method(value, inplace=True)', try using 'df.method({col: value}, inplace=True)' or df[col] = df[col].method(value) instead, to perform the operation inplace on the original object.\n",
      "\n",
      "\n",
      "  dfNormal['IngresoMensual'].fillna(dfNormal['IngresoMensual'].mean(), inplace=True)\n",
      "C:\\Users\\nicol\\AppData\\Local\\Temp\\ipykernel_22092\\2011715846.py:12: FutureWarning: A value is trying to be set on a copy of a DataFrame or Series through chained assignment using an inplace method.\n",
      "The behavior will change in pandas 3.0. This inplace method will never work because the intermediate object on which we are setting values always behaves as a copy.\n",
      "\n",
      "For example, when doing 'df[col].method(value, inplace=True)', try using 'df.method({col: value}, inplace=True)' or df[col] = df[col].method(value) instead, to perform the operation inplace on the original object.\n",
      "\n",
      "\n",
      "  dfNormal['Genero'].fillna(dfNormal['Genero'].mode()[0], inplace=True)\n"
     ]
    }
   ],
   "source": [
    "from sklearn.tree import DecisionTreeClassifier, plot_tree\n",
    "from sklearn.metrics import accuracy_score, confusion_matrix, classification_report\n",
    "from sklearn.model_selection import train_test_split\n",
    "import pandas as pd\n",
    "import numpy as np\n",
    "import matplotlib.pyplot as plt\n",
    "from imblearn.over_sampling import SMOTE\n",
    "\n",
    "dfNormal = pd.read_csv('clientes_integrador.csv', sep=';')\n",
    "\n",
    "dfNormal['IngresoMensual'].fillna(dfNormal['IngresoMensual'].mean(), inplace=True)\n",
    "dfNormal['Genero'].fillna(dfNormal['Genero'].mode()[0], inplace=True)\n",
    "\n",
    "Q1 = dfNormal['Deuda'].quantile(0.25)\n",
    "Q3 = dfNormal['Deuda'].quantile(0.75)\n",
    "IQR = Q3 - Q1\n",
    "dfNormalSinOutliers = dfNormal[(dfNormal['Deuda'] >= Q1 - 1.5 * IQR) & (dfNormal['Deuda'] <= Q3 + 1.5 * IQR)].copy()\n",
    "\n",
    "umbralDeuda = dfNormalSinOutliers['Deuda'].quantile(0.75) #75 percentil de Deuda\n",
    "dfNormalSinOutliers['claseDeuda'] = np.where(dfNormalSinOutliers['Deuda'] > umbralDeuda, 1, 0) #1 si es mayor al umbral, 0 si no\n",
    "\n",
    "print(dfNormalSinOutliers['claseDeuda'].value_counts(normalize=True)) #Proporcion de cada clase\n",
    "\n",
    "X = dfNormalSinOutliers[['Edad', 'IngresoMensual']]\n",
    "y = dfNormalSinOutliers['claseDeuda']\n",
    "\n",
    "\n",
    "Xtr, Xte, ytr, yte = train_test_split(\n",
    "    X, y, test_size=0.20, random_state=42, stratify=y\n",
    ")\n",
    "\n",
    "smote = SMOTE(random_state=42, k_neighbors=3)\n",
    "Xtr_smote, ytr_smote = smote.fit_resample(Xtr, ytr)\n",
    "\n",
    "arbol = DecisionTreeClassifier(\n",
    "    random_state=42,\n",
    "    max_depth=6,\n",
    "    class_weight='balanced'\n",
    ")\n",
    "arbol.fit(Xtr_smote, ytr_smote)\n",
    "y_pred = arbol.predict(Xte)\n",
    "\n",
    "print(\"Accuracy: \", accuracy_score(yte, y_pred))\n",
    "print(classification_report(yte, y_pred, target_names=['DeudaBaja', 'DeudaAlta']))\n",
    "\n",
    "tn, fp, fn, tp = confusion_matrix(yte, y_pred).ravel()\n",
    "sensibilidad = tp / (tp + fn) if (tp + fn) > 0 else 0\n",
    "especificidad = tn / (tn + fp) if (tn + fp) > 0 else 0\n",
    "print(f\"\\nSensibilidad (detecta DeudaAlta): {sensibilidad:.2%}\")\n",
    "print(f\"Especificidad (detecta DeudaBaja): {especificidad:.2%}\")\n",
    "\n",
    "# plt.figure(figsize=(14, 8))\n",
    "# plot_tree(\n",
    "#     arbol,\n",
    "#     feature_names=['Edad', 'IngresoMensual'],\n",
    "#     class_names=['DeudaBaja', 'DeudaAlta'],\n",
    "#     filled=True,\n",
    "#     rounded=True,\n",
    "#     fontsize=11\n",
    "# )\n",
    "# plt.show()\n",
    "\n",
    "from sklearn.tree import export_text\n",
    "arbol_rules = export_text(arbol, feature_names=['Edad', 'IngresoMensual'])\n",
    "print(\"Reglas del Árbol de Decisión:\\n\")\n",
    "print(arbol_rules)"
   ]
  },
  {
   "cell_type": "code",
   "execution_count": null,
   "id": "1848e56a",
   "metadata": {},
   "outputs": [],
   "source": [
    "# ============================================================================\n",
    "# ÁRBOL DE DECISIÓN - CLASIFICACIÓN DE DEUDA\n",
    "# ============================================================================\n",
    "\n",
    "# Librerías\n",
    "from sklearn.tree import DecisionTreeClassifier, plot_tree, export_text\n",
    "from sklearn import tree\n",
    "import matplotlib.pyplot as plt\n",
    "import pandas as pd\n",
    "import numpy as np\n",
    "from sklearn.model_selection import train_test_split\n",
    "from sklearn.metrics import classification_report, confusion_matrix, accuracy_score\n",
    "from sklearn.metrics import recall_score, precision_score, f1_score\n",
    "from imblearn.over_sampling import RandomOverSampler, SMOTE\n",
    "\n",
    "# ============================================================================\n",
    "# 1. CARGA Y EXPLORACIÓN INICIAL\n",
    "# ============================================================================\n",
    "print(\"=\"*70)\n",
    "print(\"PASO 1: CARGA DE DATOS\")\n",
    "print(\"=\"*70)\n",
    "\n",
    "dfNormal = pd.read_csv('clientes_integrador.csv', sep=';')\n",
    "\n",
    "print(f\"Total de registros: {len(dfNormal)}\")\n",
    "print(f\"\\nColumnas: {dfNormal.columns.tolist()}\")\n",
    "print(f\"\\nValores nulos:\")\n",
    "print(dfNormal.isnull().sum())\n",
    "\n",
    "# ============================================================================\n",
    "# 2. LIMPIEZA DE DATOS\n",
    "# ============================================================================\n",
    "print(\"\\n\" + \"=\"*70)\n",
    "print(\"PASO 2: LIMPIEZA DE DATOS\")\n",
    "print(\"=\"*70)\n",
    "\n",
    "# Imputar valores faltantes\n",
    "dfNormal['IngresoMensual'].fillna(dfNormal['IngresoMensual'].mean(), inplace=True)\n",
    "dfNormal['Genero'].fillna(dfNormal['Genero'].mode()[0], inplace=True)\n",
    "\n",
    "print(\"✓ Valores nulos imputados\")\n",
    "\n",
    "# Eliminar outliers en Deuda\n",
    "Q1 = dfNormal['Deuda'].quantile(0.25)\n",
    "Q3 = dfNormal['Deuda'].quantile(0.75)\n",
    "IQR = Q3 - Q1\n",
    "\n",
    "print(f\"\\nDetección de outliers en Deuda:\")\n",
    "print(f\"  Q1: ${Q1:,.0f}\")\n",
    "print(f\"  Q3: ${Q3:,.0f}\")\n",
    "print(f\"  IQR: ${IQR:,.0f}\")\n",
    "\n",
    "outliers = dfNormal[(dfNormal['Deuda'] < Q1 - 1.5*IQR) | (dfNormal['Deuda'] > Q3 + 1.5*IQR)]\n",
    "print(f\"  Outliers detectados: {len(outliers)} ({len(outliers)/len(dfNormal)*100:.1f}%)\")\n",
    "\n",
    "# Eliminar outliers\n",
    "df_sinOutliers = dfNormal[(dfNormal['Deuda'] >= Q1 - 1.5*IQR) & \n",
    "                           (dfNormal['Deuda'] <= Q3 + 1.5*IQR)].copy()\n",
    "\n",
    "print(f\"✓ Registros después de limpiar: {len(df_sinOutliers)}\")\n",
    "\n",
    "# ============================================================================\n",
    "# 3. CREACIÓN DE VARIABLE OBJETIVO\n",
    "# ============================================================================\n",
    "print(\"\\n\" + \"=\"*70)\n",
    "print(\"PASO 3: CREACIÓN DE VARIABLE OBJETIVO\")\n",
    "print(\"=\"*70)\n",
    "\n",
    "umbralDeuda = df_sinOutliers['Deuda'].quantile(0.75)\n",
    "df_sinOutliers['claseDeuda'] = np.where(df_sinOutliers['Deuda'] > umbralDeuda, 1, 0)\n",
    "\n",
    "print(f\"Umbral de deuda (Percentil 75): ${umbralDeuda:,.0f}\")\n",
    "print(f\"\\nDistribución de clases:\")\n",
    "print(df_sinOutliers['claseDeuda'].value_counts())\n",
    "print(f\"\\nProporción:\")\n",
    "print(df_sinOutliers['claseDeuda'].value_counts(normalize=True))\n",
    "\n",
    "# ============================================================================\n",
    "# 4. PREPARACIÓN DE DATOS (SOLO VARIABLES NUMÉRICAS)\n",
    "# ============================================================================\n",
    "print(\"\\n\" + \"=\"*70)\n",
    "print(\"PASO 4: PREPARACIÓN DE DATOS\")\n",
    "print(\"=\"*70)\n",
    "\n",
    "# Seleccionar solo Edad e IngresoMensual (sin Ciudad ni Género)\n",
    "X = df_sinOutliers[['Edad', 'IngresoMensual']].copy()\n",
    "y = df_sinOutliers['claseDeuda'].copy()\n",
    "\n",
    "print(f\"Features seleccionadas: {X.columns.tolist()}\")\n",
    "print(f\"Shape de X: {X.shape}\")\n",
    "print(f\"Shape de y: {y.shape}\")\n",
    "\n",
    "# ============================================================================\n",
    "# 5. SPLIT DE DATOS\n",
    "# ============================================================================\n",
    "print(\"\\n\" + \"=\"*70)\n",
    "print(\"PASO 5: SPLIT DE DATOS\")\n",
    "print(\"=\"*70)\n",
    "\n",
    "Xtr, Xte, ytr, yte = train_test_split(\n",
    "    X, y, \n",
    "    test_size=0.20, \n",
    "    random_state=42, \n",
    "    stratify=y\n",
    ")\n",
    "\n",
    "print(f\"Total de datos: {len(X)}\")\n",
    "print(f\"Train: {len(Xtr)} ({len(Xtr)/len(X)*100:.1f}%)\")\n",
    "print(f\"Test: {len(Xte)} ({len(Xte)/len(X)*100:.1f}%)\")\n",
    "print(f\"\\nDistribución en Train:\")\n",
    "print(ytr.value_counts())\n",
    "print(f\"\\nDistribución en Test:\")\n",
    "print(yte.value_counts())\n",
    "\n",
    "# ============================================================================\n",
    "# 6. COMPARACIÓN: RandomOverSampler vs SMOTE\n",
    "# ============================================================================\n",
    "print(\"\\n\" + \"=\"*70)\n",
    "print(\"PASO 6: COMPARACIÓN DE TÉCNICAS DE BALANCEO\")\n",
    "print(\"=\"*70)\n",
    "\n",
    "resultados_balanceo = []\n",
    "\n",
    "# ----- OPCIÓN A: RandomOverSampler -----\n",
    "print(\"\\n🔵 Opción A: RandomOverSampler\")\n",
    "print(\"-\"*70)\n",
    "\n",
    "ros = RandomOverSampler(random_state=42)\n",
    "Xtr_ros, ytr_ros = ros.fit_resample(Xtr, ytr)\n",
    "\n",
    "print(f\"Datos después de ROS: {len(Xtr_ros)}\")\n",
    "print(f\"Distribución: {pd.Series(ytr_ros).value_counts().to_dict()}\")\n",
    "\n",
    "dtc_ros = DecisionTreeClassifier(\n",
    "    random_state=42, \n",
    "    max_depth=3, \n",
    "    min_samples_split=20, \n",
    "    min_samples_leaf=10, \n",
    "    class_weight='balanced'\n",
    ")\n",
    "dtc_ros.fit(Xtr_ros, ytr_ros)\n",
    "y_pred_ros = dtc_ros.predict(Xte)\n",
    "\n",
    "acc_ros = accuracy_score(yte, y_pred_ros)\n",
    "recall_ros = recall_score(yte, y_pred_ros, pos_label=1)\n",
    "precision_ros = precision_score(yte, y_pred_ros, pos_label=1, zero_division=0)\n",
    "f1_ros = f1_score(yte, y_pred_ros, pos_label=1, zero_division=0)\n",
    "\n",
    "print(f\"Accuracy Test: {acc_ros:.4f}\")\n",
    "print(f\"Recall DeudaAlta: {recall_ros:.4f}\")\n",
    "print(f\"F1-Score DeudaAlta: {f1_ros:.4f}\")\n",
    "\n",
    "resultados_balanceo.append({\n",
    "    'Método': 'RandomOverSampler',\n",
    "    'Accuracy': acc_ros,\n",
    "    'Recall_DeudaAlta': recall_ros,\n",
    "    'Precision_DeudaAlta': precision_ros,\n",
    "    'F1_DeudaAlta': f1_ros\n",
    "})\n",
    "\n",
    "# ----- OPCIÓN B: SMOTE -----\n",
    "print(\"\\n🟢 Opción B: SMOTE\")\n",
    "print(\"-\"*70)\n",
    "\n",
    "smote = SMOTE(random_state=42, k_neighbors=3)\n",
    "Xtr_smote, ytr_smote = smote.fit_resample(Xtr, ytr)\n",
    "\n",
    "print(f\"Datos después de SMOTE: {len(Xtr_smote)}\")\n",
    "print(f\"Distribución: {pd.Series(ytr_smote).value_counts().to_dict()}\")\n",
    "\n",
    "dtc_smote = DecisionTreeClassifier(\n",
    "    random_state=42, \n",
    "    max_depth=3, \n",
    "    min_samples_split=20,\n",
    "    min_samples_leaf=10, \n",
    "    class_weight='balanced'\n",
    ")\n",
    "dtc_smote.fit(Xtr_smote, ytr_smote)\n",
    "y_pred_smote = dtc_smote.predict(Xte)\n",
    "\n",
    "acc_smote = accuracy_score(yte, y_pred_smote)\n",
    "recall_smote = recall_score(yte, y_pred_smote, pos_label=1)\n",
    "precision_smote = precision_score(yte, y_pred_smote, pos_label=1, zero_division=0)\n",
    "f1_smote = f1_score(yte, y_pred_smote, pos_label=1, zero_division=0)\n",
    "\n",
    "print(f\"Accuracy Test: {acc_smote:.4f}\")\n",
    "print(f\"Recall DeudaAlta: {recall_smote:.4f}\")\n",
    "print(f\"F1-Score DeudaAlta: {f1_smote:.4f}\")\n",
    "\n",
    "resultados_balanceo.append({\n",
    "    'Método': 'SMOTE',\n",
    "    'Accuracy': acc_smote,\n",
    "    'Recall_DeudaAlta': recall_smote,\n",
    "    'Precision_DeudaAlta': precision_smote,\n",
    "    'F1_DeudaAlta': f1_smote\n",
    "})\n",
    "\n",
    "# ----- COMPARACIÓN -----\n",
    "print(\"\\n\" + \"=\"*70)\n",
    "print(\"📊 RESUMEN COMPARATIVO\")\n",
    "print(\"=\"*70)\n",
    "\n",
    "df_resultados = pd.DataFrame(resultados_balanceo)\n",
    "print(df_resultados.to_string(index=False))\n",
    "\n",
    "mejor_idx = df_resultados['F1_DeudaAlta'].idxmax()\n",
    "mejor_metodo = df_resultados.loc[mejor_idx, 'Método']\n",
    "print(f\"\\n🏆 GANADOR: {mejor_metodo} (mejor F1-Score en DeudaAlta)\")\n",
    "\n",
    "# ============================================================================\n",
    "# 7. MODELO FINAL (con el mejor método)\n",
    "# ============================================================================\n",
    "print(\"\\n\" + \"=\"*70)\n",
    "print(\"PASO 7: MODELO FINAL\")\n",
    "print(\"=\"*70)\n",
    "\n",
    "# Usar el mejor método\n",
    "if mejor_metodo == 'SMOTE':\n",
    "    Xtr_final, ytr_final = Xtr_smote, ytr_smote\n",
    "    dtc_final = dtc_smote\n",
    "    y_pred_final = y_pred_smote\n",
    "else:\n",
    "    Xtr_final, ytr_final = Xtr_ros, ytr_ros\n",
    "    dtc_final = dtc_ros\n",
    "    y_pred_final = y_pred_ros\n",
    "\n",
    "print(f\"Método seleccionado: {mejor_metodo}\")\n",
    "\n",
    "# Evaluación completa\n",
    "print(\"\\n--- Reporte de Clasificación (TEST) ---\")\n",
    "print(classification_report(yte, y_pred_final, target_names=['DeudaBaja', 'DeudaAlta']))\n",
    "\n",
    "print(\"\\n--- Matriz de Confusión (TEST) ---\")\n",
    "cm = confusion_matrix(yte, y_pred_final)\n",
    "print(cm)\n",
    "\n",
    "tn, fp, fn, tp = cm.ravel()\n",
    "print(f\"\\nVerdaderos Negativos (VN): {tn}\")\n",
    "print(f\"Falsos Positivos (FP): {fp}\")\n",
    "print(f\"Falsos Negativos (FN): {fn}\")\n",
    "print(f\"Verdaderos Positivos (VP): {tp}\")\n",
    "\n",
    "sensibilidad = tp / (tp + fn) if (tp + fn) > 0 else 0\n",
    "especificidad = tn / (tn + fp) if (tn + fp) > 0 else 0\n",
    "\n",
    "print(f\"\\n📊 Sensibilidad (detecta DeudaAlta): {sensibilidad:.2%}\")\n",
    "print(f\"📊 Especificidad (detecta DeudaBaja): {especificidad:.2%}\")\n",
    "\n",
    "# ============================================================================\n",
    "# 8. IMPORTANCIA DE CARACTERÍSTICAS\n",
    "# ============================================================================\n",
    "print(\"\\n\" + \"=\"*70)\n",
    "print(\"PASO 8: IMPORTANCIA DE CARACTERÍSTICAS\")\n",
    "print(\"=\"*70)\n",
    "\n",
    "for feature, importance in zip(['Edad', 'IngresoMensual'], dtc_final.feature_importances_):\n",
    "    print(f\"{feature:20s}: {importance:.4f} ({importance*100:.1f}%)\")\n",
    "\n",
    "# ============================================================================\n",
    "# 9. REGLAS DE DECISIÓN\n",
    "# ============================================================================\n",
    "print(\"\\n\" + \"=\"*70)\n",
    "print(\"PASO 9: REGLAS DE DECISIÓN DEL ÁRBOL\")\n",
    "print(\"=\"*70)\n",
    "\n",
    "tree_rules = export_text(dtc_final, feature_names=['Edad', 'IngresoMensual'])\n",
    "print(tree_rules)\n",
    "\n",
    "# ============================================================================\n",
    "# 10. VISUALIZACIÓN DEL ÁRBOL\n",
    "# ============================================================================\n",
    "print(\"\\n\" + \"=\"*70)\n",
    "print(\"PASO 10: VISUALIZACIÓN\")\n",
    "print(\"=\"*70)\n",
    "\n",
    "plt.figure(figsize=(20, 10))\n",
    "plot_tree(\n",
    "    dtc_final,\n",
    "    feature_names=['Edad', 'IngresoMensual'],\n",
    "    class_names=['DeudaBaja', 'DeudaAlta'],\n",
    "    filled=True,\n",
    "    rounded=True,\n",
    "    fontsize=12,\n",
    "    proportion=False\n",
    ")\n",
    "plt.title(f\"Árbol de Decisión - Clasificación de Deuda (Método: {mejor_metodo})\\n\" + \n",
    "          f\"Umbral: ${umbralDeuda:,.0f}\", \n",
    "          fontsize=16, fontweight='bold')\n",
    "plt.tight_layout()\n",
    "plt.show()\n",
    "\n",
    "print(\"\\n✅ Proceso completado\")"
   ]
  }
 ],
 "metadata": {
  "colab": {
   "provenance": []
  },
  "kernelspec": {
   "display_name": "Python 3",
   "language": "python",
   "name": "python3"
  },
  "language_info": {
   "codemirror_mode": {
    "name": "ipython",
    "version": 3
   },
   "file_extension": ".py",
   "mimetype": "text/x-python",
   "name": "python",
   "nbconvert_exporter": "python",
   "pygments_lexer": "ipython3",
   "version": "3.12.10"
  }
 },
 "nbformat": 4,
 "nbformat_minor": 5
}
