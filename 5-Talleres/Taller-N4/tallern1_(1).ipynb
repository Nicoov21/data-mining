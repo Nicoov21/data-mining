{
 "cells": [
  {
   "cell_type": "markdown",
   "id": "cc5938a8",
   "metadata": {
    "id": "cc5938a8"
   },
   "source": [
    "INTEGRANTES: Nicolas Lagos, Carlos Duran, Maximiliano Esparza, Constanza Vargas\n"
   ]
  },
  {
   "cell_type": "markdown",
   "id": "40a3f522",
   "metadata": {
    "id": "40a3f522"
   },
   "source": [
    "# Taller 1\n"
   ]
  },
  {
   "cell_type": "code",
   "execution_count": null,
   "id": "7b5d20e0",
   "metadata": {
    "id": "7b5d20e0"
   },
   "outputs": [],
   "source": [
    "import pandas as pd\n",
    "df = pd.read_csv(\"ventas_demo.csv\", sep=\";\")"
   ]
  },
  {
   "cell_type": "markdown",
   "id": "fac8923e",
   "metadata": {
    "id": "fac8923e"
   },
   "source": [
    "# BLoque 1 Limpieza de datos con pandas\n"
   ]
  },
  {
   "cell_type": "markdown",
   "id": "394ee19d",
   "metadata": {
    "id": "394ee19d"
   },
   "source": [
    "1. Carga del dataset y muestra las primeras filas\n"
   ]
  },
  {
   "cell_type": "code",
   "execution_count": null,
   "id": "57cc4318",
   "metadata": {
    "colab": {
     "base_uri": "https://localhost:8080/",
     "height": 676
    },
    "id": "57cc4318",
    "outputId": "78f576a8-d89e-4b0b-e480-d831b134fdd3"
   },
   "outputs": [],
   "source": [
    "df.head(20)\n"
   ]
  },
  {
   "cell_type": "markdown",
   "id": "7c99e0bb",
   "metadata": {
    "id": "7c99e0bb"
   },
   "source": [
    "2. Calcula la cantidad de valores nulos por columna\n"
   ]
  },
  {
   "cell_type": "code",
   "execution_count": null,
   "id": "33b67000",
   "metadata": {
    "colab": {
     "base_uri": "https://localhost:8080/",
     "height": 272
    },
    "id": "33b67000",
    "outputId": "2a97f7e0-efd5-4165-8f84-325742b4e459"
   },
   "outputs": [],
   "source": [
    "df.isna().sum().sort_values(ascending=False)"
   ]
  },
  {
   "cell_type": "markdown",
   "id": "cf2e3dde",
   "metadata": {
    "id": "cf2e3dde"
   },
   "source": [
    "3. Imputa los valores faltantes de Descuento con la mediana\n"
   ]
  },
  {
   "cell_type": "code",
   "execution_count": null,
   "id": "cd878b45",
   "metadata": {
    "colab": {
     "base_uri": "https://localhost:8080/"
    },
    "id": "cd878b45",
    "outputId": "e53de326-a7b9-4fd1-e893-dae3001a295f"
   },
   "outputs": [],
   "source": [
    "df['Descuento'].fillna(df['Descuento'].median(), inplace=True)"
   ]
  },
  {
   "cell_type": "code",
   "execution_count": null,
   "id": "a50666b5",
   "metadata": {
    "colab": {
     "base_uri": "https://localhost:8080/",
     "height": 272
    },
    "id": "a50666b5",
    "outputId": "35e41a8e-e0f9-434f-abb0-10cea04453c0"
   },
   "outputs": [],
   "source": [
    "df.isna().sum().sort_values(ascending=False)"
   ]
  },
  {
   "cell_type": "code",
   "execution_count": null,
   "id": "c4367525",
   "metadata": {
    "colab": {
     "base_uri": "https://localhost:8080/",
     "height": 676
    },
    "id": "c4367525",
    "outputId": "08d84391-04d6-4ad1-c761-c62169645403"
   },
   "outputs": [],
   "source": [
    "df.head(20)"
   ]
  },
  {
   "cell_type": "markdown",
   "id": "cfde01b8",
   "metadata": {
    "id": "cfde01b8"
   },
   "source": [
    "4. Reemplaza los nulos de Categoría con el valor más frecuente\n"
   ]
  },
  {
   "cell_type": "code",
   "execution_count": null,
   "id": "4a7b5d0f",
   "metadata": {
    "colab": {
     "base_uri": "https://localhost:8080/"
    },
    "id": "4a7b5d0f",
    "outputId": "9ece601a-771b-4f73-e400-b99f8d5c85eb"
   },
   "outputs": [],
   "source": [
    "df['Categoria'].fillna(df['Categoria'].mode()[0], inplace=True)"
   ]
  },
  {
   "cell_type": "code",
   "execution_count": null,
   "id": "70fbbf67",
   "metadata": {
    "colab": {
     "base_uri": "https://localhost:8080/",
     "height": 272
    },
    "id": "70fbbf67",
    "outputId": "c5695818-8933-45da-b868-ac897afc4af3"
   },
   "outputs": [],
   "source": [
    "df.isna().sum().sort_values(ascending=False)"
   ]
  },
  {
   "cell_type": "markdown",
   "id": "dcdda9e1",
   "metadata": {
    "id": "dcdda9e1"
   },
   "source": [
    "5. Elimina los duplicados\n"
   ]
  },
  {
   "cell_type": "code",
   "execution_count": null,
   "id": "0f3092d7",
   "metadata": {
    "colab": {
     "base_uri": "https://localhost:8080/"
    },
    "id": "0f3092d7",
    "outputId": "c0f430e1-9627-42dc-c5d8-7fa0f9012524"
   },
   "outputs": [],
   "source": [
    "df.duplicated().sum()\n"
   ]
  },
  {
   "cell_type": "code",
   "execution_count": null,
   "id": "1245c575",
   "metadata": {
    "id": "1245c575"
   },
   "outputs": [],
   "source": [
    "df=df.drop_duplicates()"
   ]
  },
  {
   "cell_type": "code",
   "execution_count": null,
   "id": "8JuZfiGQjdtC",
   "metadata": {
    "colab": {
     "base_uri": "https://localhost:8080/"
    },
    "id": "8JuZfiGQjdtC",
    "outputId": "1f4245fe-c940-4f96-c607-4c63af2d58ee"
   },
   "outputs": [],
   "source": [
    "df.duplicated().sum()\n"
   ]
  },
  {
   "cell_type": "markdown",
   "id": "e5190488",
   "metadata": {
    "id": "e5190488"
   },
   "source": [
    "6. Detecta los outliers de Precio usando el método IQR\n"
   ]
  },
  {
   "cell_type": "code",
   "execution_count": null,
   "id": "25f7c2b1",
   "metadata": {
    "id": "25f7c2b1"
   },
   "outputs": [],
   "source": [
    "Q1 = df['Precio'].quantile(0.25)\n",
    "Q3 = df['Precio'].quantile(0.75)\n",
    "IQR = Q3 - Q1\n",
    "Outliers = df[(df['Precio'] < Q1 - 1.5 * IQR) | (df['Precio'] > Q3 + 1.5 * IQR)]"
   ]
  },
  {
   "cell_type": "markdown",
   "id": "8cebbaeb",
   "metadata": {
    "id": "8cebbaeb"
   },
   "source": [
    "7. Indica cuántos outliers fueron detectados (solo número, no análisis)\n"
   ]
  },
  {
   "cell_type": "code",
   "execution_count": null,
   "id": "333a03b3",
   "metadata": {
    "colab": {
     "base_uri": "https://localhost:8080/"
    },
    "id": "333a03b3",
    "outputId": "90c48ff2-eb02-4898-9734-bcd0c4726541"
   },
   "outputs": [],
   "source": [
    "Outliers.shape[0] #Outliers de Precio"
   ]
  },
  {
   "cell_type": "markdown",
   "id": "08737de5",
   "metadata": {
    "id": "08737de5"
   },
   "source": [
    "# Bloque 2 Preprocesamiento y Probabilidad\n"
   ]
  },
  {
   "cell_type": "code",
   "execution_count": null,
   "id": "3ea36a86",
   "metadata": {
    "id": "3ea36a86"
   },
   "outputs": [],
   "source": [
    "import pandas as pd\n",
    "df2 = pd.read_csv(\"productos_demo.csv\", sep=\";\")"
   ]
  },
  {
   "cell_type": "code",
   "execution_count": null,
   "id": "7923626c",
   "metadata": {
    "colab": {
     "base_uri": "https://localhost:8080/",
     "height": 209
    },
    "id": "7923626c",
    "outputId": "3658f16b-0d4c-4211-c4b0-efc069bd4c93"
   },
   "outputs": [],
   "source": [
    "df2.isna().sum().sort_values(ascending=False)"
   ]
  },
  {
   "cell_type": "code",
   "execution_count": null,
   "id": "42ddf8ae",
   "metadata": {
    "colab": {
     "base_uri": "https://localhost:8080/"
    },
    "id": "42ddf8ae",
    "outputId": "4a5bb186-da5f-4180-8460-a834e442bbae"
   },
   "outputs": [],
   "source": [
    "df2['Categoria'].fillna(df2['Categoria'].mode()[0], inplace=True)\n",
    "df2['Proveedor'].fillna(df2['Proveedor'].mode()[0], inplace=True)"
   ]
  },
  {
   "cell_type": "code",
   "execution_count": null,
   "id": "Gv_IOkh4G_j1",
   "metadata": {
    "colab": {
     "base_uri": "https://localhost:8080/",
     "height": 209
    },
    "id": "Gv_IOkh4G_j1",
    "outputId": "0aebb0e4-1aa9-4aad-aec9-a7e9cad4173b"
   },
   "outputs": [],
   "source": [
    "df2.isna().sum().sort_values(ascending=False)"
   ]
  },
  {
   "cell_type": "markdown",
   "id": "76e84beb",
   "metadata": {
    "id": "76e84beb"
   },
   "source": [
    "1.  Normaliza las columnas númericas (Precio, Stock) con MinMaxScaler\n"
   ]
  },
  {
   "cell_type": "code",
   "execution_count": null,
   "id": "67445443",
   "metadata": {
    "id": "67445443"
   },
   "outputs": [],
   "source": [
    "from sklearn.preprocessing import MinMaxScaler\n",
    "\n",
    "scalerMM = MinMaxScaler()\n",
    "df2[['Precio', 'Stock']] = scalerMM.fit_transform(df2[['Precio', 'Stock']])"
   ]
  },
  {
   "cell_type": "code",
   "execution_count": null,
   "id": "eb0ee444",
   "metadata": {
    "colab": {
     "base_uri": "https://localhost:8080/",
     "height": 423
    },
    "id": "eb0ee444",
    "outputId": "f8ef16f4-6e47-4469-f7cc-6362c427d0a1"
   },
   "outputs": [],
   "source": [
    "df2[['Precio', 'Stock']]"
   ]
  },
  {
   "cell_type": "code",
   "execution_count": null,
   "id": "18848502",
   "metadata": {
    "colab": {
     "base_uri": "https://localhost:8080/",
     "height": 441
    },
    "id": "18848502",
    "outputId": "a22642d9-2d0c-495e-818d-40d35a401d7c"
   },
   "outputs": [],
   "source": [
    "df2"
   ]
  },
  {
   "cell_type": "markdown",
   "id": "f08f4b3b",
   "metadata": {
    "id": "f08f4b3b"
   },
   "source": [
    "4.Calcula la probabilidad conjunta de de que Stock > 50 y Precio > 10000\n"
   ]
  },
  {
   "cell_type": "code",
   "execution_count": null,
   "id": "54d334db",
   "metadata": {
    "colab": {
     "base_uri": "https://localhost:8080/"
    },
    "id": "54d334db",
    "outputId": "a022cda9-424a-4a6f-de78-eed3fa8acc79"
   },
   "outputs": [],
   "source": [
    "totalStock = len(df2['Stock'])\n",
    "favorables = ((df2['Stock'] > 50) & (df2['Precio'] > 10000)).sum()\n",
    "pEmpirica = (favorables/totalStock)\n",
    "print(f\"{pEmpirica:.2f}\")"
   ]
  },
  {
   "cell_type": "markdown",
   "id": "c6b7112f",
   "metadata": {
    "id": "c6b7112f"
   },
   "source": [
    "# Bloque 3 Mini Desafío Integrador\n"
   ]
  },
  {
   "cell_type": "code",
   "execution_count": null,
   "id": "3f64dacb",
   "metadata": {
    "id": "3f64dacb"
   },
   "outputs": [],
   "source": [
    "import pandas as pd\n",
    "df3 = pd.read_csv('clientes_integrador.csv', sep=';')"
   ]
  },
  {
   "cell_type": "code",
   "execution_count": null,
   "id": "e0c411c1",
   "metadata": {
    "colab": {
     "base_uri": "https://localhost:8080/",
     "height": 676
    },
    "id": "e0c411c1",
    "outputId": "1c148c64-f997-4e2d-cb03-72aec81e8068"
   },
   "outputs": [],
   "source": [
    "df3.head(20)"
   ]
  },
  {
   "cell_type": "markdown",
   "id": "48dbbf4f",
   "metadata": {
    "id": "48dbbf4f"
   },
   "source": [
    "1.Limpia los datos: elimina duplicados, imputa nulos con media/moda según corresponda.\n"
   ]
  },
  {
   "cell_type": "code",
   "execution_count": null,
   "id": "36263edd",
   "metadata": {
    "colab": {
     "base_uri": "https://localhost:8080/",
     "height": 272
    },
    "id": "36263edd",
    "outputId": "5ea2fd04-a371-457c-cf2e-c92c98884795"
   },
   "outputs": [],
   "source": [
    "df3.isna().sum().sort_values(ascending=False)"
   ]
  },
  {
   "cell_type": "code",
   "execution_count": null,
   "id": "8112c360",
   "metadata": {
    "colab": {
     "base_uri": "https://localhost:8080/"
    },
    "id": "8112c360",
    "outputId": "325142a8-a1ca-4d4c-ee63-d68e54058c29"
   },
   "outputs": [],
   "source": [
    "df3['IngresoMensual'].fillna(df3['IngresoMensual'].mean(), inplace=True)"
   ]
  },
  {
   "cell_type": "code",
   "execution_count": null,
   "id": "aa0d1d4e",
   "metadata": {
    "colab": {
     "base_uri": "https://localhost:8080/",
     "height": 272
    },
    "id": "aa0d1d4e",
    "outputId": "8a3f672a-76f5-4bef-f6d6-88380b711d37"
   },
   "outputs": [],
   "source": [
    "df3.isna().sum().sort_values(ascending=False)"
   ]
  },
  {
   "cell_type": "code",
   "execution_count": null,
   "id": "7636484b",
   "metadata": {
    "colab": {
     "base_uri": "https://localhost:8080/"
    },
    "id": "7636484b",
    "outputId": "18b8e7fc-d4de-4dc5-d94c-a67f80457075"
   },
   "outputs": [],
   "source": [
    "df3['Genero'].fillna(df3['Genero'].mode()[0], inplace=True)"
   ]
  },
  {
   "cell_type": "code",
   "execution_count": null,
   "id": "f475a47c",
   "metadata": {
    "colab": {
     "base_uri": "https://localhost:8080/",
     "height": 272
    },
    "id": "f475a47c",
    "outputId": "583be054-4c7d-4aae-e39e-d5716794485a"
   },
   "outputs": [],
   "source": [
    "df3.isna().sum().sort_values(ascending=False)"
   ]
  },
  {
   "cell_type": "code",
   "execution_count": null,
   "id": "e9269311",
   "metadata": {
    "id": "e9269311"
   },
   "outputs": [],
   "source": [
    "df3_copia = df3.copy()"
   ]
  },
  {
   "cell_type": "markdown",
   "id": "bf8eb0a3",
   "metadata": {
    "id": "bf8eb0a3"
   },
   "source": [
    "2.Normaliza las variables numéricas (Edad, IngresoMensual, Deuda) usando StandardScaler.\n"
   ]
  },
  {
   "cell_type": "code",
   "execution_count": null,
   "id": "bd2da74e",
   "metadata": {
    "id": "bd2da74e"
   },
   "outputs": [],
   "source": [
    "from sklearn.preprocessing import StandardScaler\n",
    "\n",
    "scalerMM = StandardScaler()\n",
    "df3[['Edad','IngresoMensual', 'Deuda']] = scalerMM.fit_transform(df3[['Edad','IngresoMensual', 'Deuda']])"
   ]
  },
  {
   "cell_type": "code",
   "execution_count": null,
   "id": "fc11a82e",
   "metadata": {
    "colab": {
     "base_uri": "https://localhost:8080/",
     "height": 423
    },
    "id": "fc11a82e",
    "outputId": "a1905cf6-0768-459d-d582-c763d86b9733"
   },
   "outputs": [],
   "source": [
    "df3[['Edad', 'IngresoMensual', 'Deuda']]"
   ]
  },
  {
   "cell_type": "markdown",
   "id": "47faf360",
   "metadata": {
    "id": "47faf360"
   },
   "source": [
    "3.Codifica las variables categóricas (Ciudad, Genero) con OneHotEncoder.\n"
   ]
  },
  {
   "cell_type": "code",
   "execution_count": null,
   "id": "fd05442e",
   "metadata": {
    "id": "fd05442e"
   },
   "outputs": [],
   "source": [
    "from sklearn.preprocessing import OneHotEncoder\n",
    "OHE = OneHotEncoder(sparse_output=False)\n",
    "encoded2 = OHE.fit_transform(df3[['Ciudad', 'Genero']])\n",
    "df_encoded2 = pd.DataFrame(encoded2, columns=OHE.get_feature_names_out(['Ciudad', 'Genero']))\n",
    "df3 = pd.concat([df3, df_encoded2], axis=1)"
   ]
  },
  {
   "cell_type": "code",
   "execution_count": null,
   "id": "c05dcd15",
   "metadata": {
    "id": "c05dcd15"
   },
   "outputs": [],
   "source": [
    "df3 = df3.drop(columns=['Ciudad', 'Genero'])"
   ]
  },
  {
   "cell_type": "code",
   "execution_count": null,
   "id": "62c483c2",
   "metadata": {
    "colab": {
     "base_uri": "https://localhost:8080/",
     "height": 441
    },
    "id": "62c483c2",
    "outputId": "bd6ec0ee-6a80-4018-9b0c-e2665bd9de66"
   },
   "outputs": [],
   "source": [
    "df3"
   ]
  },
  {
   "cell_type": "markdown",
   "id": "cf3d955a",
   "metadata": {
    "id": "cf3d955a"
   },
   "source": [
    "4.a. La probabilidad de que un cliente tenga IngresoMensual > 800000.\n"
   ]
  },
  {
   "cell_type": "code",
   "execution_count": null,
   "id": "fe78a56b",
   "metadata": {
    "colab": {
     "base_uri": "https://localhost:8080/"
    },
    "id": "fe78a56b",
    "outputId": "06d3e97f-3b76-4a41-9e06-b988857d9a93"
   },
   "outputs": [],
   "source": [
    "import pandas as pd\n",
    "df3_copia = pd.read_csv('clientes_integrador.csv', sep=';')\n",
    "totalStock = len(df3_copia['IngresoMensual'])\n",
    "favorables = (df3_copia['IngresoMensual'] > 800000).sum()\n",
    "pEmpirica = (favorables/totalStock)\n",
    "print(f\"{pEmpirica:.2f}\")"
   ]
  },
  {
   "cell_type": "markdown",
   "id": "c08ffeda",
   "metadata": {
    "id": "c08ffeda"
   },
   "source": [
    "4.b. La probabilidad conjunta de que IngresoMensual > 800000 y Deuda < 200000.\n"
   ]
  },
  {
   "cell_type": "code",
   "execution_count": null,
   "id": "a0f09915",
   "metadata": {
    "colab": {
     "base_uri": "https://localhost:8080/"
    },
    "id": "a0f09915",
    "outputId": "81530757-ac89-4902-efbc-8b2b6d37c450"
   },
   "outputs": [],
   "source": [
    "favorables = ((df3_copia['IngresoMensual'] > 800000 ) & (df3_copia['Deuda'] < 200000)).sum()\n",
    "totalStock = len(df3_copia['IngresoMensual'])\n",
    "pEmpirica = favorables / totalStock\n",
    "print(f\"{pEmpirica:.2f}\")"
   ]
  },
  {
   "cell_type": "markdown",
   "id": "f324dde1",
   "metadata": {
    "id": "f324dde1"
   },
   "source": [
    "5.Exporta el dataset final limpio y transformado a clientes_integrador_limpio.csv.\n"
   ]
  },
  {
   "cell_type": "code",
   "execution_count": null,
   "id": "86f4efd2",
   "metadata": {
    "id": "86f4efd2"
   },
   "outputs": [],
   "source": [
    "df3.to_csv('clientes_integrador_limpio.csv', sep=';', index=False, encoding='utf-8')"
   ]
  },
  {
   "cell_type": "markdown",
   "id": "be52ea07",
   "metadata": {
    "id": "be52ea07"
   },
   "source": [
    "# TALLER 2\n"
   ]
  },
  {
   "cell_type": "code",
   "execution_count": null,
   "id": "4fff5923",
   "metadata": {
    "id": "4fff5923"
   },
   "outputs": [],
   "source": [
    "import pandas as pd\n",
    "df_l = pd.read_csv('clientes_integrador_limpio.csv', sep=';', encoding=\"UTF-8\")"
   ]
  },
  {
   "cell_type": "markdown",
   "id": "d893d600",
   "metadata": {
    "id": "d893d600"
   },
   "source": [
    "PORCENTAJE DE NULOS\n"
   ]
  },
  {
   "cell_type": "code",
   "execution_count": null,
   "id": "54c1072a",
   "metadata": {
    "colab": {
     "base_uri": "https://localhost:8080/",
     "height": 397
    },
    "id": "54c1072a",
    "outputId": "b29124ca-3973-4aba-fd44-26f3cd14c404"
   },
   "outputs": [],
   "source": [
    "df_l.isnull().mean()*100"
   ]
  },
  {
   "cell_type": "markdown",
   "id": "a7138955",
   "metadata": {
    "id": "a7138955"
   },
   "source": [
    "CALCULO DE OUTLIERS\n"
   ]
  },
  {
   "cell_type": "code",
   "execution_count": null,
   "id": "6633f447",
   "metadata": {
    "id": "6633f447"
   },
   "outputs": [],
   "source": [
    "Q1 = df_l['Deuda'].quantile(0.25)\n",
    "Q3 = df_l['Deuda'].quantile(0.75)\n",
    "IQR = Q3 - Q1\n",
    "\n",
    "outliers = df_l[(df_l['Deuda'] < Q1-1.5*IQR) | (df_l['Deuda'] > Q3+1.5*IQR)]\n",
    "\n",
    "df_sinOutliers = df_l[(df_l['Deuda'] >= Q1-1.5*IQR) & (df_l['Deuda'] <= Q3+1.5*IQR)]"
   ]
  },
  {
   "cell_type": "code",
   "execution_count": null,
   "id": "db2068dc",
   "metadata": {
    "colab": {
     "base_uri": "https://localhost:8080/",
     "height": 337
    },
    "id": "db2068dc",
    "outputId": "96942058-9f81-429e-e965-0c7c00752651"
   },
   "outputs": [],
   "source": [
    "df_sinOutliers.describe()"
   ]
  },
  {
   "cell_type": "markdown",
   "id": "239fc4bb",
   "metadata": {
    "id": "239fc4bb"
   },
   "source": [
    "BINARIZACIÓN SEGUN PERCENTIL 75\n"
   ]
  },
  {
   "cell_type": "code",
   "execution_count": null,
   "id": "900de9c6",
   "metadata": {
    "id": "900de9c6"
   },
   "outputs": [],
   "source": [
    "import numpy as np\n",
    "\n",
    "p75 = np.percentile(df_sinOutliers['Deuda'], 75)\n",
    "y_bin = (df_sinOutliers['Deuda'] > p75).astype(int)"
   ]
  },
  {
   "cell_type": "code",
   "execution_count": null,
   "id": "b60874dc",
   "metadata": {
    "colab": {
     "base_uri": "https://localhost:8080/",
     "height": 458
    },
    "id": "b60874dc",
    "outputId": "0461e86c-82a5-4a58-ee0e-df37e979673c"
   },
   "outputs": [],
   "source": [
    "y_bin"
   ]
  },
  {
   "cell_type": "markdown",
   "id": "4a3ac457",
   "metadata": {
    "id": "4a3ac457"
   },
   "source": [
    "CONTEO DE VARIABLES 0 Y 1\n"
   ]
  },
  {
   "cell_type": "code",
   "execution_count": null,
   "id": "0cdea2c0",
   "metadata": {
    "colab": {
     "base_uri": "https://localhost:8080/",
     "height": 178
    },
    "id": "0cdea2c0",
    "outputId": "9ffeac1c-db52-416c-aead-1322ef3de90b"
   },
   "outputs": [],
   "source": [
    "y_bin.value_counts()"
   ]
  },
  {
   "cell_type": "markdown",
   "id": "20d45a2f",
   "metadata": {
    "id": "20d45a2f"
   },
   "source": [
    "PORCENTAJE DE DEUDA ALTA\n"
   ]
  },
  {
   "cell_type": "code",
   "execution_count": null,
   "id": "fd785813",
   "metadata": {
    "colab": {
     "base_uri": "https://localhost:8080/"
    },
    "id": "fd785813",
    "outputId": "eb5feabe-477f-4691-d73a-9769068e8678"
   },
   "outputs": [],
   "source": [
    "pct_ones = y_bin.mean()*100\n",
    "pct_ones\n"
   ]
  },
  {
   "cell_type": "markdown",
   "id": "5bf79bb9",
   "metadata": {
    "id": "5bf79bb9"
   },
   "source": [
    "SELECCION DE VARIABLES SIN \"DEUDA\" NI \"ID\"\n"
   ]
  },
  {
   "cell_type": "code",
   "execution_count": null,
   "id": "8b254f75",
   "metadata": {
    "colab": {
     "base_uri": "https://localhost:8080/",
     "height": 423
    },
    "id": "8b254f75",
    "outputId": "69c5ee6c-ddaa-40a8-8fbf-aa06bb9a44fd"
   },
   "outputs": [],
   "source": [
    "x = df_sinOutliers.drop(columns=[\"Deuda\", 'Id']).copy()\n",
    "x"
   ]
  },
  {
   "cell_type": "markdown",
   "id": "a6e488fd",
   "metadata": {
    "id": "a6e488fd"
   },
   "source": [
    "ENTRENAMIENTO\n"
   ]
  },
  {
   "cell_type": "code",
   "execution_count": null,
   "id": "beabab95",
   "metadata": {
    "id": "beabab95"
   },
   "outputs": [],
   "source": [
    "from sklearn.model_selection import train_test_split\n",
    "Xtr, Xte, ytr, yte = train_test_split(\n",
    "    x, y_bin, test_size=0.20,\n",
    "    random_state=42, stratify=y_bin #Porcentaje balanceado\n",
    ")"
   ]
  },
  {
   "cell_type": "code",
   "execution_count": null,
   "id": "b9703079",
   "metadata": {
    "id": "b9703079"
   },
   "outputs": [],
   "source": [
    "from imblearn.over_sampling import RandomOverSampler\n",
    "from imblearn.under_sampling import RandomUnderSampler"
   ]
  },
  {
   "cell_type": "markdown",
   "id": "65843fc5",
   "metadata": {
    "id": "65843fc5"
   },
   "source": [
    "PROPORCION DE CLASE MINORITARIA\n"
   ]
  },
  {
   "cell_type": "code",
   "execution_count": null,
   "id": "0af5532f",
   "metadata": {
    "id": "0af5532f"
   },
   "outputs": [],
   "source": [
    "minor_prop = ytr.value_counts(normalize=True).min() #Normalize ->"
   ]
  },
  {
   "cell_type": "code",
   "execution_count": null,
   "id": "084b1b71",
   "metadata": {
    "colab": {
     "base_uri": "https://localhost:8080/"
    },
    "id": "084b1b71",
    "outputId": "cfa2edde-58e2-416a-cbde-0d72d8e761f8"
   },
   "outputs": [],
   "source": [
    "minor_prop"
   ]
  },
  {
   "cell_type": "markdown",
   "id": "34b094f1",
   "metadata": {
    "id": "34b094f1"
   },
   "source": [
    "TECNICA DE BALANCEO\n"
   ]
  },
  {
   "cell_type": "code",
   "execution_count": null,
   "id": "55803ceb",
   "metadata": {
    "colab": {
     "base_uri": "https://localhost:8080/"
    },
    "id": "55803ceb",
    "outputId": "9543b93e-382a-4435-e09d-5a1fbbe66cd0"
   },
   "outputs": [],
   "source": [
    "if minor_prop < 0.35:\n",
    "    sampler = RandomOverSampler(random_state=42)\n",
    "    tecnica = \"ROS\"\n",
    "elif 0.45 <= minor_prop <= 0.55:\n",
    "    sampler = None\n",
    "    tecnica = \"none\"\n",
    "else:\n",
    "    sampler = RandomUnderSampler(random_state=42)\n",
    "    tecnica = \"RUS\"\n",
    "\n",
    "print(\"Tecnica de balanceo: \", tecnica)"
   ]
  },
  {
   "cell_type": "code",
   "execution_count": null,
   "id": "27fdde50",
   "metadata": {
    "id": "27fdde50"
   },
   "outputs": [],
   "source": [
    "if sampler is not None:\n",
    "    xtr_bal, ytr_bal = sampler.fit_resample(Xtr, ytr)\n",
    "else:\n",
    "    xtr_bal, ytr_bal = Xtr, ytr"
   ]
  },
  {
   "cell_type": "markdown",
   "id": "6a61c50b",
   "metadata": {
    "id": "6a61c50b"
   },
   "source": [
    "PCA\n"
   ]
  },
  {
   "cell_type": "code",
   "execution_count": null,
   "id": "e032b23d",
   "metadata": {
    "colab": {
     "base_uri": "https://localhost:8080/"
    },
    "id": "e032b23d",
    "outputId": "bfdfb034-965a-4396-8389-5e6ecc27945f"
   },
   "outputs": [],
   "source": [
    "from sklearn.decomposition import PCA\n",
    "pca = PCA(n_components=0.95, random_state=42)\n",
    "xtr_pca= pca.fit_transform(xtr_bal)\n",
    "xte_pca = pca.fit_transform(Xte)\n",
    "print(\"Componentes retenidos: \", pca.n_components_)\n",
    "print(\"Varianza acomulada: \", pca.explained_variance_ratio_.sum().round(4))"
   ]
  },
  {
   "cell_type": "markdown",
   "id": "oLti2hP4BjcQ",
   "metadata": {
    "id": "oLti2hP4BjcQ"
   },
   "source": [
    "# Taller 3: Minería de Datos\n"
   ]
  },
  {
   "cell_type": "code",
   "execution_count": null,
   "id": "P_aWP0xuNZjv",
   "metadata": {
    "id": "P_aWP0xuNZjv"
   },
   "outputs": [],
   "source": [
    "sc_pc = StandardScaler()\n",
    "xtr_pca_sc = sc_pc.fit_transform(xtr_pca)\n",
    "xte_pca_sc = sc_pc.fit_transform(xte_pca)"
   ]
  },
  {
   "cell_type": "code",
   "execution_count": null,
   "id": "YLdL9e-XBn-d",
   "metadata": {
    "id": "YLdL9e-XBn-d"
   },
   "outputs": [],
   "source": [
    "from sklearn.neural_network import MLPClassifier\n",
    "from sklearn.metrics import accuracy_score, confusion_matrix, classification_report"
   ]
  },
  {
   "cell_type": "code",
   "execution_count": null,
   "id": "jB8kmT8ULO7f",
   "metadata": {
    "colab": {
     "base_uri": "https://localhost:8080/"
    },
    "id": "jB8kmT8ULO7f",
    "outputId": "3e518d66-186e-49d1-8325-05a7565681e3"
   },
   "outputs": [],
   "source": [
    "mlp = MLPClassifier(\n",
    "    hidden_layer_sizes=(32,16),\n",
    "    alpha = 1e-3, #Alpha -> 0,001 ; Descenso del gradiente busca el punto más bajo\n",
    "    max_iter=500,\n",
    "    activation=\"relu\", # Funcion de activacion de la reurona;\n",
    "    #elige la forma que va a tener cada neurona ; tangentehiperbolica\n",
    "    random_state=42,\n",
    "    early_stopping=True, #Si no varía mucho entre iteraciones, lo detiene.\n",
    ")\n",
    "\n",
    "mlp.fit(Xtr, ytr)\n",
    "y_pred = mlp.predict(Xte)\n",
    "\n",
    "print(\"Accuracy: \", accuracy_score(yte, y_pred))"
   ]
  },
  {
   "cell_type": "markdown",
   "id": "FP9t1dwILLzU",
   "metadata": {
    "id": "FP9t1dwILLzU"
   },
   "source": [
    "# Taller 4: Árbol de desición\n"
   ]
  },
  {
   "cell_type": "code",
   "execution_count": null,
   "id": "aad23dc8",
   "metadata": {},
   "outputs": [],
   "source": [
    "from sklearn.tree import DecisionTreeClassifier, plot_tree\n",
    "from sklearn import tree\n",
    "import matplotlib.pyplot as plt\n",
    "import pandas as pd\n",
    "import numpy as np\n",
    "from sklearn.model_selection import train_test_split\n",
    "from sklearn.preprocessing import OneHotEncoder\n",
    "\n",
    "dfNormal = pd.read_csv('clientes_integrador.csv', sep=';')\n",
    "\n",
    "umbralDeuda = dfNormal['Deuda'].quantile(0.75)\n",
    "dfNormal['claseDeuda'] = np.where(dfNormal['Deuda'] > umbralDeuda, 1, 0)\n",
    "\n",
    "# Impute missing values in 'IngresoMensual' and 'Genero' before one-hot encoding\n",
    "dfNormal['IngresoMensual'].fillna(dfNormal['IngresoMensual'].mean(), inplace=True)\n",
    "dfNormal['Genero'].fillna(dfNormal['Genero'].mode()[0], inplace=True)\n",
    "\n",
    "# Separate features and target\n",
    "xNormal = dfNormal.drop(columns=['Id', 'Deuda', 'claseDeuda'])\n",
    "# Ensure yNormal is the binary 'claseDeuda' column\n",
    "yNormal = dfNormal['claseDeuda']\n",
    "\n",
    "# Apply OneHotEncoder to categorical columns in xNormal\n",
    "categorical_cols = ['Ciudad', 'Genero']\n",
    "ohe = OneHotEncoder(sparse_output=False, handle_unknown='ignore')\n",
    "encoded_features = ohe.fit_transform(xNormal[categorical_cols])\n",
    "encoded_feature_names = ohe.get_feature_names_out(categorical_cols)\n",
    "df_encoded_features = pd.DataFrame(encoded_features, columns=encoded_feature_names, index=xNormal.index)\n",
    "\n",
    "# Combine numerical and encoded categorical features\n",
    "xNormal_processed = pd.concat([xNormal.drop(columns=categorical_cols), df_encoded_features], axis=1)\n",
    "\n",
    "\n",
    "# Split the data\n",
    "Xtr, Xte, ytr, yte = train_test_split(\n",
    "    xNormal_processed, yNormal, test_size=0.20,\n",
    "    random_state=42, stratify=yNormal # Use yNormal (which is now claseDeuda) for stratification\n",
    ")\n",
    "\n",
    "dtc = DecisionTreeClassifier(random_state=42, max_depth=4)\n",
    "dtc = dtc.fit(Xtr, ytr)\n",
    "\n",
    "# Now plot the tree using the correct feature names from the training data (Xtr)\n",
    "plt.figure(figsize=(30,15)) # Adjusted figure size\n",
    "tree.plot_tree(dtc, feature_names=Xtr.columns.tolist(),class_names=['DeudaBaja', 'DeudaAlta'] , filled=True, fontsize=10)\n",
    "plt.show()"
   ]
  }
 ],
 "metadata": {
  "colab": {
   "provenance": []
  },
  "kernelspec": {
   "display_name": "Python 3",
   "language": "python",
   "name": "python3"
  },
  "language_info": {
   "codemirror_mode": {
    "name": "ipython",
    "version": 3
   },
   "file_extension": ".py",
   "mimetype": "text/x-python",
   "name": "python",
   "nbconvert_exporter": "python",
   "pygments_lexer": "ipython3",
   "version": "3.12.10"
  }
 },
 "nbformat": 4,
 "nbformat_minor": 5
}
